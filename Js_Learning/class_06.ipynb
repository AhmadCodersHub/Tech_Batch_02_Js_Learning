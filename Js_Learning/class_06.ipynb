{
 "cells": [
  {
   "cell_type": "markdown",
   "id": "63c18c93-f01d-4fde-adf0-5dbab036d2ec",
   "metadata": {},
   "source": [
    "# Assignment Operators"
   ]
  },
  {
   "cell_type": "code",
   "execution_count": null,
   "id": "cb523564-0bcd-4523-be44-255999012362",
   "metadata": {},
   "outputs": [],
   "source": [
    "// equal to opreator:- =\n",
    "// plus equal to opreator:-  +=\n",
    "// subtractions equal to opreator:- -="
   ]
  },
  {
   "cell_type": "code",
   "execution_count": 1,
   "id": "baf2c462-0c71-4c94-93f9-01008ff69cbc",
   "metadata": {},
   "outputs": [],
   "source": [
    "// equal to opreator:- ="
   ]
  },
  {
   "cell_type": "code",
   "execution_count": 2,
   "id": "1955aa7c-6784-4bc7-a37b-beb000c4032b",
   "metadata": {},
   "outputs": [
    {
     "name": "stdout",
     "output_type": "stream",
     "text": [
      "10\n"
     ]
    }
   ],
   "source": [
    "let x = 10;\n",
    "\n",
    "console.log(x);"
   ]
  },
  {
   "cell_type": "code",
   "execution_count": 3,
   "id": "3fc14965-62d4-4071-b02f-c00ebb1eee41",
   "metadata": {},
   "outputs": [],
   "source": [
    "// plus equal to opreator:-  +="
   ]
  },
  {
   "cell_type": "code",
   "execution_count": 4,
   "id": "8ebb5aa8-fc5d-4643-98b6-bc34b80838e0",
   "metadata": {},
   "outputs": [
    {
     "data": {
      "text/plain": [
       "20"
      ]
     },
     "execution_count": 4,
     "metadata": {},
     "output_type": "execute_result"
    }
   ],
   "source": [
    "x += 10;"
   ]
  },
  {
   "cell_type": "code",
   "execution_count": 5,
   "id": "d46afbe1-7fa5-4b28-8e47-ee5c9adf1cb1",
   "metadata": {},
   "outputs": [
    {
     "name": "stdout",
     "output_type": "stream",
     "text": [
      "20\n"
     ]
    }
   ],
   "source": [
    "console.log(x);"
   ]
  },
  {
   "cell_type": "code",
   "execution_count": 6,
   "id": "c2564b84-886c-41c9-a786-510400c3a4cc",
   "metadata": {},
   "outputs": [],
   "source": [
    "// subtractions equal to opreator:- -="
   ]
  },
  {
   "cell_type": "code",
   "execution_count": 7,
   "id": "de1528c0-7ee7-478c-846b-98eafd6fe175",
   "metadata": {},
   "outputs": [
    {
     "data": {
      "text/plain": [
       "-10"
      ]
     },
     "execution_count": 7,
     "metadata": {},
     "output_type": "execute_result"
    }
   ],
   "source": [
    "x -= 30;"
   ]
  },
  {
   "cell_type": "code",
   "execution_count": 8,
   "id": "4fc8191a-a6a0-432b-9fda-5b7aa9fafec7",
   "metadata": {},
   "outputs": [
    {
     "name": "stdout",
     "output_type": "stream",
     "text": [
      "-10\n"
     ]
    }
   ],
   "source": [
    "console.log(x)"
   ]
  },
  {
   "cell_type": "code",
   "execution_count": null,
   "id": "2719a99e-98db-4089-a726-7d6cfe6fb8c5",
   "metadata": {},
   "outputs": [],
   "source": []
  },
  {
   "cell_type": "markdown",
   "id": "1ba48840-2738-45db-9bf6-dd0e8be8a5b8",
   "metadata": {},
   "source": [
    "# JavaScript Comparison Operators"
   ]
  },
  {
   "cell_type": "code",
   "execution_count": 15,
   "id": "192d4012-d6c1-4e4b-b27f-ff831af9057d",
   "metadata": {},
   "outputs": [],
   "source": [
    "// == \tequal to\n",
    "// === \tequal value and equal type\n",
    "// != \tnot equal\n",
    "// !== \tnot equal value or not equal type\n",
    "// > \tgreater than\n",
    "// < \tless than\n",
    "// >= \tgreater than or equal to\n",
    "// <= \tless than or equal to"
   ]
  },
  {
   "cell_type": "code",
   "execution_count": 17,
   "id": "bd677a14-ad60-4290-a95b-997e84561134",
   "metadata": {},
   "outputs": [],
   "source": [
    "// == \tequal to"
   ]
  },
  {
   "cell_type": "code",
   "execution_count": 16,
   "id": "69cb771c-576f-4ac2-b343-e78a1a5b3329",
   "metadata": {},
   "outputs": [],
   "source": [
    "let a =  10;\n",
    "let b = 20;"
   ]
  },
  {
   "cell_type": "code",
   "execution_count": 18,
   "id": "68ef6525-ea24-458c-af23-ee376173fa19",
   "metadata": {},
   "outputs": [
    {
     "data": {
      "text/plain": [
       "false"
      ]
     },
     "execution_count": 18,
     "metadata": {},
     "output_type": "execute_result"
    }
   ],
   "source": [
    "a == b;"
   ]
  },
  {
   "cell_type": "code",
   "execution_count": 19,
   "id": "e3551b59-68b0-4a5b-a913-465ef73e8189",
   "metadata": {},
   "outputs": [],
   "source": [
    "let item_1 = 'apple';\n",
    "let item_2 = 'apple';"
   ]
  },
  {
   "cell_type": "code",
   "execution_count": 20,
   "id": "56d1dde8-86bf-4550-88a9-a42a5576432b",
   "metadata": {},
   "outputs": [
    {
     "name": "stdout",
     "output_type": "stream",
     "text": [
      "true\n"
     ]
    }
   ],
   "source": [
    "console.log(item_1 == item_2);"
   ]
  },
  {
   "cell_type": "code",
   "execution_count": 24,
   "id": "0875eb25-9eda-49dd-8402-5b9fd80cae10",
   "metadata": {},
   "outputs": [
    {
     "data": {
      "text/plain": [
       "true"
      ]
     },
     "execution_count": 24,
     "metadata": {},
     "output_type": "execute_result"
    }
   ],
   "source": [
    "'10' == 10;"
   ]
  },
  {
   "cell_type": "code",
   "execution_count": 2,
   "id": "7d9a5ee9-fb62-457e-a854-86797ad68322",
   "metadata": {},
   "outputs": [
    {
     "data": {
      "text/plain": [
       "true"
      ]
     },
     "execution_count": 2,
     "metadata": {},
     "output_type": "execute_result"
    }
   ],
   "source": [
    "'10' == 10;"
   ]
  },
  {
   "cell_type": "code",
   "execution_count": 25,
   "id": "3c254d66-835a-4c39-bf30-3f752e405976",
   "metadata": {},
   "outputs": [],
   "source": [
    "// === \tequal value and equal type"
   ]
  },
  {
   "cell_type": "code",
   "execution_count": 26,
   "id": "382e64de-59a6-4de3-896f-0af2813fa1ac",
   "metadata": {},
   "outputs": [
    {
     "data": {
      "text/plain": [
       "false"
      ]
     },
     "execution_count": 26,
     "metadata": {},
     "output_type": "execute_result"
    }
   ],
   "source": [
    "'10' === 10;"
   ]
  },
  {
   "cell_type": "code",
   "execution_count": 5,
   "id": "1711fb71-6805-47a5-a219-6eaaa2fb6e1a",
   "metadata": {},
   "outputs": [
    {
     "data": {
      "text/plain": [
       "true"
      ]
     },
     "execution_count": 5,
     "metadata": {},
     "output_type": "execute_result"
    }
   ],
   "source": [
    "1000 === 1000;"
   ]
  },
  {
   "cell_type": "code",
   "execution_count": 4,
   "id": "446f00c0-4fc6-434b-a795-5b7797208e51",
   "metadata": {},
   "outputs": [
    {
     "data": {
      "text/plain": [
       "true"
      ]
     },
     "execution_count": 4,
     "metadata": {},
     "output_type": "execute_result"
    }
   ],
   "source": [
    "'1000' === '1000';"
   ]
  },
  {
   "cell_type": "code",
   "execution_count": 32,
   "id": "c9e9a924-96a7-47f4-a759-ddc1b43d4138",
   "metadata": {},
   "outputs": [
    {
     "data": {
      "text/plain": [
       "true"
      ]
     },
     "execution_count": 32,
     "metadata": {},
     "output_type": "execute_result"
    }
   ],
   "source": [
    "10 === 10;"
   ]
  },
  {
   "cell_type": "code",
   "execution_count": 28,
   "id": "4dce2928-8c5f-492f-bfa9-8656d743c689",
   "metadata": {},
   "outputs": [],
   "source": [
    "// check type of method"
   ]
  },
  {
   "cell_type": "code",
   "execution_count": 27,
   "id": "6e1d0cc1-2494-4406-a0cf-9452fa5a665b",
   "metadata": {},
   "outputs": [
    {
     "name": "stdout",
     "output_type": "stream",
     "text": [
      "string\n"
     ]
    }
   ],
   "source": [
    "console.log(typeof(item_2));"
   ]
  },
  {
   "cell_type": "code",
   "execution_count": 29,
   "id": "103126e5-01b6-49df-9156-899e2207a4fd",
   "metadata": {},
   "outputs": [
    {
     "name": "stdout",
     "output_type": "stream",
     "text": [
      "number\n"
     ]
    }
   ],
   "source": [
    "console.log(typeof(12));"
   ]
  },
  {
   "cell_type": "code",
   "execution_count": 30,
   "id": "0f935f48-012f-41d7-a474-5b6bd2157155",
   "metadata": {},
   "outputs": [
    {
     "name": "stdout",
     "output_type": "stream",
     "text": [
      "boolean\n"
     ]
    }
   ],
   "source": [
    "console.log(typeof(true));"
   ]
  },
  {
   "cell_type": "code",
   "execution_count": 31,
   "id": "e7b3d3bc-a5da-4b98-a647-1f3adfa8c285",
   "metadata": {},
   "outputs": [
    {
     "name": "stdout",
     "output_type": "stream",
     "text": [
      "boolean\n"
     ]
    }
   ],
   "source": [
    "console.log(typeof(false));"
   ]
  }
 ],
 "metadata": {
  "kernelspec": {
   "display_name": "JavaScript (Node.js)",
   "language": "javascript",
   "name": "javascript"
  },
  "language_info": {
   "file_extension": ".js",
   "mimetype": "application/javascript",
   "name": "javascript",
   "version": "20.19.0"
  }
 },
 "nbformat": 4,
 "nbformat_minor": 5
}
