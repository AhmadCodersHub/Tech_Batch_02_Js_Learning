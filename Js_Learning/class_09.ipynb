{
 "cells": [
  {
   "cell_type": "markdown",
   "id": "bfb98b7f-8cbe-46c8-b4c3-35a727c6cd9f",
   "metadata": {},
   "source": [
    "# JavaScript Datatypes"
   ]
  },
  {
   "cell_type": "code",
   "execution_count": null,
   "id": "8f183e48-5c62-41e5-b506-37e67ef8f915",
   "metadata": {},
   "outputs": [],
   "source": [
    "// String\n",
    "// Number\n",
    "// Boolean\n",
    "// Null\n",
    "// Object -> Array & Maps"
   ]
  },
  {
   "cell_type": "code",
   "execution_count": 1,
   "id": "f177c20e-ed12-4fd5-881d-2aca2c09ce31",
   "metadata": {},
   "outputs": [],
   "source": [
    "// Null"
   ]
  },
  {
   "cell_type": "code",
   "execution_count": 1,
   "id": "098d5686-f7dd-49ee-8809-4f503bb78b2e",
   "metadata": {},
   "outputs": [],
   "source": [
    "let calculate_value = null; "
   ]
  },
  {
   "cell_type": "code",
   "execution_count": 2,
   "id": "c5d711e8-b6a3-4f2f-9dba-5389a2d137c0",
   "metadata": {},
   "outputs": [
    {
     "name": "stdout",
     "output_type": "stream",
     "text": [
      "null\n",
      "object\n"
     ]
    }
   ],
   "source": [
    "console.log(calculate_value);\n",
    "console.log(typeof(calculate_value)); "
   ]
  },
  {
   "cell_type": "code",
   "execution_count": 3,
   "id": "b3021fca-0059-4f7b-b47d-64c17ad0d68f",
   "metadata": {},
   "outputs": [
    {
     "name": "stdout",
     "output_type": "stream",
     "text": [
      "20\n"
     ]
    }
   ],
   "source": [
    "let num_1 = 10;\n",
    "let num_2 = 10;\n",
    "calculate_value += num_1 + num_2;\n",
    "console.log(calculate_value);"
   ]
  },
  {
   "cell_type": "code",
   "execution_count": null,
   "id": "ee205248-f9ea-433b-a211-625c3d0966ea",
   "metadata": {},
   "outputs": [],
   "source": [
    "// Array "
   ]
  },
  {
   "cell_type": "code",
   "execution_count": null,
   "id": "009b0449-9eb6-420c-816b-395a82390dc2",
   "metadata": {},
   "outputs": [],
   "source": [
    "let sulman_result = 70;\n",
    "let adil_result = 70;\n",
    "let mohsin_result = 70;\n",
    "let rizwan_result = 70;\n",
    "let furqan_result = 70;"
   ]
  },
  {
   "cell_type": "code",
   "execution_count": 1,
   "id": "0568b42b-b06b-4e1e-9dc1-a7984d4ab17a",
   "metadata": {},
   "outputs": [
    {
     "name": "stdout",
     "output_type": "stream",
     "text": [
      "[\n",
      "  'sulman', 70,\n",
      "  'adil',   70,\n",
      "  'mohsin', 70,\n",
      "  'rizwan', 70,\n",
      "  'furqan', 70\n",
      "]\n"
     ]
    }
   ],
   "source": [
    "let all_student_results = ['sulman',70,'adil',70,'mohsin',70,'rizwan',70,'furqan',70];\n",
    "console.log(all_student_results); "
   ]
  },
  {
   "cell_type": "code",
   "execution_count": 5,
   "id": "8e95fcec-8f7f-4aaf-9b25-e83d8619c0fc",
   "metadata": {},
   "outputs": [
    {
     "name": "stdout",
     "output_type": "stream",
     "text": [
      "object\n"
     ]
    }
   ],
   "source": [
    "console.log(typeof(all_student_results));"
   ]
  },
  {
   "cell_type": "code",
   "execution_count": null,
   "id": "aaf59f10-c72b-4754-bf3c-e19fe7261a8c",
   "metadata": {},
   "outputs": [],
   "source": [
    "// accessing or indexing method"
   ]
  },
  {
   "cell_type": "code",
   "execution_count": null,
   "id": "883f62a7-9b5f-4d6f-a9dd-eabc284daf7f",
   "metadata": {},
   "outputs": [],
   "source": [
    "// positive accessing or indexing"
   ]
  },
  {
   "cell_type": "code",
   "execution_count": 7,
   "id": "2dc7bc66-02ee-4b7c-9f43-ad681d07ac07",
   "metadata": {},
   "outputs": [
    {
     "name": "stdout",
     "output_type": "stream",
     "text": [
      "furqan\n"
     ]
    }
   ],
   "source": [
    "console.log(all_student_results[8]);"
   ]
  },
  {
   "cell_type": "code",
   "execution_count": 8,
   "id": "0dcffc59-6894-48b5-8ab6-c6e9020da61b",
   "metadata": {},
   "outputs": [
    {
     "name": "stdout",
     "output_type": "stream",
     "text": [
      "10\n"
     ]
    }
   ],
   "source": [
    "console.log(all_student_results.length);"
   ]
  }
 ],
 "metadata": {
  "kernelspec": {
   "display_name": "JavaScript (Node.js)",
   "language": "javascript",
   "name": "javascript"
  },
  "language_info": {
   "file_extension": ".js",
   "mimetype": "application/javascript",
   "name": "javascript",
   "version": "20.18.3"
  }
 },
 "nbformat": 4,
 "nbformat_minor": 5
}
