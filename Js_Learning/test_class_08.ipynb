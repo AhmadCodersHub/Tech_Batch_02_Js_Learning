{
 "cells": [
  {
   "cell_type": "code",
   "execution_count": 1,
   "id": "cfa57946-4d61-4006-8fb3-e39c387183ba",
   "metadata": {},
   "outputs": [
    {
     "name": "stdout",
     "output_type": "stream",
     "text": [
      "1182\n"
     ]
    }
   ],
   "source": [
    "let str_value = 120;\n",
    "let number_value = '2';\n",
    "\n",
    "console.log(str_value - number_value + '2');"
   ]
  },
  {
   "cell_type": "code",
   "execution_count": 2,
   "id": "01a7df5c-9760-4141-a6ee-162e5f85992e",
   "metadata": {},
   "outputs": [],
   "source": [
    "// Sulman:- 12022 :- wrong answer\n",
    "// Adil:- 1182:- due to str_value - number_value = '118' + 2 = '1182':- correct answer\n",
    "// Furqan:- 1182:- due to str_value - number_value = '118' + 2 = '1182':- correct answer\n",
    "// Rizwan:- 120:- wrong answer\n",
    "// Mohsin:- 1182:- due to str_value - number_value = '118' + 2 = '1182':- correct answer"
   ]
  },
  {
   "cell_type": "code",
   "execution_count": null,
   "id": "c64fc077-e980-49ff-aa0d-eb287ac5acc1",
   "metadata": {},
   "outputs": [],
   "source": []
  },
  {
   "cell_type": "code",
   "execution_count": 1,
   "id": "c103644d-0cea-49a6-8bae-1653826bfc82",
   "metadata": {},
   "outputs": [
    {
     "name": "stdout",
     "output_type": "stream",
     "text": [
      "this is a pen. its price is num_1 PKR\n"
     ]
    }
   ],
   "source": [
    "let num_1 = 120;\n",
    "let str_text = 'this is a pen. its price is num_1 PKR';\n",
    "\n",
    "console.log(str_text);"
   ]
  },
  {
   "cell_type": "code",
   "execution_count": null,
   "id": "27188c2b-ff17-42ae-97ec-9b6e30f5cf91",
   "metadata": {},
   "outputs": [],
   "source": []
  },
  {
   "cell_type": "code",
   "execution_count": null,
   "id": "81a62542-9d11-40b3-9b30-8f8c2394c9b0",
   "metadata": {},
   "outputs": [],
   "source": [
    "// Sulman:- this is a pen. its price is num_1 PKR:- correct answer\n",
    "// Adil:- this is a pen. its price is num_1 PKR:- correct answer\n",
    "// Furqan:- this is a pen. its price is num_1 PKR:- correct answer\n",
    "// Rizwan:- this is a pen. its price is num_1 PKR:- correct answer\n",
    "// Mohsin:- this is a pen. its price is num_1 PKR:- correct answer"
   ]
  },
  {
   "cell_type": "code",
   "execution_count": null,
   "id": "cf4022c6-6697-406c-955e-28262693444f",
   "metadata": {},
   "outputs": [],
   "source": []
  },
  {
   "cell_type": "code",
   "execution_count": 2,
   "id": "844babef-c8ff-4184-855b-fac6b34113d4",
   "metadata": {},
   "outputs": [
    {
     "ename": "SyntaxError",
     "evalue": "Identifier 'num_1' has already been declared",
     "execution_count": 2,
     "output_type": "error",
     "traceback": [
      "evalmachine.<anonymous>:1",
      "let num_1 = 10;",
      "^",
      "",
      "SyntaxError: Identifier 'num_1' has already been declared",
      "    at Script.runInThisContext (node:vm:137:12)",
      "    at Object.runInThisContext (node:vm:317:38)",
      "    at run ([eval]:1020:15)",
      "    at onRunRequest ([eval]:864:18)",
      "    at onMessage ([eval]:828:13)",
      "    at process.emit (node:events:518:28)",
      "    at emit (node:internal/child_process:950:14)",
      "    at process.processTicksAndRejections (node:internal/process/task_queues:83:21)"
     ]
    }
   ],
   "source": [
    "let num_1 = 10;\n",
    "let num_2 = 11;\n",
    "let num_3 = 111;\n",
    "let num_4 = 18;\n",
    "let num_5 = 20;\n",
    "let num_6 = 90;\n",
    "let num_7 = 01;\n",
    "let num_8 = 010;\n",
    "\n",
    "const checking_value = num_1 > num_7 && num_6 < '400.0';\n",
    "console.log(checking_value * 2);"
   ]
  },
  {
   "cell_type": "code",
   "execution_count": null,
   "id": "e75d0364-9de2-42f1-91d8-2c3a9067b57f",
   "metadata": {},
   "outputs": [],
   "source": [
    "// Sulman:- Error:- due to this reason. we can not multiply boolean value with number:- Wrong answer\n",
    "// Adil:- 2:- due to this reason:- we received true after checking value. then multiply it with 2. the default value of true is 1. 1 * 2 = 2 :- Wrong answer\n",
    "// Furqan:- Error:- due to use const variable. :- Wrong answer\n",
    "// Rizwan:- 2:- due to this reason:- we received true after checking value. then multiply it with 2. the default value of true is 1. 1 * 2 = 2 :- Wrong answer\n",
    "// Mohsin:- 2:- due to this reason:- we received true after checking value. then multiply it with 2. the default value of true is 1. 1 * 2 = 2 :- Wrong answer"
   ]
  },
  {
   "cell_type": "code",
   "execution_count": null,
   "id": "e33beea4-d609-4cf2-a820-90224751b68c",
   "metadata": {},
   "outputs": [],
   "source": []
  },
  {
   "cell_type": "code",
   "execution_count": null,
   "id": "35eaa25d-e409-4a56-82ff-7a424f7112e7",
   "metadata": {},
   "outputs": [],
   "source": []
  },
  {
   "cell_type": "code",
   "execution_count": 3,
   "id": "ec55c172-582f-4e8a-8e8d-1f173a5f4f1b",
   "metadata": {},
   "outputs": [
    {
     "name": "stdout",
     "output_type": "stream",
     "text": [
      "if answer is true then you can go Cinema and enjoy movie else you are not adult right now. Please go home. true\n"
     ]
    }
   ],
   "source": [
    "let age = 20;\n",
    "let check_valid_age = age >= 18 && age <= 50;\n",
    "console.log('if answer is true then you can go Cinema and enjoy movie else you are not adult right now. Please go home.',check_valid_age);"
   ]
  },
  {
   "cell_type": "code",
   "execution_count": null,
   "id": "01e21bf1-cb3b-4ee6-8d25-65d569ad19e3",
   "metadata": {},
   "outputs": [],
   "source": [
    "// Sulman:- if answer is true then you can go Cinema and enjoy movie else you are not adult right now. Please go home. false :- Wrong Answer\n",
    "// Adil:- if answer is true then you can go Cinema and enjoy movie else you are not adult right now. Please go home. false:- Wrong Answer\n",
    "// Furqan:- if answer is true then you can go Cinema and enjoy movie else you are not adult right now. Please go home. true:- Correct Answer\n",
    "// Rizwan:- if answer is true then you can go Cinema and enjoy movie else you are not adult right now. Please go home. false:- Wrong Answer\n",
    "// Mohsin:- Error:- due to prints out the string in console.log():- Wrong Answer"
   ]
  },
  {
   "cell_type": "code",
   "execution_count": null,
   "id": "ff83a2a4-eb09-40d7-a515-5f5050796fcd",
   "metadata": {},
   "outputs": [],
   "source": []
  },
  {
   "cell_type": "code",
   "execution_count": 1,
   "id": "00bd9987-5a42-4c36-8ec1-a12b3f96a9e4",
   "metadata": {},
   "outputs": [
    {
     "name": "stdout",
     "output_type": "stream",
     "text": [
      "true\n"
     ]
    }
   ],
   "source": [
    "let string_1 = 'Ali and Furqan want to go lahore for a trip.';\n",
    "let total_word = string_1.length + '.0';\n",
    "let check_values = total_word <= 60 || total_word >= 60;\n",
    "console.log(check_values); "
   ]
  },
  {
   "cell_type": "code",
   "execution_count": null,
   "id": "ffd63ffe-9a7f-4205-bece-195da8264552",
   "metadata": {},
   "outputs": [],
   "source": [
    "// Sulman:- true:- due to total_world value is 34.0 and it is less than 60:- correct answer\n",
    "// Adil:- true:- due to total_world value is 34.0 and it is less than 60:- correct answer\n",
    "// Furqan:- true:- due to total_world value is 44.0 and it is less than 60:- correct answer\n",
    "// Rizwan:- true:- due to total_world value is 45.0 and it is less than 60:- correct answer\n",
    "// Mohsin:- true:- due to total_world value is 44.0 and it is less than 60:- correct answer"
   ]
  },
  {
   "cell_type": "code",
   "execution_count": 2,
   "id": "008b85ed-dbc3-4416-a441-584790439ad5",
   "metadata": {},
   "outputs": [
    {
     "data": {
      "text/plain": [
       "'44.0'"
      ]
     },
     "execution_count": 2,
     "metadata": {},
     "output_type": "execute_result"
    }
   ],
   "source": [
    "total_word"
   ]
  },
  {
   "cell_type": "code",
   "execution_count": 3,
   "id": "82b7e34a-e4df-4006-bbaa-967498c596a8",
   "metadata": {},
   "outputs": [
    {
     "ename": "SyntaxError",
     "evalue": "Unexpected token ';'",
     "execution_count": 3,
     "output_type": "error",
     "traceback": [
      "evalmachine.<anonymous>:1",
      "console.log((1 > -500000000000000;)",
      "                                 ^",
      "",
      "SyntaxError: Unexpected token ';'",
      "    at new Script (node:vm:117:7)",
      "    at createScript (node:vm:269:10)",
      "    at Object.runInThisContext (node:vm:317:10)",
      "    at run ([eval]:1020:15)",
      "    at onRunRequest ([eval]:864:18)",
      "    at onMessage ([eval]:828:13)",
      "    at process.emit (node:events:518:28)",
      "    at emit (node:internal/child_process:950:14)",
      "    at process.processTicksAndRejections (node:internal/process/task_queues:83:21)"
     ]
    }
   ],
   "source": [
    "console.log((1 > -500000000000000;)\n"
   ]
  },
  {
   "cell_type": "code",
   "execution_count": null,
   "id": "5bc72c7f-d258-44dc-9b51-c49e3e211550",
   "metadata": {},
   "outputs": [],
   "source": [
    "// Sulman:- Error:- Correct Answer\n",
    "// Adil:- true:- Wrong Answer\n",
    "// Furqan:- true:- Wrong Answer\n",
    "// Rizwan:- true:- Wrong Answer\n",
    "// Mohsin:- true:- Wrong Answer"
   ]
  }
 ],
 "metadata": {
  "kernelspec": {
   "display_name": "JavaScript (Node.js)",
   "language": "javascript",
   "name": "javascript"
  },
  "language_info": {
   "file_extension": ".js",
   "mimetype": "application/javascript",
   "name": "javascript",
   "version": "20.18.3"
  }
 },
 "nbformat": 4,
 "nbformat_minor": 5
}
