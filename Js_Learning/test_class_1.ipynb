{
 "cells": [
  {
   "cell_type": "code",
   "execution_count": 3,
   "id": "3d898174-68ba-4ded-9ae5-484795e3c9a9",
   "metadata": {},
   "outputs": [
    {
     "name": "stdout",
     "output_type": "stream",
     "text": [
      "hello world\n"
     ]
    }
   ],
   "source": [
    "console.log('hello world');"
   ]
  },
  {
   "cell_type": "code",
   "execution_count": null,
   "id": "9f466ea1-3b11-426f-a2ed-b7b43429dc36",
   "metadata": {},
   "outputs": [],
   "source": []
  },
  {
   "cell_type": "code",
   "execution_count": null,
   "id": "fb8d3dde-1762-43a6-8751-f3934894d307",
   "metadata": {},
   "outputs": [],
   "source": []
  },
  {
   "cell_type": "code",
   "execution_count": 4,
   "id": "5f814b10-c80e-448f-af4e-d654cb1da922",
   "metadata": {},
   "outputs": [
    {
     "data": {
      "text/plain": [
       "10"
      ]
     },
     "execution_count": 4,
     "metadata": {},
     "output_type": "execute_result"
    }
   ],
   "source": [
    "a = 20;\n",
    "b = 10;"
   ]
  },
  {
   "cell_type": "code",
   "execution_count": 7,
   "id": "e5cd166a-bc7e-4308-8202-4fc6550368ce",
   "metadata": {},
   "outputs": [
    {
     "data": {
      "text/plain": [
       "30"
      ]
     },
     "execution_count": 7,
     "metadata": {},
     "output_type": "execute_result"
    }
   ],
   "source": [
    "console.log(a + b);"
   ]
  },
  {
   "cell_type": "code",
   "execution_count": null,
   "id": "0d41368c-c689-44b7-904e-ea69fa428b66",
   "metadata": {},
   "outputs": [],
   "source": []
  },
  {
   "cell_type": "code",
   "execution_count": null,
   "id": "5fcdd15b-7c28-451d-b6fe-fd6a845f8150",
   "metadata": {},
   "outputs": [],
   "source": []
  },
  {
   "cell_type": "code",
   "execution_count": null,
   "id": "a81f9b20-f2e9-4f67-9b71-eae1c36294f6",
   "metadata": {},
   "outputs": [],
   "source": []
  }
 ],
 "metadata": {
  "kernelspec": {
   "display_name": "JavaScript (Node.js)",
   "language": "javascript",
   "name": "javascript"
  },
  "language_info": {
   "file_extension": ".js",
   "mimetype": "application/javascript",
   "name": "javascript",
   "version": "20.19.0"
  }
 },
 "nbformat": 4,
 "nbformat_minor": 5
}
