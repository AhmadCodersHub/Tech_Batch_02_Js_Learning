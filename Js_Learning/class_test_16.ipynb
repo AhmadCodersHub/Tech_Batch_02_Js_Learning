{
 "cells": [
  {
   "cell_type": "code",
   "execution_count": null,
   "id": "a8b8b810-e675-4ca2-aa3a-e47573d97e33",
   "metadata": {},
   "outputs": [],
   "source": []
  },
  {
   "cell_type": "code",
   "execution_count": 1,
   "id": "be81a488-07ba-4217-af09-9fc05261fd58",
   "metadata": {},
   "outputs": [],
   "source": [
    "let random_text = '   this                     is                      a                   book.                          ';\n",
    "// output should be like this\n",
    "// this is a book."
   ]
  },
  {
   "cell_type": "code",
   "execution_count": 2,
   "id": "08f4b1c1-303d-4040-9e7b-6d50942fce41",
   "metadata": {},
   "outputs": [],
   "source": [
    "// correct answer\n",
    "let remove_outside_spaces = random_text.trim();"
   ]
  },
  {
   "cell_type": "code",
   "execution_count": 3,
   "id": "366c6c13-7327-419e-81bd-3923168503fd",
   "metadata": {},
   "outputs": [
    {
     "name": "stdout",
     "output_type": "stream",
     "text": [
      "this is a book.\n"
     ]
    }
   ],
   "source": [
    "let convert_to_symbol = remove_outside_spaces.split(' ').join('+');\n",
    "let clean_text = convert_to_symbol.replace('+++++++++++++++++++++',' ').replace('++++++++++++++++++++++',' ').replace('+++++++++++++++++++',' ');\n",
    "console.log(clean_text);"
   ]
  },
  {
   "cell_type": "code",
   "execution_count": null,
   "id": "fd4de708-f1c7-4912-83d6-8c65bf333817",
   "metadata": {},
   "outputs": [],
   "source": []
  },
  {
   "cell_type": "code",
   "execution_count": 2,
   "id": "160ffbf5-9102-4de9-9981-db1a39b03942",
   "metadata": {},
   "outputs": [
    {
     "ename": "ReferenceError",
     "evalue": "let is not defined",
     "execution_count": 2,
     "output_type": "error",
     "traceback": [
      "evalmachine.<anonymous>:2",
      "let ",
      "^",
      "",
      "ReferenceError: let is not defined",
      "    at evalmachine.<anonymous>:2:1",
      "    at Script.runInThisContext (node:vm:137:12)",
      "    at Object.runInThisContext (node:vm:317:38)",
      "    at run ([eval]:1020:15)",
      "    at onRunRequest ([eval]:864:18)",
      "    at onMessage ([eval]:828:13)",
      "    at process.emit (node:events:524:28)",
      "    at emit (node:internal/child_process:950:14)",
      "    at process.processTicksAndRejections (node:internal/process/task_queues:83:21)"
     ]
    }
   ],
   "source": [
    "// furqan\n",
    "let "
   ]
  },
  {
   "cell_type": "code",
   "execution_count": null,
   "id": "92c51715-d677-4f79-8faa-09a890b3c019",
   "metadata": {},
   "outputs": [],
   "source": []
  },
  {
   "cell_type": "code",
   "execution_count": 3,
   "id": "1349798c-54e3-4fa2-9606-5b2a6f970a68",
   "metadata": {},
   "outputs": [],
   "source": [
    "// rizwan\n",
    "let clean = random_text.trim();\n",
    "// let "
   ]
  },
  {
   "cell_type": "code",
   "execution_count": null,
   "id": "0f7466f8-1024-4d58-8c99-624409963ca2",
   "metadata": {},
   "outputs": [],
   "source": []
  },
  {
   "cell_type": "code",
   "execution_count": 4,
   "id": "611f91a3-b42d-4856-b3e1-ccb2c5d2851f",
   "metadata": {},
   "outputs": [
    {
     "name": "stdout",
     "output_type": "stream",
     "text": [
      "this                     is                      a                   book.\n"
     ]
    }
   ],
   "source": [
    "// adil\n",
    "let random_text_2 = random_text.trim();\n",
    "console.log(random_text_2);"
   ]
  },
  {
   "cell_type": "code",
   "execution_count": null,
   "id": "bfe87fcc-2a69-461c-8104-c71db5bcbfcd",
   "metadata": {},
   "outputs": [],
   "source": []
  },
  {
   "cell_type": "code",
   "execution_count": 5,
   "id": "aeeba6b5-15bc-4ad9-ace3-9be36be2b7ef",
   "metadata": {},
   "outputs": [
    {
     "name": "stdout",
     "output_type": "stream",
     "text": [
      "   this                     is                      a                   book.                          \n"
     ]
    }
   ],
   "source": [
    "// sulman \n",
    "console.log(random_text.replaceAll());"
   ]
  },
  {
   "cell_type": "code",
   "execution_count": null,
   "id": "0034cfce-dd86-4b40-b131-8ea5fbf48081",
   "metadata": {},
   "outputs": [],
   "source": []
  },
  {
   "cell_type": "code",
   "execution_count": 6,
   "id": "3b603ad0-7ce7-4996-927a-94237b05fec7",
   "metadata": {},
   "outputs": [
    {
     "name": "stdout",
     "output_type": "stream",
     "text": [
      "this                     is                      a                   book.\n"
     ]
    }
   ],
   "source": [
    "// mohsin\n",
    "let random_text_1 = random_text.trim();\n",
    "console.log(random_text_1);"
   ]
  },
  {
   "cell_type": "code",
   "execution_count": null,
   "id": "dc163134-a46c-48dd-ad04-d37e3c5d044c",
   "metadata": {},
   "outputs": [],
   "source": []
  },
  {
   "cell_type": "code",
   "execution_count": 4,
   "id": "be386200-0d13-483d-a0a5-52af7ff34f78",
   "metadata": {},
   "outputs": [],
   "source": [
    "let array_list = ['apple','banana','mango','orange'];\n",
    "let array_list_2 = ['first furit name is','second furit name is','third furit name is','four furit name is'];\n",
    "// output should be like this \n",
    "// first furit name is:- apple \n",
    "// second furit name is:- banana \n",
    "// third furit name is:- mango \n",
    "// four furit name is:- orange "
   ]
  },
  {
   "cell_type": "code",
   "execution_count": 5,
   "id": "a8621622-1cd1-4ab8-9b2a-9e4665bd955e",
   "metadata": {},
   "outputs": [
    {
     "name": "stdout",
     "output_type": "stream",
     "text": [
      "first furit name is:- apple\n",
      "second furit name is:- banana\n",
      "third furit name is:- mango\n",
      "four furit name is:- orange\n"
     ]
    }
   ],
   "source": [
    "let first_furit = array_list[0];\n",
    "let second_furit = array_list[1];\n",
    "let third_furit = array_list[2];\n",
    "let four_furit = array_list.at(-1);\n",
    "\n",
    "let first_querry = array_list_2[0] + ':- ';\n",
    "let second_querry = array_list_2[1] + ':- ';\n",
    "let third_querry = array_list_2[2] + ':- ';\n",
    "let four_querry = array_list_2[3] + ':- ';\n",
    "\n",
    "console.log(first_querry + first_furit);\n",
    "console.log(second_querry + second_furit);\n",
    "console.log(third_querry + third_furit);\n",
    "console.log(four_querry + four_furit);"
   ]
  },
  {
   "cell_type": "code",
   "execution_count": null,
   "id": "5252508f-a48b-4cb2-a3bb-abf85514fbdb",
   "metadata": {},
   "outputs": [],
   "source": []
  },
  {
   "cell_type": "code",
   "execution_count": null,
   "id": "9d317a79-8c02-4d4d-bf60-6f003034747a",
   "metadata": {},
   "outputs": [],
   "source": []
  },
  {
   "cell_type": "code",
   "execution_count": null,
   "id": "6815e463-db16-4f08-9a0d-8532326ecbaa",
   "metadata": {},
   "outputs": [],
   "source": [
    "// sulman\n"
   ]
  },
  {
   "cell_type": "code",
   "execution_count": null,
   "id": "9ec25c3b-0711-4582-bdfa-eb4077d16ec2",
   "metadata": {},
   "outputs": [],
   "source": [
    "// furqan\n",
    "// nan"
   ]
  },
  {
   "cell_type": "code",
   "execution_count": null,
   "id": "ee024319-8191-4988-a5b7-a9b433240b8e",
   "metadata": {},
   "outputs": [],
   "source": [
    "// mohin\n",
    "let array_list_1 = array_list.length;\n",
    "// Nan"
   ]
  },
  {
   "cell_type": "code",
   "execution_count": null,
   "id": "5c333b43-ce3f-4573-afed-131818913bb7",
   "metadata": {},
   "outputs": [],
   "source": [
    "// adil\n",
    "let array_list_3 = array_list.slice(0,5);\n",
    "let array_list_4 = array_list.slice()"
   ]
  },
  {
   "cell_type": "code",
   "execution_count": null,
   "id": "eff5c76d-1746-4a40-a5eb-084b51f5c701",
   "metadata": {},
   "outputs": [],
   "source": []
  },
  {
   "cell_type": "code",
   "execution_count": null,
   "id": "ecbfbb71-fd44-40eb-a2d5-aa9f1c44f88b",
   "metadata": {},
   "outputs": [],
   "source": []
  },
  {
   "cell_type": "code",
   "execution_count": null,
   "id": "4558657a-070f-4c16-b93a-fd3438113e24",
   "metadata": {},
   "outputs": [],
   "source": []
  },
  {
   "cell_type": "code",
   "execution_count": null,
   "id": "d3c7e994-08f6-4ee4-b6fb-3bca679aef1c",
   "metadata": {},
   "outputs": [],
   "source": []
  },
  {
   "cell_type": "code",
   "execution_count": null,
   "id": "ac603b84-626c-494d-9b93-d5682dca7fde",
   "metadata": {},
   "outputs": [],
   "source": []
  },
  {
   "cell_type": "code",
   "execution_count": null,
   "id": "9189e26f-38a3-4e14-8451-299046463f2f",
   "metadata": {},
   "outputs": [],
   "source": []
  },
  {
   "cell_type": "code",
   "execution_count": null,
   "id": "f50bce8a-7fb2-4ec8-bd61-58d20aab0101",
   "metadata": {},
   "outputs": [],
   "source": []
  },
  {
   "cell_type": "code",
   "execution_count": null,
   "id": "1f08f296-6a7a-44b7-a2a2-471ae9bbc2f6",
   "metadata": {},
   "outputs": [],
   "source": [
    "// rizwan\n",
    "// nan\n",
    "console.log(array_list_2)"
   ]
  },
  {
   "cell_type": "code",
   "execution_count": null,
   "id": "64dfbb0b-8a10-49ab-a244-21d2bfbca08a",
   "metadata": {},
   "outputs": [],
   "source": []
  },
  {
   "cell_type": "code",
   "execution_count": null,
   "id": "547d7cb2-4bfc-40ce-b006-dd8b52279355",
   "metadata": {},
   "outputs": [],
   "source": []
  },
  {
   "cell_type": "code",
   "execution_count": null,
   "id": "464c9b3e-b89e-451a-8724-6a30c121eba3",
   "metadata": {},
   "outputs": [],
   "source": []
  },
  {
   "cell_type": "code",
   "execution_count": null,
   "id": "caa262e5-9559-49f8-bb3e-145baa3dd3d3",
   "metadata": {},
   "outputs": [],
   "source": []
  },
  {
   "cell_type": "code",
   "execution_count": null,
   "id": "7b73750a-8e2d-4c81-9c26-f164df2075f4",
   "metadata": {},
   "outputs": [],
   "source": []
  },
  {
   "cell_type": "code",
   "execution_count": null,
   "id": "0a6fe9dd-279d-4e27-9b0c-c611cd63e4d2",
   "metadata": {},
   "outputs": [],
   "source": []
  },
  {
   "cell_type": "code",
   "execution_count": null,
   "id": "d81de1cc-f77c-4a26-a50c-d473c171e1b0",
   "metadata": {},
   "outputs": [],
   "source": []
  },
  {
   "cell_type": "code",
   "execution_count": null,
   "id": "d7508051-3a27-438d-ad6e-2749b378b397",
   "metadata": {},
   "outputs": [],
   "source": []
  },
  {
   "cell_type": "code",
   "execution_count": null,
   "id": "e2097b10-f946-4839-b7f1-b45544522b1e",
   "metadata": {},
   "outputs": [],
   "source": []
  }
 ],
 "metadata": {
  "kernelspec": {
   "display_name": "JavaScript (Node.js)",
   "language": "javascript",
   "name": "javascript"
  },
  "language_info": {
   "file_extension": ".js",
   "mimetype": "application/javascript",
   "name": "javascript",
   "version": "20.19.0"
  }
 },
 "nbformat": 4,
 "nbformat_minor": 5
}
