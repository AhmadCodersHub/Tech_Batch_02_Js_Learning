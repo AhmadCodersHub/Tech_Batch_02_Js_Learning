{
 "cells": [
  {
   "cell_type": "code",
   "execution_count": 1,
   "id": "5b24910b-49ff-48ae-9055-d8492608264c",
   "metadata": {},
   "outputs": [],
   "source": [
    "let person_details = {\n",
    "    'person name': 'ali raza',\n",
    "    'finish education year': 2023,\n",
    "    'age':24,\n",
    "    'subject':'computer',\n",
    "}"
   ]
  },
  {
   "cell_type": "code",
   "execution_count": null,
   "id": "27a4040d-ce3c-4edb-a273-50d3943decd9",
   "metadata": {},
   "outputs": [],
   "source": [
    "// this person details are old. now this person are working in their own business. your work is calculate the age and finish education year and prints\n",
    "// the current age and current year of finish education\n",
    "// example:-\n",
    "// finsih education year 2024\n",
    "// current age 25"
   ]
  },
  {
   "cell_type": "code",
   "execution_count": 4,
   "id": "96a96b09-4f82-4dd7-9081-c7a2a96f6e3c",
   "metadata": {},
   "outputs": [
    {
     "name": "stdout",
     "output_type": "stream",
     "text": [
      "finsih education year 2023\n",
      "current age 26\n"
     ]
    }
   ],
   "source": [
    "console.log('finsih education year',person_details['finish education year']);\n",
    "console.log('current age',person_details['age'] + 2);"
   ]
  },
  {
   "cell_type": "code",
   "execution_count": null,
   "id": "b63e9d8f-f3b1-48d9-940b-6d8d130baef4",
   "metadata": {},
   "outputs": [],
   "source": []
  },
  {
   "cell_type": "code",
   "execution_count": 1,
   "id": "5d11e8a0-3cd9-45ae-ba00-f58d4e9937aa",
   "metadata": {},
   "outputs": [],
   "source": [
    "let yesterday_receive_orders = {\n",
    "    'speakers':1000,\n",
    "    'mice':20,\n",
    "    'handfree':56,\n",
    "    'mobiles glass':8,\n",
    "}\n",
    "\n",
    "let today_receive_orders = {\n",
    "    'speakers':500,\n",
    "    'mice':2,\n",
    "    'handfree':6,\n",
    "    'mobiles glass':0,\n",
    "}"
   ]
  },
  {
   "cell_type": "code",
   "execution_count": null,
   "id": "cae961c0-49e3-42ee-ab9d-553b4f3af4ed",
   "metadata": {},
   "outputs": [],
   "source": [
    "// i have a store. my calculator was damaged yesterday. it is not working. The normal calculation i can do. Like how many orders i have receives.\n",
    "// But the bigger calculation i can't do. Now your work is help me to calculate the all my yesterday and today orders and prints out the all orders.\n"
   ]
  },
  {
   "cell_type": "code",
   "execution_count": 2,
   "id": "a507149f-ff5b-4eb9-bb7b-ae7c6c4eddf7",
   "metadata": {},
   "outputs": [
    {
     "name": "stdout",
     "output_type": "stream",
     "text": [
      "Total Speakers:- 1500\n",
      "Total Mice:- 22\n",
      "Total Handfree:- 62\n",
      "Total Mobiles Glass:- 8\n"
     ]
    }
   ],
   "source": [
    "// correct answer\n",
    "console.log('Total Speakers:-',yesterday_receive_orders['speakers'] + today_receive_orders['speakers']);\n",
    "console.log('Total Mice:-',yesterday_receive_orders['mice'] + today_receive_orders['mice']);\n",
    "console.log('Total Handfree:-',yesterday_receive_orders['handfree'] + today_receive_orders['handfree']);\n",
    "console.log('Total Mobiles Glass:-',yesterday_receive_orders['mobiles glass'] + today_receive_orders['mobiles glass']);"
   ]
  },
  {
   "cell_type": "code",
   "execution_count": null,
   "id": "fb5902ad-1251-4a51-899d-eab968468669",
   "metadata": {},
   "outputs": [],
   "source": []
  },
  {
   "cell_type": "code",
   "execution_count": 7,
   "id": "f91c83b1-49c1-482d-92e9-6bb27a4852d6",
   "metadata": {},
   "outputs": [
    {
     "name": "stdout",
     "output_type": "stream",
     "text": [
      "8\n"
     ]
    }
   ],
   "source": [
    "// rizwan\n",
    "console.log(yesterday_receive_orders['speakers','mice','handfree','mobiles glass'] + today_receive_orders['speakers','mice','handfree','mobiles glass']);"
   ]
  },
  {
   "cell_type": "code",
   "execution_count": null,
   "id": "20ee1861-fa5a-4725-ac8f-ac069f9a4c63",
   "metadata": {},
   "outputs": [],
   "source": []
  },
  {
   "cell_type": "code",
   "execution_count": 8,
   "id": "38f3fb12-f7c9-4aaa-ab61-021a0890e626",
   "metadata": {},
   "outputs": [
    {
     "name": "stdout",
     "output_type": "stream",
     "text": [
      "8\n"
     ]
    }
   ],
   "source": [
    "// mohsin\n",
    "console.log(yesterday_receive_orders['speakers','mice','handfree','mobiles glass'] + today_receive_orders['speakers','mice','handfree','mobiles glass']);"
   ]
  },
  {
   "cell_type": "code",
   "execution_count": null,
   "id": "39c5c3a7-97aa-4ff8-a368-fc84cdba0b4e",
   "metadata": {},
   "outputs": [],
   "source": []
  },
  {
   "cell_type": "code",
   "execution_count": 9,
   "id": "4c649cb8-cd1e-4a91-852e-9e7cd74b1a6f",
   "metadata": {},
   "outputs": [
    {
     "name": "stdout",
     "output_type": "stream",
     "text": [
      "8\n"
     ]
    }
   ],
   "source": [
    "// adil\n",
    "console.log(yesterday_receive_orders['speakers','mice','handfree','mobiles glass'] + today_receive_orders['speakers','mice','handfree','mobiles glass']);"
   ]
  },
  {
   "cell_type": "code",
   "execution_count": null,
   "id": "6c164bfa-ea01-49de-8417-6927c306d55e",
   "metadata": {},
   "outputs": [],
   "source": []
  },
  {
   "cell_type": "code",
   "execution_count": 10,
   "id": "a18ef50c-98e1-4b02-91fd-52530f0d1d11",
   "metadata": {},
   "outputs": [
    {
     "name": "stdout",
     "output_type": "stream",
     "text": [
      "8\n"
     ]
    }
   ],
   "source": [
    "// sulman\n",
    "\n",
    "console.log(yesterday_receive_orders['speakers','mice','handfree','mobiles glass'] + today_receive_orders['speakers','mice','handfree','mobiles glass']);"
   ]
  },
  {
   "cell_type": "code",
   "execution_count": null,
   "id": "3d34c039-a5a0-48a8-9bcb-4d46a4f9e0ab",
   "metadata": {},
   "outputs": [],
   "source": []
  },
  {
   "cell_type": "code",
   "execution_count": 11,
   "id": "5f3bdbe7-52c4-4772-860b-6abe0fc71c30",
   "metadata": {},
   "outputs": [
    {
     "ename": "ReferenceError",
     "evalue": "today_receve_order is not defined",
     "execution_count": 11,
     "output_type": "error",
     "traceback": [
      "evalmachine.<anonymous>:3",
      "console.log(today_receve_order[speaker])",
      "            ^",
      "",
      "ReferenceError: today_receve_order is not defined",
      "    at evalmachine.<anonymous>:3:13",
      "    at Script.runInThisContext (node:vm:137:12)",
      "    at Object.runInThisContext (node:vm:317:38)",
      "    at run ([eval]:1020:15)",
      "    at onRunRequest ([eval]:864:18)",
      "    at onMessage ([eval]:828:13)",
      "    at process.emit (node:events:524:28)",
      "    at emit (node:internal/child_process:950:14)",
      "    at process.processTicksAndRejections (node:internal/process/task_queues:83:21)"
     ]
    }
   ],
   "source": [
    "// furqan:- \n",
    "\n",
    "console.log(today_receve_order[speaker])\n",
    "// nan"
   ]
  },
  {
   "cell_type": "code",
   "execution_count": null,
   "id": "1b90ba5a-4c04-47d2-a0de-40ace63bcc81",
   "metadata": {},
   "outputs": [],
   "source": []
  },
  {
   "cell_type": "code",
   "execution_count": null,
   "id": "f8718d58-7305-48e6-a3ef-a9633c9763d4",
   "metadata": {},
   "outputs": [],
   "source": []
  },
  {
   "cell_type": "code",
   "execution_count": 1,
   "id": "69fad8c0-88c8-4e75-bd8d-5c0ea638e7bf",
   "metadata": {},
   "outputs": [],
   "source": [
    "let car_details = {'car_name':'Volvo G3','brand':'volvo','price':'1 crore'};\n",
    "// when the car was lanuched in market then its price was 1 crore. now it's price are 2 crores."
   ]
  },
  {
   "cell_type": "code",
   "execution_count": 3,
   "id": "ad47de44-0952-48cc-9b4a-a924abbb25a4",
   "metadata": {},
   "outputs": [
    {
     "name": "stdout",
     "output_type": "stream",
     "text": [
      "NaN\n"
     ]
    }
   ],
   "source": [
    "console.log(car_details['price']*2);"
   ]
  },
  {
   "cell_type": "code",
   "execution_count": null,
   "id": "74d0b152-04fc-411c-94e6-c032ef48376d",
   "metadata": {},
   "outputs": [],
   "source": [
    "// adil:-  4 crore:- wrong answer, 2nd chance:- wrong answer\n",
    "// mohsin:- 2 crore:- wrong answer, 2nd chance:- wrong answer\n",
    "// rizwan:- error:- correct answer, 2nd chance:- wrong answer\n",
    "// furqan:- 2 crore:- wrong answer, 2nd chance:- wrong answer\n",
    "// sulman:- error:- correct answer , 2nd chance:- wrong answer"
   ]
  },
  {
   "cell_type": "code",
   "execution_count": null,
   "id": "4baba68a-eadc-4c8d-99c5-53f10045e9e3",
   "metadata": {},
   "outputs": [],
   "source": []
  },
  {
   "cell_type": "code",
   "execution_count": 4,
   "id": "3aa19ad6-7937-4107-8fdd-9d3c61000a71",
   "metadata": {},
   "outputs": [],
   "source": [
    "let message = {\n",
    "    'first_sound': 'hello',\n",
    "    'second_sound': 'hello',\n",
    "    'third_sound': 'please',\n",
    "    'fourt_sound': 'hello',\n",
    "    'five_sound': 'help',\n",
    "    'six_sound': 'us.',\n",
    "    'seven_sound': 'we',\n",
    "    'eight_sound': 'are',\n",
    "    'nine_sound': 'are',\n",
    "    'ten_sound': 'in',\n",
    "    'eleven_sound': 'troubles',\n",
    "    'twelve_sound': 'troubles',\n",
    "}\n",
    "\n",
    "// my friend was gone to a war. it is because he is an army officer. he respond to their militray. but due to signal problem the voice is not clear.\n",
    "// so your work is you need to clearfiy the message.\n",
    "// output should be like this. \n",
    "// hello, please help us. we are in troubles. "
   ]
  },
  {
   "cell_type": "code",
   "execution_count": 10,
   "id": "3c0ccbda-1a3a-4435-b2ca-334c000fa2f5",
   "metadata": {},
   "outputs": [
    {
     "name": "stdout",
     "output_type": "stream",
     "text": [
      "hello, please help us. we are in troubles.\n"
     ]
    }
   ],
   "source": [
    "let first_sound = message['first_sound'];\n",
    "let third_sound = message['third_sound'];\n",
    "let five_sound = message['five_sound'];\n",
    "let six_sound = message['six_sound'];\n",
    "let seven_sound = message['seven_sound'];\n",
    "let eight_sound = message['eight_sound'];\n",
    "let ten_sound = message['ten_sound'];\n",
    "let eleven_sound = message['eleven_sound'];\n",
    "\n",
    "console.log(first_sound + ', ' + third_sound + ' ' + five_sound + ' ' + six_sound + ' ' + seven_sound + ' ' + eight_sound + ' ' + ten_sound + ' ' + eleven_sound + '.');"
   ]
  },
  {
   "cell_type": "code",
   "execution_count": null,
   "id": "50e65518-da11-41f6-ab2a-61e77149e094",
   "metadata": {},
   "outputs": [],
   "source": []
  },
  {
   "cell_type": "code",
   "execution_count": null,
   "id": "7e4cbf24-b909-4180-a7d5-8068f1edcb0a",
   "metadata": {},
   "outputs": [],
   "source": []
  },
  {
   "cell_type": "code",
   "execution_count": null,
   "id": "d0955e70-5a4c-4e53-a709-4432b4f314df",
   "metadata": {},
   "outputs": [],
   "source": []
  },
  {
   "cell_type": "code",
   "execution_count": null,
   "id": "b7a78075-3144-4ed1-9b6a-83380598ca3c",
   "metadata": {},
   "outputs": [],
   "source": []
  },
  {
   "cell_type": "code",
   "execution_count": 11,
   "id": "cb52d64b-b7c2-4a70-8f61-e99c74d61bcb",
   "metadata": {},
   "outputs": [
    {
     "name": "stdout",
     "output_type": "stream",
     "text": [
      "undefined\n",
      "please\n",
      "hello\n",
      "help\n",
      "us.\n",
      "we\n",
      "are\n",
      "in\n",
      "in\n",
      "troubles\n"
     ]
    }
   ],
   "source": [
    "// sulman\n",
    "console.log(message['first_sound']);\n",
    "console.log(message['third_sound']);\n",
    "console.log(message['fourt_sound']);\n",
    "console.log(message['five_sound']);\n",
    "console.log(message['six_sound']);\n",
    "console.log(message['seven_sound']);\n",
    "console.log(message['eight_sound']);\n",
    "console.log(message['ten_sound']);\n",
    "console.log(message['ten_sound']);\n",
    "console.log(message['eleven_sound']);"
   ]
  },
  {
   "cell_type": "code",
   "execution_count": null,
   "id": "9b02f033-5171-4b8b-9271-68807fd6b55e",
   "metadata": {},
   "outputs": [],
   "source": []
  },
  {
   "cell_type": "code",
   "execution_count": 12,
   "id": "e5cf01f3-3a99-4928-b4e9-0cc448279e88",
   "metadata": {},
   "outputs": [
    {
     "name": "stdout",
     "output_type": "stream",
     "text": [
      "undefined, pleasehelpus.weareintroubles.\n"
     ]
    }
   ],
   "source": [
    "// adil\n",
    "console.log(message.first_sound + \", \" + message.third_sound + message.five_sound + message.six_sound + message.seven_sound + message.eight_sound + message.ten_sound + message.twelve_sound + '.');"
   ]
  },
  {
   "cell_type": "code",
   "execution_count": null,
   "id": "f0e149ca-5956-4c32-b045-13eef7c4b3f8",
   "metadata": {},
   "outputs": [],
   "source": []
  },
  {
   "cell_type": "code",
   "execution_count": 7,
   "id": "2fdfb7c6-5047-4d88-a2c8-56ccb13d8b94",
   "metadata": {},
   "outputs": [
    {
     "ename": "SyntaxError",
     "evalue": "Unexpected token ')'",
     "execution_count": 7,
     "output_type": "error",
     "traceback": [
      "evalmachine.<anonymous>:2",
      "console.log(message.first_sound , + message.third_sound + message.five_sound + message.six_sound + message.seven_sound + message.eight_sound + message.ten_sound + message.twelve_sound.);",
      "                                                                                                                                                                                        ^",
      "",
      "SyntaxError: Unexpected token ')'",
      "    at new Script (node:vm:117:7)",
      "    at createScript (node:vm:269:10)",
      "    at Object.runInThisContext (node:vm:317:10)",
      "    at run ([eval]:1020:15)",
      "    at onRunRequest ([eval]:864:18)",
      "    at onMessage ([eval]:828:13)",
      "    at process.emit (node:events:524:28)",
      "    at emit (node:internal/child_process:950:14)",
      "    at process.processTicksAndRejections (node:internal/process/task_queues:83:21)"
     ]
    }
   ],
   "source": [
    "// mohsin\n",
    "console.log(message.first_sound , + message.third_sound + message.five_sound + message.six_sound + message.seven_sound + message.eight_sound + message.ten_sound + message.twelve_sound.);"
   ]
  },
  {
   "cell_type": "code",
   "execution_count": null,
   "id": "d68f68fc-3ff2-4235-bb17-92b9dd023e08",
   "metadata": {},
   "outputs": [],
   "source": []
  },
  {
   "cell_type": "code",
   "execution_count": 8,
   "id": "00a7ed59-df0e-4819-a1b7-69b6c2bfd152",
   "metadata": {},
   "outputs": [
    {
     "name": "stdout",
     "output_type": "stream",
     "text": [
      "hello, pleasehelpus.weareintroubles.\n"
     ]
    }
   ],
   "source": [
    "// furqan\n",
    "console.log(message.first_sound + \", \" + message.third_sound + message.five_sound + message.six_sound + message.seven_sound + message.eight_sound + message.ten_sound + message.twelve_sound + '.');"
   ]
  },
  {
   "cell_type": "code",
   "execution_count": null,
   "id": "414ce900-4a6a-4a5c-9530-72aef363b1fd",
   "metadata": {},
   "outputs": [],
   "source": []
  },
  {
   "cell_type": "code",
   "execution_count": 9,
   "id": "b1e3dd6a-88f1-43b8-89c3-9882cd17e269",
   "metadata": {},
   "outputs": [
    {
     "name": "stdout",
     "output_type": "stream",
     "text": [
      "hello, pleasehelpus.weareintroubles\n"
     ]
    }
   ],
   "source": [
    "// rizwan\n",
    "console.log(message.first_sound + \", \" + message.third_sound + message.five_sound + message.six_sound + message.seven_sound + message.eight_sound + message.ten_sound + message.twelve_sound);"
   ]
  },
  {
   "cell_type": "code",
   "execution_count": null,
   "id": "b80b973c-4ac8-4c7d-97b1-9b2ac80cebc2",
   "metadata": {},
   "outputs": [],
   "source": []
  },
  {
   "cell_type": "code",
   "execution_count": null,
   "id": "9f28391d-468b-4f5b-b094-aa51c69d8a1a",
   "metadata": {},
   "outputs": [],
   "source": []
  },
  {
   "cell_type": "code",
   "execution_count": null,
   "id": "e112d8a2-b2d1-435c-b21c-b3a027e3007c",
   "metadata": {},
   "outputs": [],
   "source": []
  },
  {
   "cell_type": "code",
   "execution_count": null,
   "id": "8a827b6a-d640-4e8b-a585-2c170b53696a",
   "metadata": {},
   "outputs": [],
   "source": []
  },
  {
   "cell_type": "code",
   "execution_count": null,
   "id": "d1165474-d011-44d0-9eda-acab98966e8f",
   "metadata": {},
   "outputs": [],
   "source": []
  },
  {
   "cell_type": "code",
   "execution_count": null,
   "id": "1290b504-f911-4da3-ba3b-293a18f60625",
   "metadata": {},
   "outputs": [],
   "source": []
  },
  {
   "cell_type": "code",
   "execution_count": null,
   "id": "7504a2fb-e4ca-4e87-aa72-7f84343bbbf4",
   "metadata": {},
   "outputs": [],
   "source": []
  },
  {
   "cell_type": "code",
   "execution_count": null,
   "id": "8a1b6e5b-7bc8-4c22-9850-f68b4e9bff78",
   "metadata": {},
   "outputs": [],
   "source": []
  },
  {
   "cell_type": "code",
   "execution_count": null,
   "id": "02225740-ce6c-48da-80f3-1551d248d151",
   "metadata": {},
   "outputs": [],
   "source": []
  },
  {
   "cell_type": "code",
   "execution_count": null,
   "id": "90b4ff58-3b5f-45e3-a6df-d5ed8db6bfe5",
   "metadata": {},
   "outputs": [],
   "source": []
  },
  {
   "cell_type": "code",
   "execution_count": null,
   "id": "7f5d4192-09d3-4b0d-b36e-7170f9c53b15",
   "metadata": {},
   "outputs": [],
   "source": []
  },
  {
   "cell_type": "code",
   "execution_count": null,
   "id": "68afb42c-a6ae-47b7-ba02-0f3e7bf5d8c6",
   "metadata": {},
   "outputs": [],
   "source": []
  },
  {
   "cell_type": "code",
   "execution_count": null,
   "id": "02aaa369-32e3-46d7-8bed-26ef01965407",
   "metadata": {},
   "outputs": [],
   "source": []
  },
  {
   "cell_type": "code",
   "execution_count": null,
   "id": "e0da6c04-d871-4dfb-92df-d3e8a01aa25d",
   "metadata": {},
   "outputs": [],
   "source": []
  }
 ],
 "metadata": {
  "kernelspec": {
   "display_name": "JavaScript (Node.js)",
   "language": "javascript",
   "name": "javascript"
  },
  "language_info": {
   "file_extension": ".js",
   "mimetype": "application/javascript",
   "name": "javascript",
   "version": "20.19.0"
  }
 },
 "nbformat": 4,
 "nbformat_minor": 5
}
