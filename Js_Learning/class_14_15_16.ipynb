{
 "cells": [
  {
   "cell_type": "markdown",
   "id": "f2db1797-1457-4642-b212-550845ca2ad1",
   "metadata": {},
   "source": [
    "### string method"
   ]
  },
  {
   "cell_type": "code",
   "execution_count": 1,
   "id": "a6133a44-1f08-4e0b-adf4-6356120e9cb0",
   "metadata": {},
   "outputs": [],
   "source": [
    "// String toUpperCase()\n",
    "// String toLowerCase()\n",
    "// String trim()\n",
    "// String trimStart()\n",
    "// String trimEnd()\n",
    "// String repeat()\n",
    "// String replace()\n",
    "// String replaceAll()\n",
    "// String split()\n",
    "// String Join()"
   ]
  },
  {
   "cell_type": "code",
   "execution_count": 2,
   "id": "137a41e4-ff4b-4cd2-87f9-9959df4727fe",
   "metadata": {},
   "outputs": [],
   "source": [
    "// String toUpperCase()"
   ]
  },
  {
   "cell_type": "code",
   "execution_count": 3,
   "id": "e1e68047-3cfb-4cda-b304-242d26b2daed",
   "metadata": {},
   "outputs": [
    {
     "name": "stdout",
     "output_type": "stream",
     "text": [
      "THIS IS A BOOK\n"
     ]
    }
   ],
   "source": [
    "let str = 'This is a book';\n",
    "\n",
    "console.log(str.toUpperCase());"
   ]
  },
  {
   "cell_type": "code",
   "execution_count": 4,
   "id": "a46aea6e-4594-4a62-9777-f52c5524d262",
   "metadata": {},
   "outputs": [
    {
     "name": "stdout",
     "output_type": "stream",
     "text": [
      "this is a book\n"
     ]
    }
   ],
   "source": [
    "// String toLowerCase()\n",
    "let str_2 = 'THIS IS A BOOK';\n",
    "\n",
    "console.log(str_2.toLowerCase());"
   ]
  },
  {
   "cell_type": "code",
   "execution_count": 5,
   "id": "4430dbc7-ca1c-43c5-802c-0892e5d57b6e",
   "metadata": {},
   "outputs": [],
   "source": [
    "// String trim()\n",
    "// String trimStart()\n",
    "// String trimEnd()"
   ]
  },
  {
   "cell_type": "code",
   "execution_count": 6,
   "id": "253bc220-c30b-493b-b3e9-28284cb065c9",
   "metadata": {},
   "outputs": [
    {
     "name": "stdout",
     "output_type": "stream",
     "text": [
      "this is a book\n",
      "this is a book        \n",
      "   \n",
      "    \n",
      "   \n",
      "     this is a book\n"
     ]
    }
   ],
   "source": [
    "let random_text = '    \\n   \\n     this is a book        \\n   ';\n",
    "console.log(random_text.trim());\n",
    "console.log(random_text.trimStart());\n",
    "console.log(random_text.trimEnd());"
   ]
  },
  {
   "cell_type": "code",
   "execution_count": 7,
   "id": "ad288f23-f0c1-4524-97b4-a9b18f41f7c1",
   "metadata": {},
   "outputs": [
    {
     "name": "stdout",
     "output_type": "stream",
     "text": [
      "    \n",
      "   \n",
      "     this is a book        \n",
      "   \n"
     ]
    }
   ],
   "source": [
    "console.log(random_text);"
   ]
  },
  {
   "cell_type": "code",
   "execution_count": 8,
   "id": "db5c7041-88be-4edf-85c1-0050b698a008",
   "metadata": {},
   "outputs": [
    {
     "data": {
      "text/plain": [
       "'this is a book        \\n   '"
      ]
     },
     "execution_count": 8,
     "metadata": {},
     "output_type": "execute_result"
    }
   ],
   "source": [
    "random_text.trimStart();"
   ]
  },
  {
   "cell_type": "code",
   "execution_count": 9,
   "id": "919c9675-feb1-4907-8e1b-16dc9230c4da",
   "metadata": {},
   "outputs": [
    {
     "data": {
      "text/plain": [
       "'    \\n   \\n     this is a book'"
      ]
     },
     "execution_count": 9,
     "metadata": {},
     "output_type": "execute_result"
    }
   ],
   "source": [
    "random_text.trimEnd();"
   ]
  },
  {
   "cell_type": "code",
   "execution_count": 10,
   "id": "e59becc2-28ba-43bf-af8b-e2c709e97b6f",
   "metadata": {},
   "outputs": [
    {
     "name": "stdout",
     "output_type": "stream",
     "text": [
      "this is a book.\n",
      "\n",
      "this is an islamic book.\n"
     ]
    }
   ],
   "source": [
    "let text_str = 'this is a book.\\n\\nthis is an islamic book.';\n",
    "console.log(text_str);"
   ]
  },
  {
   "cell_type": "code",
   "execution_count": 1,
   "id": "68d5e4db-f91d-49b1-9a54-7681bf8d0c3d",
   "metadata": {},
   "outputs": [],
   "source": [
    "// String repeat()"
   ]
  },
  {
   "cell_type": "code",
   "execution_count": 2,
   "id": "6a61808f-4949-4d65-8a14-ff80cf1f40f0",
   "metadata": {},
   "outputs": [],
   "source": [
    "let word = 'Asslam O Alikum! ';"
   ]
  },
  {
   "cell_type": "code",
   "execution_count": 3,
   "id": "c2b16536-a5cf-4bab-bc2a-e6b98d69fb85",
   "metadata": {},
   "outputs": [
    {
     "name": "stdout",
     "output_type": "stream",
     "text": [
      "Asslam O Alikum! Asslam O Alikum! Asslam O Alikum! \n"
     ]
    }
   ],
   "source": [
    "console.log(word.repeat(3));"
   ]
  },
  {
   "cell_type": "code",
   "execution_count": 4,
   "id": "f9fb5abc-5b34-497f-90e6-d0d9000d2fa6",
   "metadata": {},
   "outputs": [],
   "source": [
    "// String replace()"
   ]
  },
  {
   "cell_type": "code",
   "execution_count": 1,
   "id": "f86efe4a-3756-46b6-b9f0-bd57388cd035",
   "metadata": {},
   "outputs": [],
   "source": [
    "let string_text = 'this is a book';\n",
    "\n",
    "// output should be like this\n",
    "// This is a Book."
   ]
  },
  {
   "cell_type": "code",
   "execution_count": null,
   "id": "d7762b5b-e5fd-4f5a-9dd2-ed0e07066b28",
   "metadata": {},
   "outputs": [],
   "source": []
  },
  {
   "cell_type": "code",
   "execution_count": 2,
   "id": "56285fe5-887f-432e-ab12-9516c8c33fb1",
   "metadata": {},
   "outputs": [
    {
     "name": "stdout",
     "output_type": "stream",
     "text": [
      "This is a Book.\n"
     ]
    }
   ],
   "source": [
    "let new_str_1 = string_text.replace('this','This');\n",
    "let new_str_2 = new_str_1.replace('book','Book.');\n",
    "console.log(new_str_2);"
   ]
  },
  {
   "cell_type": "code",
   "execution_count": 3,
   "id": "f3ff05f8-b148-4cb2-b07a-210e80e33cf5",
   "metadata": {},
   "outputs": [
    {
     "name": "stdout",
     "output_type": "stream",
     "text": [
      "thIS is a book\n"
     ]
    }
   ],
   "source": [
    "console.log(string_text.replace('is','IS'));"
   ]
  },
  {
   "cell_type": "code",
   "execution_count": null,
   "id": "6556d845-bd58-4833-9ea3-07f0b74691d2",
   "metadata": {},
   "outputs": [],
   "source": [
    "// String replaceAll()"
   ]
  },
  {
   "cell_type": "code",
   "execution_count": 6,
   "id": "dbb8180a-90c5-4457-8eaf-13019de62bf4",
   "metadata": {},
   "outputs": [
    {
     "name": "stdout",
     "output_type": "stream",
     "text": [
      "thIS IS a book\n"
     ]
    }
   ],
   "source": [
    "console.log(string_text.replaceAll('is','IS'));"
   ]
  },
  {
   "cell_type": "code",
   "execution_count": null,
   "id": "43aecf20-e0cf-46b9-bce2-56f15405c6af",
   "metadata": {},
   "outputs": [],
   "source": [
    "console.log(string_text.replaceAll('book','house.'));"
   ]
  },
  {
   "cell_type": "code",
   "execution_count": 1,
   "id": "2ed8a298-42c7-45c4-97e7-753a96e3314b",
   "metadata": {},
   "outputs": [],
   "source": [
    "// String split()"
   ]
  },
  {
   "cell_type": "code",
   "execution_count": 2,
   "id": "b6706fd9-a5a2-4b87-b938-523ece630d92",
   "metadata": {},
   "outputs": [
    {
     "name": "stdout",
     "output_type": "stream",
     "text": [
      "[ 'mango', ' orange', ' apple', ' banana' ]\n"
     ]
    }
   ],
   "source": [
    "let furit_names = 'mango, orange, apple, banana';\n",
    "let furit_array = furit_names.split(',');\n",
    "console.log(furit_array);"
   ]
  },
  {
   "cell_type": "code",
   "execution_count": null,
   "id": "18d0f252-e453-4609-a047-50bb3efb2c2a",
   "metadata": {},
   "outputs": [],
   "source": [
    "// String Join()"
   ]
  },
  {
   "cell_type": "code",
   "execution_count": 5,
   "id": "4ca113ac-46c1-443f-9869-8b9f649d75b2",
   "metadata": {},
   "outputs": [
    {
     "name": "stdout",
     "output_type": "stream",
     "text": [
      "mango>  orange>  apple>  banana\n"
     ]
    }
   ],
   "source": [
    "let array_to_str = furit_array.join('> ');\n",
    "console.log(array_to_str);"
   ]
  },
  {
   "cell_type": "code",
   "execution_count": 6,
   "id": "73c35b8a-d56e-44f7-83e4-f804555ea891",
   "metadata": {},
   "outputs": [
    {
     "name": "stdout",
     "output_type": "stream",
     "text": [
      "string\n"
     ]
    }
   ],
   "source": [
    "console.log(typeof(array_to_str));"
   ]
  },
  {
   "cell_type": "code",
   "execution_count": 4,
   "id": "748890eb-dfd9-497d-a551-66f502c79308",
   "metadata": {},
   "outputs": [
    {
     "name": "stdout",
     "output_type": "stream",
     "text": [
      "[ '', ', orange, apple, banana' ]\n"
     ]
    }
   ],
   "source": [
    "console.log(furit_names.split('mango'));"
   ]
  },
  {
   "cell_type": "code",
   "execution_count": null,
   "id": "5b665066-d843-4a02-b18a-e1c320da8d83",
   "metadata": {},
   "outputs": [],
   "source": []
  },
  {
   "cell_type": "code",
   "execution_count": null,
   "id": "16d9e82d-7941-4093-b040-5d9f592750cc",
   "metadata": {},
   "outputs": [],
   "source": []
  },
  {
   "cell_type": "code",
   "execution_count": null,
   "id": "7c60d967-85bd-4440-8fcd-bb7c85b48e7b",
   "metadata": {},
   "outputs": [],
   "source": []
  }
 ],
 "metadata": {
  "kernelspec": {
   "display_name": "JavaScript (Node.js)",
   "language": "javascript",
   "name": "javascript"
  },
  "language_info": {
   "file_extension": ".js",
   "mimetype": "application/javascript",
   "name": "javascript",
   "version": "20.19.0"
  }
 },
 "nbformat": 4,
 "nbformat_minor": 5
}
