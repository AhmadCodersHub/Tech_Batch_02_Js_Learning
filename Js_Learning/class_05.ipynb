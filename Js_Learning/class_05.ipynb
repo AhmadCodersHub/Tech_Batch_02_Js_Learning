{
 "cells": [
  {
   "cell_type": "markdown",
   "id": "50c04639-0454-458d-91de-3d43eb41b60e",
   "metadata": {},
   "source": [
    "# JavaScript Operators"
   ]
  },
  {
   "cell_type": "markdown",
   "id": "853bc44e-2c14-49d2-8db6-6dc5e216eaf3",
   "metadata": {},
   "source": [
    "#### Arithmetic Operators"
   ]
  },
  {
   "cell_type": "code",
   "execution_count": 10,
   "id": "427225a4-065a-4cb4-a5b4-3b237c8d7f7c",
   "metadata": {},
   "outputs": [],
   "source": [
    "// plus + \n",
    "\n",
    "// substraction -\n",
    "\n",
    "// divide /\n",
    "\n",
    "// Multiplication  *\n",
    "\n",
    "// Exponentiation  **\n",
    "\n",
    "// Increment ++\n",
    "\n",
    "// Decrement --\n",
    "\n",
    "// Modulus (Division Remainder) %"
   ]
  },
  {
   "cell_type": "code",
   "execution_count": 2,
   "id": "6f4e7a86-4045-4180-8b24-b8fdeb1f6f6c",
   "metadata": {},
   "outputs": [
    {
     "data": {
      "text/plain": [
       "4"
      ]
     },
     "execution_count": 2,
     "metadata": {},
     "output_type": "execute_result"
    }
   ],
   "source": [
    "// plus \n",
    "\n",
    "2 + 2;"
   ]
  },
  {
   "cell_type": "code",
   "execution_count": null,
   "id": "842b05fe-a054-46c9-940c-6a0b2552c9b4",
   "metadata": {},
   "outputs": [],
   "source": [
    "// "
   ]
  },
  {
   "cell_type": "code",
   "execution_count": null,
   "id": "c94648de-043d-4a72-a4e8-46bc35e89d52",
   "metadata": {},
   "outputs": [],
   "source": [
    "// substraction "
   ]
  },
  {
   "cell_type": "code",
   "execution_count": 3,
   "id": "610f3da5-76be-4f8c-96b9-c4630b802251",
   "metadata": {},
   "outputs": [
    {
     "data": {
      "text/plain": [
       "0"
      ]
     },
     "execution_count": 3,
     "metadata": {},
     "output_type": "execute_result"
    }
   ],
   "source": [
    "2 - 2;"
   ]
  },
  {
   "cell_type": "code",
   "execution_count": null,
   "id": "dd649f83-8cfa-4e7d-82ea-481b31765b32",
   "metadata": {},
   "outputs": [],
   "source": [
    "// divide"
   ]
  },
  {
   "cell_type": "code",
   "execution_count": 4,
   "id": "4d9cbd09-94cf-478a-8c6e-a79877361128",
   "metadata": {},
   "outputs": [
    {
     "data": {
      "text/plain": [
       "1"
      ]
     },
     "execution_count": 4,
     "metadata": {},
     "output_type": "execute_result"
    }
   ],
   "source": [
    "2 / 2;"
   ]
  },
  {
   "cell_type": "code",
   "execution_count": null,
   "id": "eb126b53-19c5-4054-8aad-e2765895f3d0",
   "metadata": {},
   "outputs": [],
   "source": [
    "// Multiplication"
   ]
  },
  {
   "cell_type": "code",
   "execution_count": 5,
   "id": "e3071ef6-c325-4d68-8f1c-07415594a8b6",
   "metadata": {},
   "outputs": [
    {
     "data": {
      "text/plain": [
       "4"
      ]
     },
     "execution_count": 5,
     "metadata": {},
     "output_type": "execute_result"
    }
   ],
   "source": [
    "2 * 2;"
   ]
  },
  {
   "cell_type": "code",
   "execution_count": 7,
   "id": "e79ca302-b405-47e4-a528-beb237209d5d",
   "metadata": {},
   "outputs": [],
   "source": [
    "// Exponentiation  **"
   ]
  },
  {
   "cell_type": "code",
   "execution_count": null,
   "id": "6a5ee069-e771-47f9-9842-0df4ec545b0a",
   "metadata": {},
   "outputs": [],
   "source": [
    "// 4 X 4 X 4 X 4 = 256"
   ]
  },
  {
   "cell_type": "code",
   "execution_count": 8,
   "id": "ba59b332-b7bd-4b30-8f2e-edab1400c381",
   "metadata": {},
   "outputs": [
    {
     "data": {
      "text/plain": [
       "256"
      ]
     },
     "execution_count": 8,
     "metadata": {},
     "output_type": "execute_result"
    }
   ],
   "source": [
    "4 ** 4;"
   ]
  },
  {
   "cell_type": "code",
   "execution_count": 9,
   "id": "8e3adf17-0cd0-49e6-bc60-3dae51de38d5",
   "metadata": {},
   "outputs": [],
   "source": [
    "let x = 10;"
   ]
  },
  {
   "cell_type": "code",
   "execution_count": 11,
   "id": "e49bcf7a-c646-419a-96a4-ebf7b6839a42",
   "metadata": {},
   "outputs": [
    {
     "data": {
      "text/plain": [
       "10"
      ]
     },
     "execution_count": 11,
     "metadata": {},
     "output_type": "execute_result"
    }
   ],
   "source": [
    "x++;"
   ]
  },
  {
   "cell_type": "code",
   "execution_count": 12,
   "id": "3c77a1ed-b3b0-4c2d-8b5f-68e6c10e6350",
   "metadata": {},
   "outputs": [
    {
     "name": "stdout",
     "output_type": "stream",
     "text": [
      "11\n"
     ]
    }
   ],
   "source": [
    "console.log(x);"
   ]
  },
  {
   "cell_type": "code",
   "execution_count": null,
   "id": "b330d6d7-b6c6-4ffb-adf9-9a874135eafe",
   "metadata": {},
   "outputs": [],
   "source": [
    "// Decrement"
   ]
  },
  {
   "cell_type": "code",
   "execution_count": 13,
   "id": "aee6ce30-55a5-40f1-9302-8c0b7d8e7b13",
   "metadata": {},
   "outputs": [
    {
     "data": {
      "text/plain": [
       "11"
      ]
     },
     "execution_count": 13,
     "metadata": {},
     "output_type": "execute_result"
    }
   ],
   "source": [
    "x--;"
   ]
  },
  {
   "cell_type": "code",
   "execution_count": 14,
   "id": "244b5356-c153-4361-8cb6-c326bc5c96a6",
   "metadata": {},
   "outputs": [
    {
     "name": "stdout",
     "output_type": "stream",
     "text": [
      "10\n"
     ]
    }
   ],
   "source": [
    "console.log(x);"
   ]
  },
  {
   "cell_type": "code",
   "execution_count": 16,
   "id": "76255b04-a59a-44b5-99a3-33697a846f4a",
   "metadata": {},
   "outputs": [],
   "source": [
    "// Modulus (Division Remainder) %"
   ]
  },
  {
   "cell_type": "code",
   "execution_count": 17,
   "id": "04108c35-122c-4300-a179-fe8e4ce2466d",
   "metadata": {},
   "outputs": [
    {
     "data": {
      "text/plain": [
       "1"
      ]
     },
     "execution_count": 17,
     "metadata": {},
     "output_type": "execute_result"
    }
   ],
   "source": [
    "13 % 2;"
   ]
  },
  {
   "cell_type": "code",
   "execution_count": 18,
   "id": "2758bfb5-7b8c-417f-9cba-e63286741ed2",
   "metadata": {},
   "outputs": [
    {
     "data": {
      "text/plain": [
       "0"
      ]
     },
     "execution_count": 18,
     "metadata": {},
     "output_type": "execute_result"
    }
   ],
   "source": [
    "10 % 2;"
   ]
  }
 ],
 "metadata": {
  "kernelspec": {
   "display_name": "JavaScript (Node.js)",
   "language": "javascript",
   "name": "javascript"
  },
  "language_info": {
   "file_extension": ".js",
   "mimetype": "application/javascript",
   "name": "javascript",
   "version": "20.19.0"
  }
 },
 "nbformat": 4,
 "nbformat_minor": 5
}
