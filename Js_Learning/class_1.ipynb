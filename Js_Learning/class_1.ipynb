{
 "cells": [
  {
   "cell_type": "markdown",
   "id": "8b2437a2-e176-4908-9a72-8921f408b8a3",
   "metadata": {},
   "source": [
    "#### Javascript Syntax"
   ]
  },
  {
   "cell_type": "code",
   "execution_count": 13,
   "id": "da2ce244-4e6e-4390-ad6b-9ae30ea48db5",
   "metadata": {},
   "outputs": [
    {
     "name": "stdout",
     "output_type": "stream",
     "text": [
      "Hello World\n"
     ]
    }
   ],
   "source": [
    "console.log('Hello World');"
   ]
  },
  {
   "cell_type": "markdown",
   "id": "64f08f8c-c6ef-43e9-9e16-000d034ec522",
   "metadata": {},
   "source": [
    "#### JavaScript Variables"
   ]
  },
  {
   "cell_type": "markdown",
   "id": "b690b675-a24a-49ec-bab7-4a6d15e67723",
   "metadata": {},
   "source": [
    "1. Automatically\n",
    "2. Using var\n",
    "3. Using let\n",
    "4. Using const"
   ]
  },
  {
   "cell_type": "markdown",
   "id": "559fe1f1-abb1-4b89-a392-a9d2fea7a21e",
   "metadata": {},
   "source": [
    "##### 1. Automatically"
   ]
  },
  {
   "cell_type": "code",
   "execution_count": 35,
   "id": "b9d738f2-6351-4dac-8fe2-f46df1845190",
   "metadata": {},
   "outputs": [
    {
     "data": {
      "text/plain": [
       "10"
      ]
     },
     "execution_count": 35,
     "metadata": {},
     "output_type": "execute_result"
    }
   ],
   "source": [
    "x = 10;\n",
    "z = 10;"
   ]
  },
  {
   "cell_type": "code",
   "execution_count": 32,
   "id": "0d50f6ad-110d-4f7c-b588-55c9027895ac",
   "metadata": {},
   "outputs": [
    {
     "name": "stdout",
     "output_type": "stream",
     "text": [
      "100\n"
     ]
    }
   ],
   "source": [
    "console.log(x * z);"
   ]
  },
  {
   "cell_type": "code",
   "execution_count": 37,
   "id": "2338a8e0-426e-4632-95df-b62eb1ed295c",
   "metadata": {},
   "outputs": [
    {
     "ename": "SyntaxError",
     "evalue": "Unexpected number",
     "execution_count": 37,
     "output_type": "error",
     "traceback": [
      "evalmachine.<anonymous>:2",
      "b  26;",
      "   ^^",
      "",
      "SyntaxError: Unexpected number",
      "    at new Script (node:vm:117:7)",
      "    at createScript (node:vm:269:10)",
      "    at Object.runInThisContext (node:vm:317:10)",
      "    at run ([eval]:1020:15)",
      "    at onRunRequest ([eval]:864:18)",
      "    at onMessage ([eval]:828:13)",
      "    at process.emit (node:events:524:28)",
      "    at emit (node:internal/child_process:950:14)",
      "    at process.processTicksAndRejections (node:internal/process/task_queues:83:21)"
     ]
    }
   ],
   "source": [
    "a = 25;\n",
    "b  26;\n",
    "\n",
    "console.log(a + b);"
   ]
  },
  {
   "cell_type": "code",
   "execution_count": null,
   "id": "a4e11be5-4891-4706-a8d7-ac2e7a43ee09",
   "metadata": {},
   "outputs": [],
   "source": []
  }
 ],
 "metadata": {
  "kernelspec": {
   "display_name": "JavaScript (Node.js)",
   "language": "javascript",
   "name": "javascript"
  },
  "language_info": {
   "file_extension": ".js",
   "mimetype": "application/javascript",
   "name": "javascript",
   "version": "20.19.0"
  }
 },
 "nbformat": 4,
 "nbformat_minor": 5
}
