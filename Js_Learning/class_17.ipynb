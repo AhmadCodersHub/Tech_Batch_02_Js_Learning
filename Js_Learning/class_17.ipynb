{
 "cells": [
  {
   "cell_type": "markdown",
   "id": "22f77efd-e775-4196-90f0-0c64552c8419",
   "metadata": {},
   "source": [
    "# JavaScript Array Methods"
   ]
  },
  {
   "cell_type": "code",
   "execution_count": 1,
   "id": "cfc86ea2-0c7e-495f-a491-344466b1ab18",
   "metadata": {},
   "outputs": [],
   "source": [
    "let furit_array = ['orange','mango','banana'];"
   ]
  },
  {
   "cell_type": "code",
   "execution_count": 4,
   "id": "0a7d1bf4-58a1-4fe5-828a-a3086f29eef7",
   "metadata": {},
   "outputs": [],
   "source": [
    "// accessing or indexing:- [] or .at()\n",
    "// Array length\n",
    "// Array join()\n",
    "\n",
    "// Array pop()\n",
    "// \tArray delete()\n",
    "// Array push()\n",
    "// Array shift()\n",
    "// Array unshift()\n",
    "// Array concat()\n",
    "// Array slice()\n"
   ]
  },
  {
   "cell_type": "code",
   "execution_count": null,
   "id": "0e2041f1-5fb5-4698-aa55-b3ce454dea89",
   "metadata": {},
   "outputs": [],
   "source": [
    "// pop()"
   ]
  },
  {
   "cell_type": "code",
   "execution_count": 5,
   "id": "ed8cd5af-49d8-4ba3-9042-c37333ff174d",
   "metadata": {},
   "outputs": [
    {
     "data": {
      "text/plain": [
       "'banana'"
      ]
     },
     "execution_count": 5,
     "metadata": {},
     "output_type": "execute_result"
    }
   ],
   "source": [
    "furit_array.pop();"
   ]
  },
  {
   "cell_type": "code",
   "execution_count": 6,
   "id": "baa4910d-84f2-42b3-8e10-f9f756473c7a",
   "metadata": {},
   "outputs": [
    {
     "name": "stdout",
     "output_type": "stream",
     "text": [
      "[ 'orange', 'mango' ]\n"
     ]
    }
   ],
   "source": [
    "console.log(furit_array);"
   ]
  },
  {
   "cell_type": "code",
   "execution_count": null,
   "id": "f968fdf7-e32a-42e5-92d6-bfd77281539e",
   "metadata": {},
   "outputs": [],
   "source": [
    "// delete()"
   ]
  },
  {
   "cell_type": "code",
   "execution_count": 1,
   "id": "e628e63e-5ffd-42f8-9fbf-7cc8f1918c0e",
   "metadata": {},
   "outputs": [],
   "source": [
    "let furits_array = ['orange','mango','banana'];"
   ]
  },
  {
   "cell_type": "code",
   "execution_count": 2,
   "id": "979449f6-b7a8-49c0-80c5-7117c7e7fd6d",
   "metadata": {},
   "outputs": [
    {
     "data": {
      "text/plain": [
       "true"
      ]
     },
     "execution_count": 2,
     "metadata": {},
     "output_type": "execute_result"
    }
   ],
   "source": [
    "delete furits_array[1];"
   ]
  },
  {
   "cell_type": "code",
   "execution_count": 4,
   "id": "2e1a8819-6aaa-4094-b7f1-69401bc3d781",
   "metadata": {},
   "outputs": [
    {
     "name": "stdout",
     "output_type": "stream",
     "text": [
      "[ 'orange', <1 empty item>, 'banana' ]\n",
      "undefined\n"
     ]
    }
   ],
   "source": [
    "console.log(furits_array);\n",
    "console.log(furits_array[1]);"
   ]
  },
  {
   "cell_type": "code",
   "execution_count": null,
   "id": "899926e5-9e2a-4f6d-8c7d-2ebaf67ee8e2",
   "metadata": {},
   "outputs": [],
   "source": []
  }
 ],
 "metadata": {
  "kernelspec": {
   "display_name": "JavaScript (Node.js)",
   "language": "javascript",
   "name": "javascript"
  },
  "language_info": {
   "file_extension": ".js",
   "mimetype": "application/javascript",
   "name": "javascript",
   "version": "20.19.0"
  }
 },
 "nbformat": 4,
 "nbformat_minor": 5
}
