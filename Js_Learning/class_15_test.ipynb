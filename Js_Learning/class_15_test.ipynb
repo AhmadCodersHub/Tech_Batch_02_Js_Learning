{
 "cells": [
  {
   "cell_type": "code",
   "execution_count": 1,
   "id": "f049b45e-ce50-42dc-8c30-3c07b1cb9e7c",
   "metadata": {},
   "outputs": [
    {
     "name": "stdout",
     "output_type": "stream",
     "text": [
      "123451234512345\n"
     ]
    }
   ],
   "source": [
    "let numbers = '12345';\n",
    "let make_number = String(Number(numbers));\n",
    "console.log(make_number.repeat(3));"
   ]
  },
  {
   "cell_type": "code",
   "execution_count": null,
   "id": "4ecce849-3ca8-4de3-b9b0-fd197c0a7fb1",
   "metadata": {},
   "outputs": [],
   "source": [
    "// adil:- 123451234512345:- Correct Answer\n",
    "// mohsin:- 123451234512345:- Correct Answer\n",
    "// rizwan:- Number12345Number12345Number12345:- Number word is also convert to string:- Wrong Answer\n",
    "// furqan:- Number123451234512345:- Number word is also convert to string:- Wrong Answer\n",
    "// sulman:- Error:- Syntax Error:- Wrong Answer"
   ]
  },
  {
   "cell_type": "code",
   "execution_count": 4,
   "id": "76ac2e0b-b3c1-428a-b1be-5c7f2dc85a21",
   "metadata": {},
   "outputs": [
    {
     "name": "stdout",
     "output_type": "stream",
     "text": [
      "string\n"
     ]
    }
   ],
   "source": [
    "console.log(typeof(String(12345)));"
   ]
  },
  {
   "cell_type": "code",
   "execution_count": 1,
   "id": "9cf31e0c-612a-416c-8847-d823f8a74087",
   "metadata": {},
   "outputs": [
    {
     "name": "stdout",
     "output_type": "stream",
     "text": [
      "This is a Holy \"Book\"\n",
      ". And its price are 6000 Pkr\n"
     ]
    }
   ],
   "source": [
    "let str_text = 'This is a Holy \"Book\"\\n. And its price are 5000 Pkr';\n",
    "\n",
    "console.log(str_text.replace('5000',6000));"
   ]
  },
  {
   "cell_type": "code",
   "execution_count": null,
   "id": "a3175c08-3fe3-46ae-b5b7-10c60ba4b6a5",
   "metadata": {},
   "outputs": [],
   "source": [
    "// adil:- Error:- replace take string arguments not Number:- Wrong Answer\n",
    "// mohsin:- Error:- replace take string arguments not Number:- Wrong Answer\n",
    "// rizwan:- Error:- replace take string arguments not Number:- Wrong Answer\n",
    "// furqan:- Error:- replace take string arguments not Number:- Wrong Answer\n",
    "// sulman:- Error:- replace take string arguments not Number:- Wrong Answer"
   ]
  },
  {
   "cell_type": "code",
   "execution_count": null,
   "id": "278c75e4-c12a-45fb-8c4f-8a6c6fd7214e",
   "metadata": {},
   "outputs": [],
   "source": []
  },
  {
   "cell_type": "code",
   "execution_count": 1,
   "id": "f59e41e4-bd97-439e-880e-c7c075d64173",
   "metadata": {},
   "outputs": [],
   "source": [
    "let text = 'this iis a book. This is a good Book.';\n",
    "// output should be like this \n",
    "// This Is a book. This is a good Book."
   ]
  },
  {
   "cell_type": "code",
   "execution_count": null,
   "id": "1d727a49-07b3-4cea-a764-d0e89ec9ea32",
   "metadata": {},
   "outputs": [],
   "source": [
    "// adil:- correct Answer\n",
    "// mohsin:- correct Answer :- 100%\n",
    "// rizwan:- wrong Answer:- Timeup\n",
    "// furqan:- Null\n",
    "// sulman:- wrong Answer:- Timeup"
   ]
  },
  {
   "cell_type": "code",
   "execution_count": 2,
   "id": "1af55ecd-1fbd-4fc8-8bb7-84f05f71a50c",
   "metadata": {},
   "outputs": [
    {
     "name": "stdout",
     "output_type": "stream",
     "text": [
      "This Is a book. This is a good Book.\n"
     ]
    }
   ],
   "source": [
    "// adil:-\n",
    "let text_5 = text.replaceAll('this iis a book. This is a good Book.','This Is a book. This is a good Book.');\n",
    "console.log(text_5);"
   ]
  },
  {
   "cell_type": "code",
   "execution_count": null,
   "id": "37edd46d-a7d3-4a53-8e41-d9da6d64db95",
   "metadata": {},
   "outputs": [],
   "source": [
    "// furqan\n",
    "// Nan"
   ]
  },
  {
   "cell_type": "code",
   "execution_count": 3,
   "id": "0a1fe96d-00c1-46d7-bfe4-be9f8ab35ce1",
   "metadata": {},
   "outputs": [],
   "source": [
    "// sulman\n",
    "let text_3 = text.replace('this','This');\n",
    "let text_4 = text_3.replace('iis','is')"
   ]
  },
  {
   "cell_type": "code",
   "execution_count": 4,
   "id": "53c88e72-4d53-4301-9763-969aac1a0d32",
   "metadata": {},
   "outputs": [],
   "source": [
    "// rizwan\n",
    "let text_1 = text.replace('this iis a book.','This Is a book.');\n",
    "let text_2 = text.slice(17);\n",
    "let result = text"
   ]
  },
  {
   "cell_type": "code",
   "execution_count": 5,
   "id": "1837c154-ee5e-4a21-9f82-d33d9dcd30f7",
   "metadata": {},
   "outputs": [
    {
     "name": "stdout",
     "output_type": "stream",
     "text": [
      "This Is a book. This is a good Book.\n"
     ]
    }
   ],
   "source": [
    "// mohsin\n",
    "let new_text = text.replace('this','This');\n",
    "let center_text = new_text.replace('iis','Is');\n",
    "console.log(center_text);"
   ]
  },
  {
   "cell_type": "code",
   "execution_count": null,
   "id": "9066339d-0f30-46d7-ac5a-bb3e4da9d87b",
   "metadata": {},
   "outputs": [],
   "source": []
  },
  {
   "cell_type": "code",
   "execution_count": null,
   "id": "d12e4d93-01d2-4cbf-8863-faed1af38783",
   "metadata": {},
   "outputs": [],
   "source": []
  },
  {
   "cell_type": "code",
   "execution_count": null,
   "id": "85e827b1-f8ff-4763-b754-bfbcfb3b5c37",
   "metadata": {},
   "outputs": [],
   "source": []
  },
  {
   "cell_type": "code",
   "execution_count": null,
   "id": "a2049c34-984d-4176-b787-6857c3ed23a4",
   "metadata": {},
   "outputs": [],
   "source": []
  },
  {
   "cell_type": "code",
   "execution_count": null,
   "id": "1c57bedd-c77f-49cb-96be-e5c04a919698",
   "metadata": {},
   "outputs": [],
   "source": []
  },
  {
   "cell_type": "code",
   "execution_count": null,
   "id": "737b6e89-eefa-4b18-a293-1c96704b237d",
   "metadata": {},
   "outputs": [],
   "source": []
  },
  {
   "cell_type": "code",
   "execution_count": null,
   "id": "a30660af-8025-4385-af1f-c3da0d945151",
   "metadata": {},
   "outputs": [],
   "source": []
  },
  {
   "cell_type": "code",
   "execution_count": null,
   "id": "b3ade740-5b1f-4e38-bc00-63d536941e47",
   "metadata": {},
   "outputs": [],
   "source": []
  },
  {
   "cell_type": "code",
   "execution_count": null,
   "id": "d40e3b73-076f-4e39-af85-701171737812",
   "metadata": {},
   "outputs": [],
   "source": []
  }
 ],
 "metadata": {
  "kernelspec": {
   "display_name": "JavaScript (Node.js)",
   "language": "javascript",
   "name": "javascript"
  },
  "language_info": {
   "file_extension": ".js",
   "mimetype": "application/javascript",
   "name": "javascript",
   "version": "20.19.0"
  }
 },
 "nbformat": 4,
 "nbformat_minor": 5
}
