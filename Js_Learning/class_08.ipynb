{
 "cells": [
  {
   "cell_type": "markdown",
   "id": "f4d05d3a-fe5c-4b1c-bbbe-7febeb0d252a",
   "metadata": {},
   "source": [
    "# JavaScript Logical Operators"
   ]
  },
  {
   "cell_type": "code",
   "execution_count": null,
   "id": "9ab0c64d-fb86-4cbc-a38a-91564185c310",
   "metadata": {},
   "outputs": [],
   "source": [
    "// &&\tlogical and\n",
    "// ||\tlogical or\n",
    "// !\tlogical not"
   ]
  },
  {
   "cell_type": "code",
   "execution_count": 1,
   "id": "55614599-3769-43e7-b2bc-837c0cce6588",
   "metadata": {},
   "outputs": [
    {
     "data": {
      "text/plain": [
       "true"
      ]
     },
     "execution_count": 1,
     "metadata": {},
     "output_type": "execute_result"
    }
   ],
   "source": [
    "9 > 6 && 10 > 9;"
   ]
  },
  {
   "cell_type": "code",
   "execution_count": 2,
   "id": "2c95eaec-5788-4ff9-a239-498e34310b39",
   "metadata": {},
   "outputs": [
    {
     "data": {
      "text/plain": [
       "false"
      ]
     },
     "execution_count": 2,
     "metadata": {},
     "output_type": "execute_result"
    }
   ],
   "source": [
    "9 > 6 && 5 > 9;"
   ]
  },
  {
   "cell_type": "code",
   "execution_count": 5,
   "id": "d5a17c02-d2ed-41a5-beca-43af14cab990",
   "metadata": {},
   "outputs": [
    {
     "data": {
      "text/plain": [
       "false"
      ]
     },
     "execution_count": 5,
     "metadata": {},
     "output_type": "execute_result"
    }
   ],
   "source": [
    "6 > 6 && 6 > 9 && 9 < 8;"
   ]
  },
  {
   "cell_type": "code",
   "execution_count": 6,
   "id": "3cb5e934-1d0d-4495-bb13-dd7c1ea7c4b0",
   "metadata": {},
   "outputs": [],
   "source": [
    "// ||\tlogical or"
   ]
  },
  {
   "cell_type": "code",
   "execution_count": 7,
   "id": "fb0e6a43-7c0e-44ef-8b7e-abaaf6e2d6b9",
   "metadata": {},
   "outputs": [
    {
     "data": {
      "text/plain": [
       "true"
      ]
     },
     "execution_count": 7,
     "metadata": {},
     "output_type": "execute_result"
    }
   ],
   "source": [
    "10 > 2 || 9 < 5 || 8 > 12;"
   ]
  },
  {
   "cell_type": "code",
   "execution_count": 11,
   "id": "b1a3ceb2-0398-4d57-bbad-a8372a5c8558",
   "metadata": {},
   "outputs": [
    {
     "name": "stdout",
     "output_type": "stream",
     "text": [
      "true\n"
     ]
    }
   ],
   "source": [
    "let given_num = 0;\n",
    "\n",
    "console.log(!given_num);"
   ]
  },
  {
   "cell_type": "code",
   "execution_count": 13,
   "id": "5f375922-4bd4-4007-bbd9-b0185c75889a",
   "metadata": {},
   "outputs": [],
   "source": [
    "let answer = given_num == false;"
   ]
  },
  {
   "cell_type": "code",
   "execution_count": 15,
   "id": "2b2a2b76-7c65-474c-be92-121ad42edc22",
   "metadata": {},
   "outputs": [
    {
     "data": {
      "text/plain": [
       "false"
      ]
     },
     "execution_count": 15,
     "metadata": {},
     "output_type": "execute_result"
    }
   ],
   "source": [
    "!answer"
   ]
  },
  {
   "cell_type": "code",
   "execution_count": null,
   "id": "a2d96688-fde9-4bfe-8d58-6af1c2769302",
   "metadata": {},
   "outputs": [],
   "source": []
  }
 ],
 "metadata": {
  "kernelspec": {
   "display_name": "JavaScript (Node.js)",
   "language": "javascript",
   "name": "javascript"
  },
  "language_info": {
   "file_extension": ".js",
   "mimetype": "application/javascript",
   "name": "javascript",
   "version": "20.18.3"
  }
 },
 "nbformat": 4,
 "nbformat_minor": 5
}
