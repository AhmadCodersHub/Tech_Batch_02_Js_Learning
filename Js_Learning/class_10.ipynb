{
 "cells": [
  {
   "cell_type": "code",
   "execution_count": null,
   "id": "e37cb940-5311-49e3-97b5-a8450d40fa8c",
   "metadata": {},
   "outputs": [],
   "source": [
    "// negative indexing\n"
   ]
  },
  {
   "cell_type": "code",
   "execution_count": 1,
   "id": "d9c9c37d-d5a9-44ba-835c-890ae80c1f12",
   "metadata": {},
   "outputs": [],
   "source": [
    "let fruits_names = ['mango','orange','apple'];\n"
   ]
  },
  {
   "cell_type": "code",
   "execution_count": 3,
   "id": "928937a0-a8ff-402e-82f4-ad31a7f4c449",
   "metadata": {},
   "outputs": [
    {
     "name": "stdout",
     "output_type": "stream",
     "text": [
      "mango\n"
     ]
    }
   ],
   "source": [
    "console.log(fruits_names[0]);"
   ]
  },
  {
   "cell_type": "code",
   "execution_count": 7,
   "id": "54ba7156-cc99-41ff-91f4-67a492d96e43",
   "metadata": {},
   "outputs": [
    {
     "name": "stdout",
     "output_type": "stream",
     "text": [
      "apple\n"
     ]
    }
   ],
   "source": [
    "console.log(fruits_names.at(-1));"
   ]
  },
  {
   "cell_type": "code",
   "execution_count": null,
   "id": "b859888b-6335-4332-88d1-9cfc93b4ca13",
   "metadata": {},
   "outputs": [],
   "source": []
  },
  {
   "cell_type": "code",
   "execution_count": null,
   "id": "d7cf85b4-2277-4386-a372-164c798ffc08",
   "metadata": {},
   "outputs": [],
   "source": []
  },
  {
   "cell_type": "code",
   "execution_count": null,
   "id": "c7534fdf-8311-4d45-b047-811812aee907",
   "metadata": {},
   "outputs": [],
   "source": []
  },
  {
   "cell_type": "code",
   "execution_count": null,
   "id": "90dfd833-7167-4674-9bf4-437a5193eb04",
   "metadata": {},
   "outputs": [],
   "source": []
  }
 ],
 "metadata": {
  "kernelspec": {
   "display_name": "JavaScript (Node.js)",
   "language": "javascript",
   "name": "javascript"
  },
  "language_info": {
   "file_extension": ".js",
   "mimetype": "application/javascript",
   "name": "javascript",
   "version": "20.18.3"
  }
 },
 "nbformat": 4,
 "nbformat_minor": 5
}
