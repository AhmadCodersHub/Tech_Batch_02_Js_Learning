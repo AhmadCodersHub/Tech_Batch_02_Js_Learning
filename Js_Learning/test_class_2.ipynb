{
 "cells": [
  {
   "cell_type": "code",
   "execution_count": 4,
   "id": "fdc8f658-552a-4074-9943-e5448549217b",
   "metadata": {},
   "outputs": [
    {
     "name": "stdout",
     "output_type": "stream",
     "text": [
      "10\n"
     ]
    }
   ],
   "source": [
    "x = 10;\n",
    "\n",
    "console.log(x);"
   ]
  },
  {
   "cell_type": "code",
   "execution_count": 5,
   "id": "b889dbce-f688-435c-9fcf-a99940026058",
   "metadata": {},
   "outputs": [
    {
     "name": "stdout",
     "output_type": "stream",
     "text": [
      "12\n"
     ]
    }
   ],
   "source": [
    "x = 12;\n",
    "\n",
    "console.log(x);"
   ]
  },
  {
   "cell_type": "code",
   "execution_count": 6,
   "id": "eff48d3b-38e8-4ac5-9089-27f6cc8e74d1",
   "metadata": {},
   "outputs": [
    {
     "name": "stdout",
     "output_type": "stream",
     "text": [
      "13\n"
     ]
    }
   ],
   "source": [
    "var x = 13;\n",
    "\n",
    "console.log(x);"
   ]
  },
  {
   "cell_type": "code",
   "execution_count": 7,
   "id": "a0a1aad9-19fc-4612-9785-709581b844c7",
   "metadata": {},
   "outputs": [
    {
     "name": "stdout",
     "output_type": "stream",
     "text": [
      "15\n"
     ]
    }
   ],
   "source": [
    "var x = 15;\n",
    "\n",
    "console.log(x);"
   ]
  },
  {
   "cell_type": "code",
   "execution_count": 8,
   "id": "f9870570-ed66-4622-b158-740801396011",
   "metadata": {},
   "outputs": [],
   "source": [
    "let x = 10;"
   ]
  },
  {
   "cell_type": "code",
   "execution_count": 9,
   "id": "3e2f67f9-f459-4254-994c-ab9513b85939",
   "metadata": {},
   "outputs": [
    {
     "name": "stdout",
     "output_type": "stream",
     "text": [
      "10\n"
     ]
    }
   ],
   "source": [
    "console.log(x);"
   ]
  },
  {
   "cell_type": "code",
   "execution_count": 11,
   "id": "3ac7197a-c3b7-4acc-91cf-738782476ee8",
   "metadata": {},
   "outputs": [],
   "source": [
    "let y = 5;"
   ]
  },
  {
   "cell_type": "code",
   "execution_count": 12,
   "id": "116509ff-f457-4836-addc-7ff3451a5e46",
   "metadata": {},
   "outputs": [
    {
     "ename": "SyntaxError",
     "evalue": "Identifier 'y' has already been declared",
     "execution_count": 12,
     "output_type": "error",
     "traceback": [
      "evalmachine.<anonymous>:1",
      "const y = 6;",
      "^",
      "",
      "SyntaxError: Identifier 'y' has already been declared",
      "    at Script.runInThisContext (node:vm:137:12)",
      "    at Object.runInThisContext (node:vm:317:38)",
      "    at run ([eval]:1020:15)",
      "    at onRunRequest ([eval]:864:18)",
      "    at onMessage ([eval]:828:13)",
      "    at process.emit (node:events:524:28)",
      "    at emit (node:internal/child_process:950:14)",
      "    at process.processTicksAndRejections (node:internal/process/task_queues:83:21)"
     ]
    }
   ],
   "source": [
    "const y = 6;"
   ]
  }
 ],
 "metadata": {
  "kernelspec": {
   "display_name": "JavaScript (Node.js)",
   "language": "javascript",
   "name": "javascript"
  },
  "language_info": {
   "file_extension": ".js",
   "mimetype": "application/javascript",
   "name": "javascript",
   "version": "20.19.0"
  }
 },
 "nbformat": 4,
 "nbformat_minor": 5
}
