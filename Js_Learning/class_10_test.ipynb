{
 "cells": [
  {
   "cell_type": "code",
   "execution_count": 1,
   "id": "afcd1074-8305-4617-ba04-1b430d7ea876",
   "metadata": {},
   "outputs": [
    {
     "name": "stdout",
     "output_type": "stream",
     "text": [
      "NaN\n"
     ]
    }
   ],
   "source": [
    "let list_of_boolean = [true,false,true,false,true,false];\n",
    "const multiply_value = list_of_boolean * true;\n",
    "\n",
    "console.log(multiply_value);"
   ]
  },
  {
   "cell_type": "code",
   "execution_count": 2,
   "id": "5fd93bc1-9ae6-4481-ab14-e4a705d9bc62",
   "metadata": {},
   "outputs": [],
   "source": [
    "// adil:- false:- list_of_boolean answer is false that's why when we multiply false multiply true then answer should be false:- wrong answer\n",
    "// mohsin:- Error:- both variable make with different syntax. one is let and second is const:- wrong answer\n",
    "// rizwan:- [true,false,true,false,true,false]:- true by default value is 1. when we multiply it with list_of_boolean then answer should be same list_of_boolean:- wrong answer\n",
    "// furqan:- Error:- both variable make with different syntax. one is let and second is const:- wrong answer\n",
    "// sulman:- true:- we have one list. when we multiply it with true then answer should be true:- wrong answer"
   ]
  },
  {
   "cell_type": "code",
   "execution_count": 3,
   "id": "1268c65d-7c30-4c97-b91a-6df3eb7c9341",
   "metadata": {},
   "outputs": [
    {
     "data": {
      "text/plain": [
       "NaN"
      ]
     },
     "execution_count": 3,
     "metadata": {},
     "output_type": "execute_result"
    }
   ],
   "source": [
    "multiply_value"
   ]
  },
  {
   "cell_type": "code",
   "execution_count": 1,
   "id": "e07c1cda-1473-4ee9-9ef0-ad5c97b9ccab",
   "metadata": {},
   "outputs": [],
   "source": [
    "const list_of_numbers = [-5,-4,-3,-2,-1,0,1,2,3,4,5];\n",
    "\n",
    "// get the -3 item with negative indexing then multiply it with 3 item. 3 item should be get with positive indexing."
   ]
  },
  {
   "cell_type": "code",
   "execution_count": 2,
   "id": "21a896b1-a0bb-4a25-a181-b62702297d61",
   "metadata": {},
   "outputs": [
    {
     "name": "stdout",
     "output_type": "stream",
     "text": [
      "-9\n"
     ]
    }
   ],
   "source": [
    "// rizwan\n",
    "const value_number = list_of_numbers.at(-9);\n",
    "const value_number_2 = list_of_numbers[8];\n",
    "const value_calculations = value_number * value_number_2;\n",
    "\n",
    "console.log(value_calculations);"
   ]
  },
  {
   "cell_type": "code",
   "execution_count": null,
   "id": "f89a5536-3687-4473-80d9-af2ac95ed9fe",
   "metadata": {},
   "outputs": [],
   "source": []
  },
  {
   "cell_type": "code",
   "execution_count": 3,
   "id": "440222e3-1e36-48a3-927a-3b5c420e992d",
   "metadata": {},
   "outputs": [
    {
     "ename": "SyntaxError",
     "evalue": "Identifier 'list_of_numbers' has already been declared",
     "execution_count": 3,
     "output_type": "error",
     "traceback": [
      "evalmachine.<anonymous>:1",
      "",
      "",
      "SyntaxError: Identifier 'list_of_numbers' has already been declared",
      "    at Script.runInThisContext (node:vm:137:12)",
      "    at Object.runInThisContext (node:vm:317:38)",
      "    at run ([eval]:1020:15)",
      "    at onRunRequest ([eval]:864:18)",
      "    at onMessage ([eval]:828:13)",
      "    at process.emit (node:events:524:28)",
      "    at emit (node:internal/child_process:950:14)",
      "    at process.processTicksAndRejections (node:internal/process/task_queues:83:21)"
     ]
    }
   ],
   "source": [
    "\n",
    "// get the -3 item with negative indexing then multiply it with 3 item. 3 item should be get with positive indexing.\n",
    "\n",
    "\n",
    "// mohsin \n",
    "const num_1 = list_of_numbers.at(-9);\n",
    "const num_2 = list_of_numbers[8];\n",
    "\n",
    "const list_of_numbers = num_1 * num_2;\n",
    "console.log(list_of_numbers);"
   ]
  },
  {
   "cell_type": "code",
   "execution_count": null,
   "id": "be0d482c-6db7-46cf-9f8e-de2511dd7146",
   "metadata": {},
   "outputs": [],
   "source": []
  },
  {
   "cell_type": "code",
   "execution_count": null,
   "id": "9fb348d5-59ab-4877-9ff0-3a11f32f9f8e",
   "metadata": {},
   "outputs": [],
   "source": [
    "// const list_of_numbers = [-5,-4,-3,-2,-1,0,1,2,3,4,5];\n",
    "\n",
    "// // get the -3 item with negative indexing then multiply it with 3 item. 3 item should be get with positive indexing.\n"
   ]
  },
  {
   "cell_type": "code",
   "execution_count": null,
   "id": "0eea092a-1285-45ed-8ae0-78d22bfd0916",
   "metadata": {},
   "outputs": [],
   "source": [
    "// furqan\n",
    "\n",
    "const info_1 = (list_of_numbersat)\n",
    "\n",
    "Nan"
   ]
  },
  {
   "cell_type": "code",
   "execution_count": null,
   "id": "0d9f08ff-caa3-4d60-8817-25596ccbe6f1",
   "metadata": {},
   "outputs": [],
   "source": []
  },
  {
   "cell_type": "code",
   "execution_count": null,
   "id": "052f067c-eaf4-49ef-b273-167ce16a9483",
   "metadata": {},
   "outputs": [],
   "source": []
  },
  {
   "cell_type": "code",
   "execution_count": null,
   "id": "c93c5897-e3ec-48e7-8998-f0ae2bd2bcad",
   "metadata": {},
   "outputs": [],
   "source": []
  },
  {
   "cell_type": "code",
   "execution_count": null,
   "id": "6a7e9a84-a4d4-419e-b784-1190d5dd1080",
   "metadata": {},
   "outputs": [],
   "source": [
    "// const list_of_numbers = [-5,-4,-3,-2,-1,0,1,2,3,4,5];\n",
    "\n",
    "// // get the -3 item with negative indexing then multiply it with 3 item. 3 item should be get with positive indexing.\n"
   ]
  },
  {
   "cell_type": "code",
   "execution_count": 4,
   "id": "60f4ce5c-192c-4d62-a401-e0cafcdde430",
   "metadata": {},
   "outputs": [
    {
     "name": "stdout",
     "output_type": "stream",
     "text": [
      "-9\n"
     ]
    }
   ],
   "source": [
    "//adil\n",
    "const value = list_of_numbers.at(-9);\n",
    "const value_1 = list_of_numbers[8];\n",
    "const calculate_all_value = value * value_1;\n",
    "console.log(calculate_all_value);"
   ]
  },
  {
   "cell_type": "code",
   "execution_count": null,
   "id": "dfdc039d-ca3c-4665-a717-5c69fba40672",
   "metadata": {},
   "outputs": [],
   "source": []
  },
  {
   "cell_type": "code",
   "execution_count": null,
   "id": "983f620f-ae19-4d38-adb4-d8e60320f8c8",
   "metadata": {},
   "outputs": [],
   "source": [
    "// const list_of_numbers = [-5,-4,-3,-2,-1,0,1,2,3,4,5];\n",
    "\n",
    "// // get the -3 item with negative indexing then multiply it with 3 item. 3 item should be get with positive indexing.\n"
   ]
  },
  {
   "cell_type": "code",
   "execution_count": 5,
   "id": "5160c0dd-07e2-426e-869b-15095a247b70",
   "metadata": {},
   "outputs": [
    {
     "name": "stdout",
     "output_type": "stream",
     "text": [
      "-3\n",
      "3\n"
     ]
    }
   ],
   "source": [
    "// sulman\n",
    "\n",
    "console.log(list_of_numbers.at(-9));\n",
    "console.log(list_of_numbers[8]);\n",
    "\n"
   ]
  },
  {
   "cell_type": "code",
   "execution_count": null,
   "id": "8bc859e6-1eb3-4e8a-89df-316773b225bc",
   "metadata": {},
   "outputs": [],
   "source": []
  },
  {
   "cell_type": "code",
   "execution_count": null,
   "id": "6f9c6164-1fbc-435e-bee2-dc68ac51d458",
   "metadata": {},
   "outputs": [],
   "source": []
  },
  {
   "cell_type": "code",
   "execution_count": null,
   "id": "2ba773d6-e6f5-4b91-a724-e4e931104fb8",
   "metadata": {},
   "outputs": [],
   "source": []
  },
  {
   "cell_type": "code",
   "execution_count": null,
   "id": "d2f77b69-65a8-4c3a-a177-8875aaac7dc9",
   "metadata": {},
   "outputs": [],
   "source": []
  },
  {
   "cell_type": "code",
   "execution_count": null,
   "id": "b8c85c5d-bc10-40e1-9937-5d7000b349b1",
   "metadata": {},
   "outputs": [],
   "source": []
  },
  {
   "cell_type": "code",
   "execution_count": null,
   "id": "fe4b7f63-7a1d-4a19-8d9c-317f44987fca",
   "metadata": {},
   "outputs": [],
   "source": []
  },
  {
   "cell_type": "code",
   "execution_count": null,
   "id": "9dd80bab-72ac-4c6f-8be2-9463aea542ff",
   "metadata": {},
   "outputs": [],
   "source": []
  },
  {
   "cell_type": "code",
   "execution_count": null,
   "id": "f6c9de6b-ff35-47b0-9222-48737dc09fcf",
   "metadata": {},
   "outputs": [],
   "source": []
  },
  {
   "cell_type": "code",
   "execution_count": null,
   "id": "388b93dc-556b-48d4-b42d-afea4b959450",
   "metadata": {},
   "outputs": [],
   "source": []
  }
 ],
 "metadata": {
  "kernelspec": {
   "display_name": "JavaScript (Node.js)",
   "language": "javascript",
   "name": "javascript"
  },
  "language_info": {
   "file_extension": ".js",
   "mimetype": "application/javascript",
   "name": "javascript",
   "version": "20.19.0"
  }
 },
 "nbformat": 4,
 "nbformat_minor": 5
}
