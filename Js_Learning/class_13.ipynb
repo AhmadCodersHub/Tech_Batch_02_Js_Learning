{
 "cells": [
  {
   "cell_type": "markdown",
   "id": "ca6d1278-0455-4402-95d5-7ca73742b735",
   "metadata": {},
   "source": [
    "# JavaScript String Methods"
   ]
  },
  {
   "cell_type": "code",
   "execution_count": 1,
   "id": "1389cfbf-8fb1-4425-ae02-fa484672435b",
   "metadata": {},
   "outputs": [],
   "source": [
    "// String [ ]\n",
    "// String at()\n",
    "// String length\n",
    "// String slice()"
   ]
  },
  {
   "cell_type": "code",
   "execution_count": 2,
   "id": "14ad729d-a5da-41e6-8713-15a12b818be6",
   "metadata": {},
   "outputs": [],
   "source": [
    "let given_string = 'this is a book';"
   ]
  },
  {
   "cell_type": "code",
   "execution_count": null,
   "id": "4faa40d4-29fe-43e0-96f8-e11147d1b620",
   "metadata": {},
   "outputs": [],
   "source": [
    "// String [ ]"
   ]
  },
  {
   "cell_type": "code",
   "execution_count": 3,
   "id": "2a22af40-11d3-449c-957d-f531353c0324",
   "metadata": {},
   "outputs": [],
   "source": [
    "// positive indexing or positive accessing"
   ]
  },
  {
   "cell_type": "code",
   "execution_count": 4,
   "id": "988bb6c7-0e93-4d9d-bc44-2302038b9309",
   "metadata": {},
   "outputs": [
    {
     "name": "stdout",
     "output_type": "stream",
     "text": [
      "t\n"
     ]
    }
   ],
   "source": [
    "console.log(given_string[0]);"
   ]
  },
  {
   "cell_type": "code",
   "execution_count": null,
   "id": "f7ec3d38-6d9c-4cc0-922b-f2f57518b5d1",
   "metadata": {},
   "outputs": [],
   "source": [
    "// negative indexing or negative accessing"
   ]
  },
  {
   "cell_type": "code",
   "execution_count": null,
   "id": "5c9e675b-afc2-4231-9161-86016f9a8bf4",
   "metadata": {},
   "outputs": [],
   "source": [
    "// String at()"
   ]
  },
  {
   "cell_type": "code",
   "execution_count": 5,
   "id": "af1d973c-9816-4e02-a0fc-86d31adeae64",
   "metadata": {},
   "outputs": [
    {
     "name": "stdout",
     "output_type": "stream",
     "text": [
      "k\n"
     ]
    }
   ],
   "source": [
    "console.log(given_string.at(-1));"
   ]
  },
  {
   "cell_type": "code",
   "execution_count": 6,
   "id": "f25e6dcc-ed95-4210-a1e1-ec7f7235af5d",
   "metadata": {},
   "outputs": [],
   "source": [
    "// String length"
   ]
  },
  {
   "cell_type": "code",
   "execution_count": 7,
   "id": "2d279724-3994-4d8d-8f0c-b45d132ce614",
   "metadata": {},
   "outputs": [
    {
     "name": "stdout",
     "output_type": "stream",
     "text": [
      "14\n"
     ]
    }
   ],
   "source": [
    "console.log(given_string.length);"
   ]
  },
  {
   "cell_type": "code",
   "execution_count": null,
   "id": "e3ebc104-b5a6-496b-bf4d-f5455c205467",
   "metadata": {},
   "outputs": [],
   "source": [
    "// String slice()"
   ]
  },
  {
   "cell_type": "code",
   "execution_count": 10,
   "id": "b90a3c1f-0718-427c-8841-69337d1592d4",
   "metadata": {},
   "outputs": [
    {
     "name": "stdout",
     "output_type": "stream",
     "text": [
      "this\n"
     ]
    }
   ],
   "source": [
    "console.log(given_string.slice(0,4));"
   ]
  },
  {
   "cell_type": "code",
   "execution_count": null,
   "id": "7749f76e-e7b7-4a2e-89fe-7042aea40df8",
   "metadata": {},
   "outputs": [],
   "source": [
    "// how to get text without this?"
   ]
  },
  {
   "cell_type": "code",
   "execution_count": 14,
   "id": "940ab4d8-7e28-477d-901d-3a8502e52217",
   "metadata": {},
   "outputs": [
    {
     "name": "stdout",
     "output_type": "stream",
     "text": [
      " is a book\n"
     ]
    }
   ],
   "source": [
    "console.log(given_string.slice(4));"
   ]
  }
 ],
 "metadata": {
  "kernelspec": {
   "display_name": "JavaScript (Node.js)",
   "language": "javascript",
   "name": "javascript"
  },
  "language_info": {
   "file_extension": ".js",
   "mimetype": "application/javascript",
   "name": "javascript",
   "version": "20.19.0"
  }
 },
 "nbformat": 4,
 "nbformat_minor": 5
}
