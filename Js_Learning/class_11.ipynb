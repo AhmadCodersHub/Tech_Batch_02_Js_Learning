{
 "cells": [
  {
   "cell_type": "code",
   "execution_count": null,
   "id": "369424f4-115a-4dad-b272-3672ec5c16bc",
   "metadata": {},
   "outputs": [],
   "source": [
    "// Datatype maps"
   ]
  },
  {
   "cell_type": "code",
   "execution_count": 1,
   "id": "cddfefe0-e852-49e3-a888-ce59fc06c4ad",
   "metadata": {},
   "outputs": [
    {
     "name": "stdout",
     "output_type": "stream",
     "text": [
      "[ 'ali', 'raza', '9th', 17, 15 ]\n"
     ]
    }
   ],
   "source": [
    "let array_person_data = ['ali','raza','9th',17,15];\n",
    "\n",
    "console.log(array_person_data);"
   ]
  },
  {
   "cell_type": "code",
   "execution_count": null,
   "id": "e749fdc6-8cc5-4c4c-9c0a-b51febb1b0fe",
   "metadata": {},
   "outputs": [],
   "source": []
  },
  {
   "cell_type": "code",
   "execution_count": 2,
   "id": "7c2b5e1b-9fad-4606-b557-a8a71e50774c",
   "metadata": {},
   "outputs": [
    {
     "name": "stdout",
     "output_type": "stream",
     "text": [
      "{\n",
      "  'first name': 'ali',\n",
      "  'last name': 'raza',\n",
      "  class: '9th',\n",
      "  age: 17,\n",
      "  'roll no': 15\n",
      "}\n"
     ]
    }
   ],
   "source": [
    "let maps_array_data = {'first name':'ali','last name':'raza','class':'9th','age':17,'roll no':15};\n",
    "console.log(maps_array_data);"
   ]
  },
  {
   "cell_type": "code",
   "execution_count": 3,
   "id": "0aa2532e-f214-4a88-b03f-3de74542e5dd",
   "metadata": {},
   "outputs": [
    {
     "name": "stdout",
     "output_type": "stream",
     "text": [
      "{\n",
      "  'furit name': 'apple',\n",
      "  'market price': 15,\n",
      "  'our price': 10,\n",
      "  discount: '30%'\n",
      "}\n"
     ]
    }
   ],
   "source": [
    "let furit_data = {\n",
    "    'furit name': 'apple',\n",
    "    'market price': 15.00,\n",
    "    'our price': 10.00,\n",
    "    'discount': '30%'\n",
    "}\n",
    "\n",
    "console.log(furit_data);"
   ]
  },
  {
   "cell_type": "code",
   "execution_count": 7,
   "id": "ca7484b4-d20b-4875-8649-b726bf513d98",
   "metadata": {},
   "outputs": [
    {
     "name": "stdout",
     "output_type": "stream",
     "text": [
      "apple\n",
      "15\n",
      "10\n"
     ]
    }
   ],
   "source": [
    "//  accessing items\n",
    "\n",
    "console.log(furit_data['furit name']);\n",
    "console.log(furit_data['market price']);\n",
    "console.log(furit_data['our price']);"
   ]
  },
  {
   "cell_type": "code",
   "execution_count": 8,
   "id": "2c5e3aa1-e4d6-46f5-9c43-f1a69f26952c",
   "metadata": {},
   "outputs": [
    {
     "name": "stdout",
     "output_type": "stream",
     "text": [
      "object\n"
     ]
    }
   ],
   "source": [
    "console.log(typeof(maps_array_data));"
   ]
  },
  {
   "cell_type": "code",
   "execution_count": null,
   "id": "157ba664-4bda-40da-a669-3fd12acd7e3f",
   "metadata": {},
   "outputs": [],
   "source": []
  },
  {
   "cell_type": "code",
   "execution_count": null,
   "id": "bd1fd38d-1bc7-448f-8020-46f2cd27d936",
   "metadata": {},
   "outputs": [],
   "source": []
  },
  {
   "cell_type": "code",
   "execution_count": null,
   "id": "689f7b10-046f-4d16-9cb2-ac2b4bce80ce",
   "metadata": {},
   "outputs": [],
   "source": []
  }
 ],
 "metadata": {
  "kernelspec": {
   "display_name": "JavaScript (Node.js)",
   "language": "javascript",
   "name": "javascript"
  },
  "language_info": {
   "file_extension": ".js",
   "mimetype": "application/javascript",
   "name": "javascript",
   "version": "20.19.0"
  }
 },
 "nbformat": 4,
 "nbformat_minor": 5
}
