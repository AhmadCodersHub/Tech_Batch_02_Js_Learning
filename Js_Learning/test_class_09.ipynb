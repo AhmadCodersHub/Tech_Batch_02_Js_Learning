{
 "cells": [
  {
   "cell_type": "code",
   "execution_count": 1,
   "id": "087a699a-64bd-4ada-9127-2700837cb1b6",
   "metadata": {},
   "outputs": [
    {
     "name": "stdout",
     "output_type": "stream",
     "text": [
      "null\n",
      "object\n"
     ]
    }
   ],
   "source": [
    "let price_of_fruits = null;\n",
    "\n",
    "console.log(price_of_fruits);\n",
    "console.log(typeof(price_of_fruits));"
   ]
  },
  {
   "cell_type": "code",
   "execution_count": null,
   "id": "3c8042c8-a454-4e65-9db4-cf8f1869fccf",
   "metadata": {},
   "outputs": [],
   "source": [
    "// Sulman:- empty object :- due to print outs the value and typeof :- wrong answer\n",
    "// Adil:- null number:- due to print outs the value and typeof :- wrong answer\n",
    "// Furqan:- null object:- due to print outs the value and typeof :- correct answer\n",
    "// Rizwan:- undefined object:- due to print outs the value and typeof :- wrong answer\n",
    "// Mohsin:- null boolean:- due to print outs the value and typeof :- wrong answer"
   ]
  },
  {
   "cell_type": "code",
   "execution_count": null,
   "id": "1bc7dd53-09cc-406e-9590-a845d5604664",
   "metadata": {},
   "outputs": [],
   "source": []
  },
  {
   "cell_type": "code",
   "execution_count": null,
   "id": "5d364ab3-f6cc-4b1e-a3c0-45ecb3517484",
   "metadata": {},
   "outputs": [],
   "source": []
  },
  {
   "cell_type": "code",
   "execution_count": 2,
   "id": "d50d5656-7d8c-4322-ae24-5556b46e2a4f",
   "metadata": {},
   "outputs": [
    {
     "name": "stdout",
     "output_type": "stream",
     "text": [
      "furits names [ 'mango, apple, banana, orange, melon, grapes' ] total furits 4000\n"
     ]
    }
   ],
   "source": [
    "let furits_names = ['mango, apple, banana, orange, melon, grapes'];\n",
    "let length_furits = furits_names.length * 2000;\n",
    "let total_fruits_purchased = length_furits + 2000;\n",
    "console.log('furits names',furits_names,'total furits',total_fruits_purchased); "
   ]
  },
  {
   "cell_type": "code",
   "execution_count": null,
   "id": "2cda5f74-0f34-41be-80af-a7ce05054a2c",
   "metadata": {},
   "outputs": [],
   "source": [
    "// Sulman:- Error:- due to syntax wrong\n",
    "// Adil:- 'furits names', 'mango', 'apple', 'banana', 'orange', melon, grapes, 'total furits', 14000\n",
    "// Furqan:- 'furits names', ['mango, apple, banana, orange, melon, grapes'] ,'total furits', 12000\n",
    "// Rizwan:- 'furits names', ['mango, apple, banana, orange, melon, grapes'] ,'total furits', 2006\n",
    "// Mohsin:- 'furits names', ['mango, apple, banana, orange, melon, grapes'] ,'total furits', 14000"
   ]
  },
  {
   "cell_type": "code",
   "execution_count": 3,
   "id": "421c5139-2fbd-452a-936d-fe9c0379ab8f",
   "metadata": {},
   "outputs": [
    {
     "data": {
      "text/plain": [
       "1"
      ]
     },
     "execution_count": 3,
     "metadata": {},
     "output_type": "execute_result"
    }
   ],
   "source": [
    "furits_names.length"
   ]
  },
  {
   "cell_type": "code",
   "execution_count": 4,
   "id": "12880d71-14fe-4cbe-be6b-762baf6206fe",
   "metadata": {},
   "outputs": [
    {
     "data": {
      "text/plain": [
       "2000"
      ]
     },
     "execution_count": 4,
     "metadata": {},
     "output_type": "execute_result"
    }
   ],
   "source": [
    "length_furits"
   ]
  },
  {
   "cell_type": "code",
   "execution_count": 1,
   "id": "42699620-bbe1-4783-83b4-b47655f66dab",
   "metadata": {},
   "outputs": [],
   "source": [
    "let my_info = ['total budget',5500,'car',5000,'mouse',100,'cpu',4000,'keyborad',200,'monitor',300.00,'house',120000,];\n",
    "\n",
    "// My budget is 1500$ to buy a brand new pc, you need to calculate all pc products prices and then let me know i can buy the pc or not\n",
    "// if computer products prices are under my budget then it should be print true else false\n",
    "// my budget and market prices of products will be change day by day. so you need to make a program that can give us correct answer even the prices have\n",
    "// been changed"
   ]
  },
  {
   "cell_type": "code",
   "execution_count": 2,
   "id": "0308dc4b-1876-440e-83e7-9ea80d31ad20",
   "metadata": {},
   "outputs": [
    {
     "name": "stdout",
     "output_type": "stream",
     "text": [
      "my budget 5500 computer products total price 4600 Price are Under Budget:-  true\n"
     ]
    }
   ],
   "source": [
    "let total_budget = my_info[1];\n",
    "let mouse_price = my_info[5];\n",
    "let monitor_price = my_info[11];\n",
    "let keyboard_price = my_info[9];\n",
    "let cpu_price = my_info[7];\n",
    "\n",
    "let calculate_prices = mouse_price + monitor_price + keyboard_price + cpu_price;\n",
    "let under_budget = calculate_prices <= total_budget;\n",
    "\n",
    "console.log('my budget',total_budget, 'computer products total price',calculate_prices, 'Price are Under Budget:- ',under_budget);"
   ]
  },
  {
   "cell_type": "code",
   "execution_count": null,
   "id": "5ba7035e-d4ce-48c1-a36e-e6e1180c6b7e",
   "metadata": {},
   "outputs": [],
   "source": []
  },
  {
   "cell_type": "code",
   "execution_count": null,
   "id": "08e4b8bc-7564-4644-b815-d9d0d22ef2c9",
   "metadata": {},
   "outputs": [],
   "source": []
  },
  {
   "cell_type": "code",
   "execution_count": null,
   "id": "1395e701-6f37-49cb-ad37-77c45c7ee2c1",
   "metadata": {},
   "outputs": [],
   "source": []
  },
  {
   "cell_type": "code",
   "execution_count": null,
   "id": "adc988d3-30e8-4eb0-ab27-f959572fbd36",
   "metadata": {},
   "outputs": [],
   "source": []
  },
  {
   "cell_type": "code",
   "execution_count": null,
   "id": "e43c21ee-2b8b-4482-b2ec-7ecffa0228ca",
   "metadata": {},
   "outputs": [],
   "source": []
  }
 ],
 "metadata": {
  "kernelspec": {
   "display_name": "JavaScript (Node.js)",
   "language": "javascript",
   "name": "javascript"
  },
  "language_info": {
   "file_extension": ".js",
   "mimetype": "application/javascript",
   "name": "javascript",
   "version": "20.18.3"
  }
 },
 "nbformat": 4,
 "nbformat_minor": 5
}
