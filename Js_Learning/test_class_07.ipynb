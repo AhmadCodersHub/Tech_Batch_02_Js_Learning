{
 "cells": [
  {
   "cell_type": "code",
   "execution_count": 1,
   "id": "280f226e-dbb6-4607-9a18-a223605493d7",
   "metadata": {},
   "outputs": [],
   "source": [
    "let str_1 = 'hello, Good Morning';\n",
    "let str_2 = 'hello, Good After noon';"
   ]
  },
  {
   "cell_type": "code",
   "execution_count": 7,
   "id": "121e8921-e46d-4122-b5c1-a53c7216283d",
   "metadata": {},
   "outputs": [
    {
     "name": "stdout",
     "output_type": "stream",
     "text": [
      "19\n",
      "22\n"
     ]
    }
   ],
   "source": [
    "console.log(str_1.length);\n",
    "console.log(str_2.length);"
   ]
  },
  {
   "cell_type": "code",
   "execution_count": 2,
   "id": "ce9e4b09-8892-4c5b-adcc-bced208e127b",
   "metadata": {},
   "outputs": [
    {
     "name": "stdout",
     "output_type": "stream",
     "text": [
      "true\n"
     ]
    }
   ],
   "source": [
    "const answer = str_1.length >= str_2.length;\n",
    "const let_ans = false;\n",
    "console.log(answer === let_ans);"
   ]
  },
  {
   "cell_type": "code",
   "execution_count": 6,
   "id": "d8c920c5-694e-4281-9bd0-a95d752679d4",
   "metadata": {},
   "outputs": [
    {
     "data": {
      "text/plain": [
       "true"
      ]
     },
     "execution_count": 6,
     "metadata": {},
     "output_type": "execute_result"
    }
   ],
   "source": [
    "str_1 > str_2"
   ]
  },
  {
   "cell_type": "code",
   "execution_count": null,
   "id": "68fa47e7-af70-4ed8-914a-b4c3dc3cef07",
   "metadata": {},
   "outputs": [],
   "source": []
  },
  {
   "cell_type": "code",
   "execution_count": null,
   "id": "136e4f49-6ba4-45b7-b69e-d418139ef896",
   "metadata": {},
   "outputs": [],
   "source": [
    "// Sulman:- Error:- due to wrong use of opreator  :- wrong\n",
    "// Adil:- true:- due to answer output is false and comparsion value is also false. and we are comparing both values :- draw\n",
    "// Furqan:- false:-  :- draw\n",
    "// Rizwan:- true:- due to answer output is false and comparsion value is also false. and we are comparing both values :- draw\n",
    "// Mohsin:- true:- due to answer output is false and comparsion value is also false. and we are comparing both values :- draw"
   ]
  },
  {
   "cell_type": "code",
   "execution_count": null,
   "id": "a30869cf-1219-411c-8f82-186f4383f8b7",
   "metadata": {},
   "outputs": [],
   "source": []
  },
  {
   "cell_type": "code",
   "execution_count": 1,
   "id": "b4f5c73f-9733-45db-b015-c4851afefdd3",
   "metadata": {},
   "outputs": [
    {
     "ename": "TypeError",
     "evalue": "Assignment to constant variable.",
     "execution_count": 1,
     "output_type": "error",
     "traceback": [
      "evalmachine.<anonymous>:4",
      "num_2 += 10;",
      "      ^",
      "",
      "TypeError: Assignment to constant variable.",
      "    at evalmachine.<anonymous>:4:7",
      "    at Script.runInThisContext (node:vm:137:12)",
      "    at Object.runInThisContext (node:vm:317:38)",
      "    at run ([eval]:1020:15)",
      "    at onRunRequest ([eval]:864:18)",
      "    at onMessage ([eval]:828:13)",
      "    at process.emit (node:events:518:28)",
      "    at emit (node:internal/child_process:950:14)",
      "    at process.processTicksAndRejections (node:internal/process/task_queues:83:21)"
     ]
    }
   ],
   "source": [
    "let num_1 = 12;\n",
    "const num_2 = 15;\n",
    "num_1 += 10;\n",
    "num_2 += 10;\n",
    "console.log(num_1 !== num_2);"
   ]
  },
  {
   "cell_type": "code",
   "execution_count": null,
   "id": "431db924-18b4-40f2-a015-0aae207f071f",
   "metadata": {},
   "outputs": [],
   "source": [
    "// Sulman:- true:- due to values are not equal:- wrong\n",
    "// Adil:- true:- due to values are not equal:- wrong\n",
    "// Furqan:- false:- due to :- wrong\n",
    "// Rizwan:- Error:- due to const variable:- correct\n",
    "// Mohsin:- true:- due to values are not equal:- wrong"
   ]
  },
  {
   "cell_type": "code",
   "execution_count": null,
   "id": "76ed5cec-de22-4ca3-a20b-077aa9928830",
   "metadata": {},
   "outputs": [],
   "source": []
  },
  {
   "cell_type": "code",
   "execution_count": 2,
   "id": "14d77f6a-8d56-463b-8372-cde3d097ecc6",
   "metadata": {},
   "outputs": [
    {
     "name": "stdout",
     "output_type": "stream",
     "text": [
      "12345\n"
     ]
    }
   ],
   "source": [
    "let numbers = '1234';\n",
    "let str_numbers = 12345;\n",
    "\n",
    "str_numbers >= numbers;\n",
    "\n",
    "console.log(str_numbers);"
   ]
  },
  {
   "cell_type": "code",
   "execution_count": null,
   "id": "48136534-bc87-400f-942c-4ae8098a4016",
   "metadata": {},
   "outputs": [],
   "source": [
    "// Sulman:- 12345:- correct\n",
    "// Adil:- true:- wrong\n",
    "// Furqan:- true:- wrong\n",
    "// Rizwan:- true 12345:- 50%\n",
    "// Mohsin:- true:- wrong"
   ]
  },
  {
   "cell_type": "code",
   "execution_count": null,
   "id": "ee855fc4-7908-4dff-9828-2b795be9f1a4",
   "metadata": {},
   "outputs": [],
   "source": []
  },
  {
   "cell_type": "code",
   "execution_count": 4,
   "id": "bfe471f1-a408-4df6-ba28-87c0eda03c54",
   "metadata": {},
   "outputs": [
    {
     "name": "stdout",
     "output_type": "stream",
     "text": [
      "true\n"
     ]
    }
   ],
   "source": [
    "let first_value = +1800 - 2000 + 5;\n",
    "let secound_value = first_value < 0; \n",
    "\n",
    "console.log(secound_value != false); "
   ]
  },
  {
   "cell_type": "code",
   "execution_count": null,
   "id": "65518dd2-8c3c-4950-9434-51ad1d09fa4c",
   "metadata": {},
   "outputs": [],
   "source": [
    "// Sulman:- true:- due to second value is true and we are comparing it with false so that's why it is true:- correct answer\n",
    "// Adil:- true:- due to second value is false and we are comparing it with false so that's why it is true:- correct answer reason wrong\n",
    "// Furqan:- true:- due to second value is true and we are comparing it with false so that's why it is true:- correct answer\n",
    "// Rizwan:- true:- due to second value is false and we are comparing it with false so that's why it is true:- correct answer reason wrong\n",
    "// Mohsin:- true:- due to second value is false and we are comparing it with false so that's why it is true:- correct answer reason wrong"
   ]
  },
  {
   "cell_type": "code",
   "execution_count": null,
   "id": "4eb3b59b-2a21-49b3-88b2-f213ecf64568",
   "metadata": {},
   "outputs": [],
   "source": []
  },
  {
   "cell_type": "code",
   "execution_count": null,
   "id": "ffd0b179-ed6d-40a9-8f6e-2092878b6555",
   "metadata": {},
   "outputs": [],
   "source": []
  },
  {
   "cell_type": "code",
   "execution_count": null,
   "id": "c1a115cf-2b70-487b-80d1-15299f7da471",
   "metadata": {},
   "outputs": [],
   "source": []
  },
  {
   "cell_type": "code",
   "execution_count": null,
   "id": "2aabb6d2-e378-44fc-ba66-329f0158439e",
   "metadata": {},
   "outputs": [],
   "source": []
  }
 ],
 "metadata": {
  "kernelspec": {
   "display_name": "JavaScript (Node.js)",
   "language": "javascript",
   "name": "javascript"
  },
  "language_info": {
   "file_extension": ".js",
   "mimetype": "application/javascript",
   "name": "javascript",
   "version": "20.18.3"
  }
 },
 "nbformat": 4,
 "nbformat_minor": 5
}
