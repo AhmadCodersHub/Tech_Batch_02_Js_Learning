{
 "cells": [
  {
   "cell_type": "code",
   "execution_count": 2,
   "id": "be94d3e2-f6f0-4819-8200-dfe3a6aa5395",
   "metadata": {},
   "outputs": [
    {
     "name": "stdout",
     "output_type": "stream",
     "text": [
      "false\n"
     ]
    }
   ],
   "source": [
    "console.log(typeof('10') == typeof(10));"
   ]
  },
  {
   "cell_type": "code",
   "execution_count": 1,
   "id": "9aa20102-8602-4e98-86d1-890e7f3cc7a5",
   "metadata": {},
   "outputs": [],
   "source": [
    "// adil:- false:- due to differnet types. correct answer\n",
    "// mohsin:- true:- due to equal equal opreator(just check the value not check type). wrong answer\n",
    "// rizwan:- true:- due to equal equal opreator(just check the value not check type). wrong answer\n",
    "// furqan:- true:- due to equal equal opreator(just check the value not check type). wrong answer"
   ]
  },
  {
   "cell_type": "code",
   "execution_count": 3,
   "id": "e95bbcb5-5060-42eb-bd2d-09177d7fdbd7",
   "metadata": {},
   "outputs": [
    {
     "data": {
      "text/plain": [
       "'string'"
      ]
     },
     "execution_count": 3,
     "metadata": {},
     "output_type": "execute_result"
    }
   ],
   "source": [
    "typeof('10');"
   ]
  },
  {
   "cell_type": "code",
   "execution_count": 4,
   "id": "ee26791f-37b7-4974-96b4-e48b0f7ff7c7",
   "metadata": {},
   "outputs": [
    {
     "data": {
      "text/plain": [
       "'number'"
      ]
     },
     "execution_count": 4,
     "metadata": {},
     "output_type": "execute_result"
    }
   ],
   "source": [
    "typeof(10);"
   ]
  },
  {
   "cell_type": "code",
   "execution_count": 5,
   "id": "5ea462c4-e23e-442a-b359-9a98526984e2",
   "metadata": {},
   "outputs": [
    {
     "data": {
      "text/plain": [
       "false"
      ]
     },
     "execution_count": 5,
     "metadata": {},
     "output_type": "execute_result"
    }
   ],
   "source": [
    "'string' == 'number';"
   ]
  },
  {
   "cell_type": "code",
   "execution_count": 8,
   "id": "5ffb596a-fdb7-4116-a01d-14dda98340eb",
   "metadata": {},
   "outputs": [
    {
     "name": "stdout",
     "output_type": "stream",
     "text": [
      "24\n"
     ]
    }
   ],
   "source": [
    "console.log(12 + 12);"
   ]
  },
  {
   "cell_type": "code",
   "execution_count": null,
   "id": "f854c0a5-d262-4cff-94d2-2137926d0d58",
   "metadata": {},
   "outputs": [],
   "source": []
  },
  {
   "cell_type": "code",
   "execution_count": 1,
   "id": "7657a147-45a5-4f88-a152-3eee04894db1",
   "metadata": {},
   "outputs": [
    {
     "name": "stdout",
     "output_type": "stream",
     "text": [
      "2222.3\n"
     ]
    }
   ],
   "source": [
    "let num_1 = 2;\n",
    "let num_2 = '2';\n",
    "let num_3 = \"2\";\n",
    "let num_4 = 2.0;\n",
    "let plus_all_numbers = num_1 + num_2 + num_3 + num_4;\n",
    "\n",
    "console.log(plus_all_numbers);\n"
   ]
  },
  {
   "cell_type": "code",
   "execution_count": 2,
   "id": "9355d033-0f3b-41d7-b22f-97bf446a360d",
   "metadata": {},
   "outputs": [],
   "source": [
    "// adil:- 4.022:- wrong answer\n",
    "// mohsin:- 2222.0:- correct answer\n",
    "// rizwan:- 2222:- correct answer\n",
    "// furqan:- 224.0 wrong answer"
   ]
  },
  {
   "cell_type": "code",
   "execution_count": null,
   "id": "32cfdb99-e4d4-48d0-a36e-8668ad698fd4",
   "metadata": {},
   "outputs": [],
   "source": []
  },
  {
   "cell_type": "code",
   "execution_count": 1,
   "id": "cf8016f7-5e1a-4546-bbb3-ded7fb4016f3",
   "metadata": {},
   "outputs": [
    {
     "name": "stdout",
     "output_type": "stream",
     "text": [
      "23\n"
     ]
    }
   ],
   "source": [
    "let given_string = 'this is a car. it\"s price should be 23 corer.';\n",
    "let price_in_str = given_string;\n",
    "let get_discount = '23' - '2';\n",
    "let apply_tax = get_discount + 2;\n",
    "let total_price = apply_tax * 1;\n",
    "console.log(total_price);"
   ]
  },
  {
   "cell_type": "code",
   "execution_count": null,
   "id": "4ca25f0b-d1e5-449d-9eea-e252569bb6e9",
   "metadata": {},
   "outputs": [],
   "source": [
    "// adil:- apply_tax * 1:- wrong answer\n",
    "// mohsin:- 23:- correct answer\n",
    "// rizwan:- apply_tax:- wrong answer\n",
    "// furqan:- apply_tax:- wrong answer"
   ]
  },
  {
   "cell_type": "code",
   "execution_count": null,
   "id": "a23ef2ba-2f84-4ee4-a349-ed64d3e75e74",
   "metadata": {},
   "outputs": [],
   "source": []
  },
  {
   "cell_type": "code",
   "execution_count": 3,
   "id": "4356ee97-e48e-4d58-a226-d853f87bb884",
   "metadata": {},
   "outputs": [
    {
     "name": "stdout",
     "output_type": "stream",
     "text": [
      "5030\n"
     ]
    }
   ],
   "source": [
    "let str_num = \"25\";\n",
    "let int_num = str_num += 25.0;\n",
    "let consider_value = str_num * 2;\n",
    "let substract_value = consider_value - 10;\n",
    "let let_value = substract_value - 10;\n",
    "\n",
    "console.log(let_value);"
   ]
  },
  {
   "cell_type": "code",
   "execution_count": 14,
   "id": "97284e09-92b3-4842-87ec-4a21a0fccc02",
   "metadata": {},
   "outputs": [
    {
     "data": {
      "text/plain": [
       "'2525'"
      ]
     },
     "execution_count": 14,
     "metadata": {},
     "output_type": "execute_result"
    }
   ],
   "source": [
    "int_num"
   ]
  },
  {
   "cell_type": "code",
   "execution_count": 15,
   "id": "28826d69-f9f7-4dda-9d3c-fece6ff6010c",
   "metadata": {},
   "outputs": [
    {
     "data": {
      "text/plain": [
       "5050"
      ]
     },
     "execution_count": 15,
     "metadata": {},
     "output_type": "execute_result"
    }
   ],
   "source": [
    "consider_value"
   ]
  },
  {
   "cell_type": "code",
   "execution_count": null,
   "id": "87e9a345-3bea-4fa1-b147-b4b96b519d4f",
   "metadata": {},
   "outputs": [],
   "source": [
    "// adil:- error:- varibale syntax wrong :- wrong answer\n",
    "// mohsin:- 30 :- wrong answer\n",
    "// rizwan:- 30 :- wrong answer\n",
    "// furqan:- 605 :- wrong answer"
   ]
  },
  {
   "cell_type": "code",
   "execution_count": null,
   "id": "40b38557-da3d-4deb-9ab1-3ca92b5aa643",
   "metadata": {},
   "outputs": [],
   "source": []
  },
  {
   "cell_type": "code",
   "execution_count": 16,
   "id": "555d8cf9-2069-445c-8975-d121346b03e3",
   "metadata": {},
   "outputs": [],
   "source": [
    "let x = 10;\n",
    "let y = x += 10;"
   ]
  },
  {
   "cell_type": "code",
   "execution_count": 18,
   "id": "1e9ac6b2-63e5-4946-bf24-553507ba6129",
   "metadata": {},
   "outputs": [
    {
     "data": {
      "text/plain": [
       "20"
      ]
     },
     "execution_count": 18,
     "metadata": {},
     "output_type": "execute_result"
    }
   ],
   "source": [
    "y"
   ]
  },
  {
   "cell_type": "code",
   "execution_count": null,
   "id": "2f21239b-02c4-43b0-9704-902e932770ea",
   "metadata": {},
   "outputs": [],
   "source": []
  },
  {
   "cell_type": "code",
   "execution_count": 19,
   "id": "b2cc13ec-7703-4ea6-b694-8cf448c18990",
   "metadata": {},
   "outputs": [
    {
     "name": "stdout",
     "output_type": "stream",
     "text": [
      "1\n"
     ]
    }
   ],
   "source": [
    "let check_answer = 5000 % 5 === 0;\n",
    "let multiply_number = check_answer ** 6;\n",
    "\n",
    "console.log(multiply_number);"
   ]
  },
  {
   "cell_type": "code",
   "execution_count": 29,
   "id": "88d379bd-0f1b-4591-aef1-685c5b1c0a3c",
   "metadata": {},
   "outputs": [
    {
     "data": {
      "text/plain": [
       "1"
      ]
     },
     "execution_count": 29,
     "metadata": {},
     "output_type": "execute_result"
    }
   ],
   "source": [
    "check_answer ** 6"
   ]
  },
  {
   "cell_type": "code",
   "execution_count": 27,
   "id": "82205a1e-9b44-43ad-9bf2-154dd3c0f702",
   "metadata": {},
   "outputs": [],
   "source": [
    "// false == 0"
   ]
  },
  {
   "cell_type": "code",
   "execution_count": null,
   "id": "2861a76c-4e1a-4dcf-b1e1-6c8e0d845240",
   "metadata": {},
   "outputs": [],
   "source": [
    "// adil:- 0:- due to modules\n",
    "// mohsin:- 0:- due to modules\n",
    "// rizwan:- 0:- due to modules\n",
    "// furqan:- 0. due to modules"
   ]
  },
  {
   "cell_type": "code",
   "execution_count": null,
   "id": "ed25a6b3-f3f4-42d3-8178-f7f5e734d9ea",
   "metadata": {},
   "outputs": [],
   "source": []
  },
  {
   "cell_type": "code",
   "execution_count": 1,
   "id": "85c5dffa-b331-4739-9d9e-89b8e69c92c2",
   "metadata": {},
   "outputs": [
    {
     "name": "stdout",
     "output_type": "stream",
     "text": [
      "false\n"
     ]
    }
   ],
   "source": [
    "let bolean_value = true;\n",
    "let str_bolean_value = 'true';\n",
    "console.log(bolean_value + str_bolean_value == true);"
   ]
  },
  {
   "cell_type": "code",
   "execution_count": null,
   "id": "0993ab9c-d99c-4a17-b7cc-857f18a12883",
   "metadata": {},
   "outputs": [],
   "source": [
    "// adil:- false:- due to bolean value in string:- correct answer\n",
    "// mohsin:- true:- due to equal equal opreator. it is because == opreator are not checking the type:- wrong answer\n",
    "// rizwan:- false:- due to bolean value in string:- correct answer\n",
    "// furqan:- false:- due to bolean value in string:- correct answer\n",
    "// sulman:- false:- due to bolean value in string:- correct answer"
   ]
  },
  {
   "cell_type": "code",
   "execution_count": 2,
   "id": "b8a99a38-b626-479e-9425-74fb19e7bfca",
   "metadata": {},
   "outputs": [
    {
     "data": {
      "text/plain": [
       "'truetrue'"
      ]
     },
     "execution_count": 2,
     "metadata": {},
     "output_type": "execute_result"
    }
   ],
   "source": [
    "bolean_value + str_bolean_value;"
   ]
  },
  {
   "cell_type": "code",
   "execution_count": 4,
   "id": "e892a2b6-b3b6-41b1-9903-9f1b08a964f3",
   "metadata": {},
   "outputs": [
    {
     "data": {
      "text/plain": [
       "true"
      ]
     },
     "execution_count": 4,
     "metadata": {},
     "output_type": "execute_result"
    }
   ],
   "source": [
    "'truetrue' == 'truetrue';"
   ]
  },
  {
   "cell_type": "code",
   "execution_count": 5,
   "id": "75e249c4-1ac0-4f15-8c65-b4d39c5978da",
   "metadata": {},
   "outputs": [
    {
     "data": {
      "text/plain": [
       "false"
      ]
     },
     "execution_count": 5,
     "metadata": {},
     "output_type": "execute_result"
    }
   ],
   "source": [
    "'apple' == 'banana';"
   ]
  },
  {
   "cell_type": "code",
   "execution_count": 6,
   "id": "895e51f5-2347-4c73-8063-1a448c4fee8d",
   "metadata": {},
   "outputs": [
    {
     "data": {
      "text/plain": [
       "false"
      ]
     },
     "execution_count": 6,
     "metadata": {},
     "output_type": "execute_result"
    }
   ],
   "source": [
    "'10 price' == 10;"
   ]
  },
  {
   "cell_type": "code",
   "execution_count": 7,
   "id": "eaaf1f11-d05c-4bf9-9cf6-1483f2f2f9ea",
   "metadata": {},
   "outputs": [
    {
     "data": {
      "text/plain": [
       "false"
      ]
     },
     "execution_count": 7,
     "metadata": {},
     "output_type": "execute_result"
    }
   ],
   "source": [
    "'true' == true;"
   ]
  },
  {
   "cell_type": "code",
   "execution_count": 10,
   "id": "fe2fe617-0256-4343-badf-0c316b693e92",
   "metadata": {},
   "outputs": [
    {
     "data": {
      "text/plain": [
       "true"
      ]
     },
     "execution_count": 10,
     "metadata": {},
     "output_type": "execute_result"
    }
   ],
   "source": [
    "'-10.0' == -10.0;"
   ]
  },
  {
   "cell_type": "code",
   "execution_count": null,
   "id": "1361de17-62f0-4ba8-a0b4-9d95699b88ef",
   "metadata": {},
   "outputs": [],
   "source": []
  }
 ],
 "metadata": {
  "kernelspec": {
   "display_name": "JavaScript (Node.js)",
   "language": "javascript",
   "name": "javascript"
  },
  "language_info": {
   "file_extension": ".js",
   "mimetype": "application/javascript",
   "name": "javascript",
   "version": "20.19.0"
  }
 },
 "nbformat": 4,
 "nbformat_minor": 5
}
