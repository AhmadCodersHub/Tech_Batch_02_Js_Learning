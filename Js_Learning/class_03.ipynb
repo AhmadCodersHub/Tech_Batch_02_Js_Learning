{
 "cells": [
  {
   "cell_type": "code",
   "execution_count": 5,
   "id": "c4c9017d-ac1c-4971-8294-017bd9dbec22",
   "metadata": {},
   "outputs": [],
   "source": [
    "var x = 5;"
   ]
  },
  {
   "cell_type": "code",
   "execution_count": 4,
   "id": "b4bec86c-6781-437f-8ba8-c580f5da4a14",
   "metadata": {},
   "outputs": [],
   "source": [
    "// re-declaration:- possible"
   ]
  },
  {
   "cell_type": "code",
   "execution_count": 8,
   "id": "4aa24342-4e9b-4988-b8ce-8717890880f7",
   "metadata": {},
   "outputs": [],
   "source": [
    "var x = 10;"
   ]
  },
  {
   "cell_type": "code",
   "execution_count": 7,
   "id": "6c205d30-7b67-4824-82fe-5a7fdc800375",
   "metadata": {},
   "outputs": [
    {
     "name": "stdout",
     "output_type": "stream",
     "text": [
      "10\n"
     ]
    }
   ],
   "source": [
    "console.log(x);"
   ]
  },
  {
   "cell_type": "code",
   "execution_count": 9,
   "id": "b831b04a-0ddc-4efb-83e5-3226d090aef1",
   "metadata": {},
   "outputs": [],
   "source": [
    "// re-assingment:- possible"
   ]
  },
  {
   "cell_type": "code",
   "execution_count": 10,
   "id": "c7c3371a-4596-42d3-85e6-cd7789ef1755",
   "metadata": {},
   "outputs": [
    {
     "data": {
      "text/plain": [
       "3"
      ]
     },
     "execution_count": 10,
     "metadata": {},
     "output_type": "execute_result"
    }
   ],
   "source": [
    "x = 3;"
   ]
  },
  {
   "cell_type": "code",
   "execution_count": 11,
   "id": "1571a101-e38a-4002-af1c-5b4ad9348b17",
   "metadata": {},
   "outputs": [
    {
     "name": "stdout",
     "output_type": "stream",
     "text": [
      "3\n"
     ]
    }
   ],
   "source": [
    "console.log(x);"
   ]
  },
  {
   "cell_type": "code",
   "execution_count": 12,
   "id": "a3de399d-ed52-420c-8757-a1fdd96daa31",
   "metadata": {},
   "outputs": [],
   "source": [
    "// modification:- possible"
   ]
  },
  {
   "cell_type": "code",
   "execution_count": 13,
   "id": "c0790f12-04b8-484d-af50-3a2dbd1a94f4",
   "metadata": {},
   "outputs": [
    {
     "data": {
      "text/plain": [
       "13"
      ]
     },
     "execution_count": 13,
     "metadata": {},
     "output_type": "execute_result"
    }
   ],
   "source": [
    "x += 10;"
   ]
  },
  {
   "cell_type": "code",
   "execution_count": 14,
   "id": "2244571a-4820-4ada-9464-ef05a2503416",
   "metadata": {},
   "outputs": [
    {
     "name": "stdout",
     "output_type": "stream",
     "text": [
      "13\n"
     ]
    }
   ],
   "source": [
    "console.log(x);"
   ]
  },
  {
   "cell_type": "code",
   "execution_count": 15,
   "id": "bf681a80-59cc-48db-bda6-f81fb0ad53fb",
   "metadata": {},
   "outputs": [
    {
     "data": {
      "text/plain": [
       "12"
      ]
     },
     "execution_count": 15,
     "metadata": {},
     "output_type": "execute_result"
    }
   ],
   "source": [
    "x -= 1;"
   ]
  },
  {
   "cell_type": "code",
   "execution_count": 16,
   "id": "6d56f42e-0fef-41f4-a252-7f49afa13a28",
   "metadata": {},
   "outputs": [
    {
     "name": "stdout",
     "output_type": "stream",
     "text": [
      "12\n"
     ]
    }
   ],
   "source": [
    "console.log(x);"
   ]
  },
  {
   "cell_type": "code",
   "execution_count": null,
   "id": "84078b67-7a63-42f6-8f42-6314a0dd5a4e",
   "metadata": {},
   "outputs": [],
   "source": []
  },
  {
   "cell_type": "code",
   "execution_count": null,
   "id": "e7825e2c-0edf-4595-98ef-4342ae8510a4",
   "metadata": {},
   "outputs": [],
   "source": []
  },
  {
   "cell_type": "markdown",
   "id": "ef2b21d3-8e92-4dff-8ec9-62fb6379126b",
   "metadata": {},
   "source": [
    "# let"
   ]
  },
  {
   "cell_type": "code",
   "execution_count": 18,
   "id": "dbb2c759-8b74-4a43-96bb-417a05fbda69",
   "metadata": {},
   "outputs": [],
   "source": [
    "let a = 8;"
   ]
  },
  {
   "cell_type": "code",
   "execution_count": 19,
   "id": "7ba525a9-e0f2-47a6-8e3f-ffbbe020a923",
   "metadata": {},
   "outputs": [],
   "source": [
    "// re-declaration :- not possible"
   ]
  },
  {
   "cell_type": "code",
   "execution_count": 20,
   "id": "34669688-5e53-42cf-b6aa-fba8cb15f837",
   "metadata": {
    "scrolled": true
   },
   "outputs": [
    {
     "ename": "SyntaxError",
     "evalue": "Identifier 'a' has already been declared",
     "execution_count": 20,
     "output_type": "error",
     "traceback": [
      "evalmachine.<anonymous>:1",
      "let a = 10;",
      "^",
      "",
      "SyntaxError: Identifier 'a' has already been declared",
      "    at Script.runInThisContext (node:vm:137:12)",
      "    at Object.runInThisContext (node:vm:317:38)",
      "    at run ([eval]:1020:15)",
      "    at onRunRequest ([eval]:864:18)",
      "    at onMessage ([eval]:828:13)",
      "    at process.emit (node:events:524:28)",
      "    at emit (node:internal/child_process:950:14)",
      "    at process.processTicksAndRejections (node:internal/process/task_queues:83:21)"
     ]
    }
   ],
   "source": [
    "let a = 10;"
   ]
  },
  {
   "cell_type": "code",
   "execution_count": 21,
   "id": "5e40ca35-97f9-494a-bc9e-eef9d7706afe",
   "metadata": {},
   "outputs": [],
   "source": [
    "// re-assingment:- possible "
   ]
  },
  {
   "cell_type": "code",
   "execution_count": 22,
   "id": "da763c73-6eed-4024-a8fc-a73c5403e3e3",
   "metadata": {},
   "outputs": [
    {
     "data": {
      "text/plain": [
       "15"
      ]
     },
     "execution_count": 22,
     "metadata": {},
     "output_type": "execute_result"
    }
   ],
   "source": [
    "a = 15;"
   ]
  },
  {
   "cell_type": "code",
   "execution_count": 23,
   "id": "db8fbb44-ba7d-4263-8bc1-280f9782a114",
   "metadata": {},
   "outputs": [
    {
     "name": "stdout",
     "output_type": "stream",
     "text": [
      "15\n"
     ]
    }
   ],
   "source": [
    "console.log(a);"
   ]
  },
  {
   "cell_type": "code",
   "execution_count": 24,
   "id": "40c9aec9-4b17-4f9b-8db3-084aa3391e53",
   "metadata": {},
   "outputs": [],
   "source": [
    "//  modification:- possible"
   ]
  },
  {
   "cell_type": "code",
   "execution_count": 25,
   "id": "b486b375-e048-4ad0-8b5c-579b504d604e",
   "metadata": {},
   "outputs": [
    {
     "data": {
      "text/plain": [
       "20"
      ]
     },
     "execution_count": 25,
     "metadata": {},
     "output_type": "execute_result"
    }
   ],
   "source": [
    "a += 5;"
   ]
  },
  {
   "cell_type": "code",
   "execution_count": 27,
   "id": "e7c78fe1-0aa8-432b-9f07-ea02e5ea9cc1",
   "metadata": {},
   "outputs": [
    {
     "name": "stdout",
     "output_type": "stream",
     "text": [
      "20\n"
     ]
    }
   ],
   "source": [
    "console.log(a);"
   ]
  },
  {
   "cell_type": "markdown",
   "id": "4a7e6c2c-b6e6-4244-b8c8-0f9b3775c9fd",
   "metadata": {},
   "source": [
    "# const"
   ]
  },
  {
   "cell_type": "code",
   "execution_count": 28,
   "id": "451a0b39-815c-41f8-b795-2c9154e25a0e",
   "metadata": {},
   "outputs": [],
   "source": [
    "// re-declaration:- not possible"
   ]
  },
  {
   "cell_type": "code",
   "execution_count": 29,
   "id": "fb2ef0bb-e0f0-4a2b-8f28-f389c5df6ef5",
   "metadata": {},
   "outputs": [],
   "source": [
    "const b = 50;"
   ]
  },
  {
   "cell_type": "code",
   "execution_count": 30,
   "id": "b0b8161f-4133-49de-9e9b-03a7378504a3",
   "metadata": {},
   "outputs": [
    {
     "ename": "SyntaxError",
     "evalue": "Identifier 'b' has already been declared",
     "execution_count": 30,
     "output_type": "error",
     "traceback": [
      "evalmachine.<anonymous>:1",
      "const b = 50;",
      "^",
      "",
      "SyntaxError: Identifier 'b' has already been declared",
      "    at Script.runInThisContext (node:vm:137:12)",
      "    at Object.runInThisContext (node:vm:317:38)",
      "    at run ([eval]:1020:15)",
      "    at onRunRequest ([eval]:864:18)",
      "    at onMessage ([eval]:828:13)",
      "    at process.emit (node:events:524:28)",
      "    at emit (node:internal/child_process:950:14)",
      "    at process.processTicksAndRejections (node:internal/process/task_queues:83:21)"
     ]
    }
   ],
   "source": [
    "const b = 50;"
   ]
  },
  {
   "cell_type": "code",
   "execution_count": null,
   "id": "f4cd7b15-e820-4232-822f-d10428929791",
   "metadata": {},
   "outputs": [],
   "source": [
    "// re-assignment:- not posssible"
   ]
  },
  {
   "cell_type": "code",
   "execution_count": 31,
   "id": "65e04754-caf6-4c93-9551-8bcc3b52963c",
   "metadata": {
    "scrolled": true
   },
   "outputs": [
    {
     "ename": "TypeError",
     "evalue": "Assignment to constant variable.",
     "execution_count": 31,
     "output_type": "error",
     "traceback": [
      "evalmachine.<anonymous>:1",
      "b = 5;",
      "  ^",
      "",
      "TypeError: Assignment to constant variable.",
      "    at evalmachine.<anonymous>:1:3",
      "    at Script.runInThisContext (node:vm:137:12)",
      "    at Object.runInThisContext (node:vm:317:38)",
      "    at run ([eval]:1020:15)",
      "    at onRunRequest ([eval]:864:18)",
      "    at onMessage ([eval]:828:13)",
      "    at process.emit (node:events:524:28)",
      "    at emit (node:internal/child_process:950:14)",
      "    at process.processTicksAndRejections (node:internal/process/task_queues:83:21)"
     ]
    }
   ],
   "source": [
    "b = 5;"
   ]
  },
  {
   "cell_type": "code",
   "execution_count": 35,
   "id": "d84b5d54-7cf3-4a94-b168-8ec6d5dc3387",
   "metadata": {},
   "outputs": [],
   "source": [
    "// modification:- not possible"
   ]
  },
  {
   "cell_type": "code",
   "execution_count": 36,
   "id": "9cae12e4-16a3-4cf2-a6d2-6716283ca777",
   "metadata": {
    "scrolled": true
   },
   "outputs": [
    {
     "ename": "TypeError",
     "evalue": "Assignment to constant variable.",
     "execution_count": 36,
     "output_type": "error",
     "traceback": [
      "evalmachine.<anonymous>:1",
      "b -= 10;",
      "  ^",
      "",
      "TypeError: Assignment to constant variable.",
      "    at evalmachine.<anonymous>:1:3",
      "    at Script.runInThisContext (node:vm:137:12)",
      "    at Object.runInThisContext (node:vm:317:38)",
      "    at run ([eval]:1020:15)",
      "    at onRunRequest ([eval]:864:18)",
      "    at onMessage ([eval]:828:13)",
      "    at process.emit (node:events:524:28)",
      "    at emit (node:internal/child_process:950:14)",
      "    at process.processTicksAndRejections (node:internal/process/task_queues:83:21)"
     ]
    }
   ],
   "source": [
    "b -= 10;"
   ]
  },
  {
   "cell_type": "code",
   "execution_count": null,
   "id": "a39e59d2-4637-41f6-b9ba-6a64bee811ac",
   "metadata": {},
   "outputs": [],
   "source": []
  },
  {
   "cell_type": "code",
   "execution_count": null,
   "id": "c62026b2-3b4d-4b4e-8ed9-c918cb65eb2b",
   "metadata": {},
   "outputs": [],
   "source": []
  },
  {
   "cell_type": "code",
   "execution_count": 37,
   "id": "0f039e91-8c0a-418e-b9fc-b985c411de67",
   "metadata": {},
   "outputs": [
    {
     "name": "stdout",
     "output_type": "stream",
     "text": [
      "70\n"
     ]
    }
   ],
   "source": [
    "console.log(a + b);"
   ]
  }
 ],
 "metadata": {
  "kernelspec": {
   "display_name": "JavaScript (Node.js)",
   "language": "javascript",
   "name": "javascript"
  },
  "language_info": {
   "file_extension": ".js",
   "mimetype": "application/javascript",
   "name": "javascript",
   "version": "20.19.0"
  }
 },
 "nbformat": 4,
 "nbformat_minor": 5
}
