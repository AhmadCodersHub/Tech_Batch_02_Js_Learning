{
 "cells": [
  {
   "cell_type": "code",
   "execution_count": null,
   "id": "e1b667e2-b73b-49f4-9e9f-1a378cca44b0",
   "metadata": {},
   "outputs": [],
   "source": []
  },
  {
   "cell_type": "code",
   "execution_count": 1,
   "id": "c336d3d6-717b-4d25-8471-808959623f8a",
   "metadata": {},
   "outputs": [],
   "source": [
    "let fruit_data = {\n",
    "    'furit name': 'apple',\n",
    "    'price': '25.1',\n",
    "    'stock': 'available',\n",
    "}\n",
    "\n",
    "let market_rate= ['25.00','25.1','24.00','23.1','25.00','25','23.99'];\n",
    "// get the price difference "
   ]
  },
  {
   "cell_type": "code",
   "execution_count": 7,
   "id": "512d2e2c-515b-456f-841b-4ade47e8cf36",
   "metadata": {},
   "outputs": [
    {
     "name": "stdout",
     "output_type": "stream",
     "text": [
      "25.1\n",
      "23.1\n"
     ]
    }
   ],
   "source": [
    "// correct answer\n",
    "\n",
    "let apple_price = parseFloat(fruit_data['price']);\n",
    "let apple_price_in_market = parseFloat(market_rate[3]);\n",
    "console.log(apple_price); \n",
    "console.log(apple_price_in_market); "
   ]
  },
  {
   "cell_type": "code",
   "execution_count": 8,
   "id": "81f6480e-989b-4ee1-bc9e-5797524f2647",
   "metadata": {},
   "outputs": [
    {
     "name": "stdout",
     "output_type": "stream",
     "text": [
      "2\n"
     ]
    }
   ],
   "source": [
    "let answer = apple_price - apple_price_in_market;\n",
    "console.log(answer);"
   ]
  },
  {
   "cell_type": "code",
   "execution_count": 9,
   "id": "a3dfd3f6-0dd5-4c74-bddc-7a04a8b3259d",
   "metadata": {},
   "outputs": [
    {
     "name": "stdout",
     "output_type": "stream",
     "text": [
      "number\n"
     ]
    }
   ],
   "source": [
    "console.log(typeof(answer));"
   ]
  },
  {
   "cell_type": "code",
   "execution_count": null,
   "id": "d68b1872-c48e-452c-9184-88e0a910a46f",
   "metadata": {},
   "outputs": [],
   "source": []
  },
  {
   "cell_type": "code",
   "execution_count": 6,
   "id": "28a2d458-7c6f-45cd-abd7-0112a57cbb23",
   "metadata": {},
   "outputs": [
    {
     "data": {
      "text/plain": [
       "2"
      ]
     },
     "execution_count": 6,
     "metadata": {},
     "output_type": "execute_result"
    }
   ],
   "source": [
    "'25.1' - '23.1';"
   ]
  },
  {
   "cell_type": "code",
   "execution_count": 2,
   "id": "bc357095-26ba-4ec8-a66e-b1223eeec132",
   "metadata": {},
   "outputs": [
    {
     "name": "stdout",
     "output_type": "stream",
     "text": [
      "0.10000000000000142\n"
     ]
    }
   ],
   "source": [
    "//sulman:- wrong answer\n",
    "\n",
    "let furit_price_2 = fruit_data['price']; \n",
    "let market_rate_2 = market_rate[4]; \n",
    "let result_1 = furit_price_2 - market_rate_2; \n",
    "console.log(result_1); "
   ]
  },
  {
   "cell_type": "code",
   "execution_count": null,
   "id": "39dc8af8-d56f-4a1e-8ae3-a27d8247b363",
   "metadata": {},
   "outputs": [],
   "source": []
  },
  {
   "cell_type": "code",
   "execution_count": 3,
   "id": "5d58e0df-ff26-40f1-8028-91ca82cd3ac5",
   "metadata": {},
   "outputs": [
    {
     "name": "stdout",
     "output_type": "stream",
     "text": [
      "0.10000000000000142\n"
     ]
    }
   ],
   "source": [
    "// adil \n",
    "let furite_price_1 = fruit_data['price'];\n",
    "let market_price = market_rate['4'];\n",
    "let result = furite_price_1 - market_price;\n",
    "console.log(result);"
   ]
  },
  {
   "cell_type": "code",
   "execution_count": null,
   "id": "e7ef2dc2-98d0-4ca9-afe5-8b3395529ea4",
   "metadata": {},
   "outputs": [],
   "source": []
  },
  {
   "cell_type": "code",
   "execution_count": 4,
   "id": "83aa5f35-d169-4113-93b6-8d1e96411a74",
   "metadata": {},
   "outputs": [
    {
     "name": "stdout",
     "output_type": "stream",
     "text": [
      "NaN\n"
     ]
    }
   ],
   "source": [
    "//mohsin \n",
    "let fruit_rate = ['price'];\n",
    "let furit_in_market = market_rate[3];\n",
    "let data = fruit_rate - furit_in_market;\n",
    "console.log(data);"
   ]
  },
  {
   "cell_type": "code",
   "execution_count": null,
   "id": "e1fe0dfb-e659-48d2-82e8-8c47ccdc3baf",
   "metadata": {},
   "outputs": [],
   "source": []
  },
  {
   "cell_type": "code",
   "execution_count": null,
   "id": "cef96763-1fce-4839-96c7-9872ea416431",
   "metadata": {},
   "outputs": [],
   "source": [
    "// furqan\n",
    "// NaN"
   ]
  },
  {
   "cell_type": "code",
   "execution_count": null,
   "id": "905b0817-d13e-4335-9400-0e665254f683",
   "metadata": {},
   "outputs": [],
   "source": []
  },
  {
   "cell_type": "code",
   "execution_count": 5,
   "id": "29562c70-7f80-407f-9aa8-d6fcb2cfcc99",
   "metadata": {},
   "outputs": [
    {
     "name": "stdout",
     "output_type": "stream",
     "text": [
      "1.110000000000003\n"
     ]
    }
   ],
   "source": [
    "// rizwan\n",
    "let fruit_rate_ratio =  fruit_data['price'];\n",
    "let market_rate_1 = market_rate['6'];\n",
    "let fruit_price = fruit_rate_ratio - market_rate_1;\n",
    "console.log(fruit_price);"
   ]
  },
  {
   "cell_type": "code",
   "execution_count": null,
   "id": "8f2c0453-df3b-43a8-aea4-f676117fc0cc",
   "metadata": {},
   "outputs": [],
   "source": []
  },
  {
   "cell_type": "code",
   "execution_count": 1,
   "id": "dd706158-eade-4e8b-9acf-6dd133eacdcc",
   "metadata": {},
   "outputs": [],
   "source": [
    "let furit_arrays = ['12','12','14','15','19','40'];\n",
    "let prices = '80'; \n",
    "// get the second greator than value from furit_arrays and add it with prices \n"
   ]
  },
  {
   "cell_type": "code",
   "execution_count": null,
   "id": "865bb8e2-9336-4a42-8ad5-77b1beb610de",
   "metadata": {},
   "outputs": [],
   "source": []
  },
  {
   "cell_type": "code",
   "execution_count": 2,
   "id": "1c989ec1-ed47-4bcf-b28c-0309fe28174a",
   "metadata": {},
   "outputs": [
    {
     "name": "stdout",
     "output_type": "stream",
     "text": [
      "NaN\n"
     ]
    }
   ],
   "source": [
    "// rizwan:- wrong answer\n",
    "let furit_info = parseInt(furit_arrays[4]);\n",
    "let furit_pricess_6 = parseInt(furit_arrays['prices']); \n",
    "let tota_price = furit_info + furit_pricess_6;\n",
    "console.log(tota_price);"
   ]
  },
  {
   "cell_type": "code",
   "execution_count": null,
   "id": "151aa2f5-ee00-4cc1-9f59-16c62c3807f3",
   "metadata": {},
   "outputs": [],
   "source": []
  },
  {
   "cell_type": "code",
   "execution_count": 3,
   "id": "393c58a3-736a-4ea8-a71d-63417d305703",
   "metadata": {},
   "outputs": [
    {
     "name": "stdout",
     "output_type": "stream",
     "text": [
      "99\n"
     ]
    }
   ],
   "source": [
    "// sulman:- correct answer\n",
    "\n",
    "let numbers = parseInt(furit_arrays[4]);\n",
    "let number_2 = parseInt(prices);\n",
    "let total_numbers = numbers + number_2;\n",
    "console.log(total_numbers);"
   ]
  },
  {
   "cell_type": "code",
   "execution_count": null,
   "id": "d6212e6a-3dcd-40e0-9209-5bd998977b21",
   "metadata": {},
   "outputs": [],
   "source": []
  },
  {
   "cell_type": "code",
   "execution_count": 4,
   "id": "c8b2f58b-963e-4f93-bb45-09a3ada01854",
   "metadata": {},
   "outputs": [
    {
     "name": "stdout",
     "output_type": "stream",
     "text": [
      "8040\n"
     ]
    }
   ],
   "source": [
    "// furqan:- wrong answer\n",
    "let furit_pricesss = furit_arrays[5];\n",
    "let total_market_prices = prices + furit_pricesss; \n",
    "console.log(total_market_prices); "
   ]
  },
  {
   "cell_type": "code",
   "execution_count": null,
   "id": "b3c573e5-54ac-4e52-8ebf-91a2307f4479",
   "metadata": {},
   "outputs": [],
   "source": []
  },
  {
   "cell_type": "code",
   "execution_count": 5,
   "id": "ff45ac02-e567-4216-a9be-925422194c0d",
   "metadata": {},
   "outputs": [
    {
     "name": "stdout",
     "output_type": "stream",
     "text": [
      "80undefined\n"
     ]
    }
   ],
   "source": [
    "// adil:- wrong answer\n",
    "let furit_price_4 = furit_arrays[6]; \n",
    "let total_price = prices + furit_price_4; \n",
    "console.log(total_price);"
   ]
  },
  {
   "cell_type": "code",
   "execution_count": null,
   "id": "c90a93c3-727a-4ff4-a4f8-937b4a8062f7",
   "metadata": {},
   "outputs": [],
   "source": []
  },
  {
   "cell_type": "code",
   "execution_count": 6,
   "id": "6ac3a356-d9f4-437b-8992-2620a107d658",
   "metadata": {},
   "outputs": [
    {
     "name": "stdout",
     "output_type": "stream",
     "text": [
      "8019\n"
     ]
    }
   ],
   "source": [
    "// mohsin:- wrong answer\n",
    "let furit_number = furit_arrays[4]; \n",
    "let total = prices + furit_number; \n",
    "console.log(total);"
   ]
  },
  {
   "cell_type": "code",
   "execution_count": null,
   "id": "7e17b030-6240-4ff6-995f-a4938206a233",
   "metadata": {},
   "outputs": [],
   "source": []
  },
  {
   "cell_type": "code",
   "execution_count": null,
   "id": "254b2906-36fc-49bb-b744-2c69f3edbc17",
   "metadata": {},
   "outputs": [],
   "source": [
    "// 8 \n",
    "// true "
   ]
  },
  {
   "cell_type": "code",
   "execution_count": 1,
   "id": "9f81ed1e-dc95-4e82-98ae-10a35503fd1d",
   "metadata": {},
   "outputs": [],
   "source": [
    "let given_number = 5; \n"
   ]
  },
  {
   "cell_type": "code",
   "execution_count": 2,
   "id": "e59b336c-9d7f-4d98-a488-ab1644f488f4",
   "metadata": {},
   "outputs": [
    {
     "name": "stdout",
     "output_type": "stream",
     "text": [
      "false\n"
     ]
    }
   ],
   "source": [
    "console.log(given_number % 2 === 0); "
   ]
  },
  {
   "cell_type": "code",
   "execution_count": null,
   "id": "d117311e-d5e1-4489-8352-29e27c0ef9c9",
   "metadata": {},
   "outputs": [],
   "source": []
  }
 ],
 "metadata": {
  "kernelspec": {
   "display_name": "JavaScript (Node.js)",
   "language": "javascript",
   "name": "javascript"
  },
  "language_info": {
   "file_extension": ".js",
   "mimetype": "application/javascript",
   "name": "javascript",
   "version": "20.19.0"
  }
 },
 "nbformat": 4,
 "nbformat_minor": 5
}
