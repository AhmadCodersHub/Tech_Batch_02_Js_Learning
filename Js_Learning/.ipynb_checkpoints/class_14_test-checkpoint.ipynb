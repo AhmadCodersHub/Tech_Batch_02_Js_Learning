{
 "cells": [
  {
   "cell_type": "code",
   "execution_count": 1,
   "id": "a4461ceb-cbd8-4764-87ac-b2c3e8d78d52",
   "metadata": {},
   "outputs": [
    {
     "name": "stdout",
     "output_type": "stream",
     "text": [
      "BOOK\n"
     ]
    }
   ],
   "source": [
    "let str = 'book';\n",
    "\n",
    "console.log(str.toUpperCase(str));"
   ]
  },
  {
   "cell_type": "code",
   "execution_count": null,
   "id": "01903ece-4652-4bf6-bd74-716a3e8162d7",
   "metadata": {},
   "outputs": [],
   "source": [
    "// adil:- error:- syntax error:- Wrong Answer\n",
    "// mohsin:- error:- syntax error:- Wrong Answer\n",
    "// rizwan:- BOOK:- Correct Answer\n",
    "// furqan:- error:- syntax error:- Wrong Answer\n",
    "// sulman:- error:- syntax error:- Wrong Answer"
   ]
  },
  {
   "cell_type": "code",
   "execution_count": null,
   "id": "f103af06-4e53-45ad-979a-20770ef391b6",
   "metadata": {},
   "outputs": [],
   "source": []
  },
  {
   "cell_type": "code",
   "execution_count": 2,
   "id": "54f583ef-eb04-4592-9f9e-76672496e33e",
   "metadata": {},
   "outputs": [
    {
     "ename": "TypeError",
     "evalue": "str_text.trim is not a function",
     "execution_count": 2,
     "output_type": "error",
     "traceback": [
      "evalmachine.<anonymous>:3",
      "console.log(str_text.trim());",
      "                     ^",
      "",
      "TypeError: str_text.trim is not a function",
      "    at evalmachine.<anonymous>:3:22",
      "    at Script.runInThisContext (node:vm:137:12)",
      "    at Object.runInThisContext (node:vm:317:38)",
      "    at run ([eval]:1020:15)",
      "    at onRunRequest ([eval]:864:18)",
      "    at onMessage ([eval]:828:13)",
      "    at process.emit (node:events:524:28)",
      "    at emit (node:internal/child_process:950:14)",
      "    at process.processTicksAndRejections (node:internal/process/task_queues:83:21)"
     ]
    }
   ],
   "source": [
    "let str_text = 19;\n",
    "\n",
    "console.log(str_text.trim());"
   ]
  },
  {
   "cell_type": "code",
   "execution_count": null,
   "id": "9e93609e-8346-4dde-bc61-85efe6a024c9",
   "metadata": {},
   "outputs": [],
   "source": [
    "// adil:- 19:- Wrong Answer\n",
    "// mohsin:- 19:- Wrong Answer\n",
    "// rizwan:- Nan:- Wrong Answer\n",
    "// furqan:- 19:- Wrong Answer\n",
    "// sulman:- 19:- Wrong Answer"
   ]
  },
  {
   "cell_type": "code",
   "execution_count": null,
   "id": "b9985ef3-fed8-46ce-8851-f460d8c3d189",
   "metadata": {},
   "outputs": [],
   "source": []
  },
  {
   "cell_type": "code",
   "execution_count": 1,
   "id": "b15e9d04-5cd6-432a-b17f-1d0584b9e2f7",
   "metadata": {},
   "outputs": [
    {
     "name": "stdout",
     "output_type": "stream",
     "text": [
      "this is a              book\n"
     ]
    }
   ],
   "source": [
    "let string_text = 'this is a              book';\n",
    "\n",
    "console.log(string_text.trim());\n"
   ]
  },
  {
   "cell_type": "code",
   "execution_count": null,
   "id": "77712788-2fc5-487d-966d-e17c3fa71dd0",
   "metadata": {},
   "outputs": [],
   "source": [
    "// adil:- this is a              book:- correct answer\n",
    "// mohsin:- this is a book:- wrong answer\n",
    "// rizwan:- this is a              book:- correct answer\n",
    "// furqan:- this is a              book:- correct answer\n",
    "// sulman:- this is a              book:- correct answer\n"
   ]
  },
  {
   "cell_type": "code",
   "execution_count": null,
   "id": "c0aa0dce-2412-4a1c-b0e6-f56ef46a3b8f",
   "metadata": {},
   "outputs": [],
   "source": []
  },
  {
   "cell_type": "code",
   "execution_count": 1,
   "id": "6d5a5dc1-510f-49ff-981c-567688156844",
   "metadata": {},
   "outputs": [],
   "source": [
    "let random_string = 'this is a book.';\n",
    "\n",
    "// output should be like this\n",
    "// This is a Book."
   ]
  },
  {
   "cell_type": "code",
   "execution_count": 2,
   "id": "cb87903e-a070-4d29-88dc-ebfba16ac304",
   "metadata": {},
   "outputs": [
    {
     "name": "stdout",
     "output_type": "stream",
     "text": [
      "This is a Book.\n"
     ]
    }
   ],
   "source": [
    "let first_part = random_string.slice(0,15);\n",
    "let first_word = first_part.slice(0,5);\n",
    "let first_let = first_word[0].toUpperCase();\n",
    "let first_word_complete = first_let + first_word.slice(1,5).toLowerCase();\n",
    "let first_part_tag = first_word_complete + first_part.slice(5,);\n",
    "let first_part_last_word_tag = first_part_tag.slice(10,);\n",
    "let last_word = first_part_last_word_tag[0].toUpperCase() + first_part_last_word_tag.slice(1,);\n",
    "let answer = first_part_tag.slice(0,10) + last_word;\n",
    "console.log(answer);"
   ]
  },
  {
   "cell_type": "code",
   "execution_count": null,
   "id": "c0d3ba49-f0bf-4cb5-8370-204a09af545a",
   "metadata": {},
   "outputs": [],
   "source": [
    "// furqan\n",
    "// Nan"
   ]
  },
  {
   "cell_type": "code",
   "execution_count": null,
   "id": "82562de1-8b9e-48de-b844-2530975e9703",
   "metadata": {},
   "outputs": [],
   "source": [
    "// Mohsin\n",
    "// Nan"
   ]
  },
  {
   "cell_type": "code",
   "execution_count": null,
   "id": "d1a5917c-3975-4465-8030-bedb7fce2512",
   "metadata": {},
   "outputs": [],
   "source": [
    "// Adil\n",
    "let random_str_1 = random_string[0];\n",
    "let random_str_2 = random_string[11];\n",
    "let random_str_3 = random_string[17];\n",
    "let random_str_4 = random_string[18];\n",
    "let random_str_5 = random_string[30];\n",
    "// Nan"
   ]
  },
  {
   "cell_type": "code",
   "execution_count": null,
   "id": "c83a103e-22ac-4cf6-8311-9eccfaa50ff2",
   "metadata": {},
   "outputs": [],
   "source": [
    "// sulman:- \n",
    "// Nan"
   ]
  },
  {
   "cell_type": "code",
   "execution_count": null,
   "id": "0f71537d-c1e3-421b-83b9-b8b6c5c5e272",
   "metadata": {},
   "outputs": [],
   "source": [
    "// rizwan:- \n",
    "// Nan"
   ]
  },
  {
   "cell_type": "code",
   "execution_count": null,
   "id": "1a1a4b2b-5d9e-46e8-adf5-4dea9185bfa0",
   "metadata": {},
   "outputs": [],
   "source": []
  }
 ],
 "metadata": {
  "kernelspec": {
   "display_name": "JavaScript (Node.js)",
   "language": "javascript",
   "name": "javascript"
  },
  "language_info": {
   "file_extension": ".js",
   "mimetype": "application/javascript",
   "name": "javascript",
   "version": "20.19.0"
  }
 },
 "nbformat": 4,
 "nbformat_minor": 5
}
