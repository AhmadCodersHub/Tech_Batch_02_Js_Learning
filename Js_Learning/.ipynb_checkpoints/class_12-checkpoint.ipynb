{
 "cells": [
  {
   "cell_type": "markdown",
   "id": "0950681f-bae1-4fd1-8593-996163c6cca8",
   "metadata": {},
   "source": [
    "# Js Casting"
   ]
  },
  {
   "cell_type": "code",
   "execution_count": 2,
   "id": "abcf1c21-f6df-4dd5-9a8f-889e7ba1c93a",
   "metadata": {},
   "outputs": [],
   "source": [
    "// number to string"
   ]
  },
  {
   "cell_type": "code",
   "execution_count": 3,
   "id": "7e403b6f-5409-47c6-a831-7229f789872d",
   "metadata": {},
   "outputs": [
    {
     "name": "stdout",
     "output_type": "stream",
     "text": [
      "10\n",
      "number\n"
     ]
    }
   ],
   "source": [
    "let num = 10;\n",
    "console.log(num);\n",
    "console.log(typeof(num));"
   ]
  },
  {
   "cell_type": "code",
   "execution_count": 4,
   "id": "21848f78-57ca-459c-a643-faf764147caa",
   "metadata": {},
   "outputs": [],
   "source": [
    "let str_number = String(num);"
   ]
  },
  {
   "cell_type": "code",
   "execution_count": 5,
   "id": "3620b15c-b176-4750-ae38-0d8187a18d7a",
   "metadata": {},
   "outputs": [
    {
     "name": "stdout",
     "output_type": "stream",
     "text": [
      "10\n",
      "string\n"
     ]
    }
   ],
   "source": [
    "console.log(str_number);\n",
    "console.log(typeof(str_number));"
   ]
  },
  {
   "cell_type": "code",
   "execution_count": 2,
   "id": "270378b5-2255-4d74-bb14-fb8dd825c1ba",
   "metadata": {},
   "outputs": [
    {
     "name": "stdout",
     "output_type": "stream",
     "text": [
      "this is a book\n"
     ]
    }
   ],
   "source": [
    "console.log('this is a book')"
   ]
  },
  {
   "cell_type": "code",
   "execution_count": 6,
   "id": "693643d3-bb1b-4d0e-8856-a23504420a42",
   "metadata": {},
   "outputs": [
    {
     "data": {
      "text/plain": [
       "'10'"
      ]
     },
     "execution_count": 6,
     "metadata": {},
     "output_type": "execute_result"
    }
   ],
   "source": [
    "str_number"
   ]
  },
  {
   "cell_type": "code",
   "execution_count": 8,
   "id": "872f7d9b-46f1-4585-8a6b-66aecceea06a",
   "metadata": {},
   "outputs": [
    {
     "name": "stdout",
     "output_type": "stream",
     "text": [
      "10\n",
      "string\n"
     ]
    }
   ],
   "source": [
    "let str_number_2 = num.toString();\n",
    "\n",
    "console.log(str_number_2);\n",
    "console.log(typeof(str_number_2));"
   ]
  },
  {
   "cell_type": "code",
   "execution_count": 9,
   "id": "8fc65849-5b9c-43d6-88db-ff5de53cc042",
   "metadata": {},
   "outputs": [],
   "source": [
    "// float or decimal point to number"
   ]
  },
  {
   "cell_type": "code",
   "execution_count": 10,
   "id": "21f484df-3297-4087-ade7-cd71d3cee330",
   "metadata": {},
   "outputs": [],
   "source": [
    "let price = 10.99;"
   ]
  },
  {
   "cell_type": "code",
   "execution_count": 11,
   "id": "07fbe39f-3ef3-42e1-b401-0c7cd6252588",
   "metadata": {},
   "outputs": [],
   "source": [
    "let price_num = parseInt(price);"
   ]
  },
  {
   "cell_type": "code",
   "execution_count": 12,
   "id": "8d692d0c-77ef-4efb-9c82-40f8953810c4",
   "metadata": {},
   "outputs": [
    {
     "name": "stdout",
     "output_type": "stream",
     "text": [
      "10\n",
      "number\n"
     ]
    }
   ],
   "source": [
    "console.log(price_num);\n",
    "console.log(typeof(price_num));"
   ]
  },
  {
   "cell_type": "code",
   "execution_count": 13,
   "id": "1e1981d0-f4d2-498d-9218-e210bc29054e",
   "metadata": {},
   "outputs": [],
   "source": [
    "// string to number"
   ]
  },
  {
   "cell_type": "code",
   "execution_count": 14,
   "id": "c158d3df-cb08-4487-95c5-c2578c96d9b6",
   "metadata": {},
   "outputs": [],
   "source": [
    "let string_numbers = '10';"
   ]
  },
  {
   "cell_type": "code",
   "execution_count": 15,
   "id": "81d92d78-90dd-46cd-aebf-e6ab11632b4b",
   "metadata": {},
   "outputs": [
    {
     "name": "stdout",
     "output_type": "stream",
     "text": [
      "10\n",
      "number\n"
     ]
    }
   ],
   "source": [
    "let numbers_1 = parseInt(string_numbers);\n",
    "console.log(numbers_1);\n",
    "console.log(typeof(numbers_1));"
   ]
  },
  {
   "cell_type": "code",
   "execution_count": 16,
   "id": "3677aab4-ee80-4c7d-942d-47bce498f23a",
   "metadata": {},
   "outputs": [],
   "source": [
    "// string or number to float or decimal point"
   ]
  },
  {
   "cell_type": "code",
   "execution_count": 18,
   "id": "31c1288b-74fa-4269-ad6b-7d9de3df2d0c",
   "metadata": {},
   "outputs": [],
   "source": [
    "let string_numbers_1 = '10.99';"
   ]
  },
  {
   "cell_type": "code",
   "execution_count": 19,
   "id": "019f9a6c-549d-4ac6-9bcf-39a6ee90ee91",
   "metadata": {},
   "outputs": [
    {
     "name": "stdout",
     "output_type": "stream",
     "text": [
      "10.99\n",
      "number\n"
     ]
    }
   ],
   "source": [
    "let numbers_float_1 = parseFloat(string_numbers_1);\n",
    "console.log(numbers_float_1);\n",
    "console.log(typeof(numbers_float_1));"
   ]
  },
  {
   "cell_type": "code",
   "execution_count": 1,
   "id": "1d630785-97a2-49c1-a6cb-9a26d1c5b2ed",
   "metadata": {},
   "outputs": [
    {
     "name": "stdout",
     "output_type": "stream",
     "text": [
      "10\n",
      "number\n"
     ]
    }
   ],
   "source": [
    "let price_2 = 10.00;\n",
    "let convert_float = parseFloat(price_2);\n",
    "console.log(convert_float);\n",
    "console.log(typeof(convert_float));"
   ]
  }
 ],
 "metadata": {
  "kernelspec": {
   "display_name": "JavaScript (Node.js)",
   "language": "javascript",
   "name": "javascript"
  },
  "language_info": {
   "file_extension": ".js",
   "mimetype": "application/javascript",
   "name": "javascript",
   "version": "20.19.0"
  }
 },
 "nbformat": 4,
 "nbformat_minor": 5
}
