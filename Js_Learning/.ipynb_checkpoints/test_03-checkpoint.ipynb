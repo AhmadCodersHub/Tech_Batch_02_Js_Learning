{
 "cells": [
  {
   "cell_type": "code",
   "execution_count": null,
   "id": "2677804f-578a-4417-9635-6b6963883619",
   "metadata": {},
   "outputs": [],
   "source": []
  },
  {
   "cell_type": "code",
   "execution_count": null,
   "id": "b2eecb68-7c67-4df6-886d-787eb707377a",
   "metadata": {},
   "outputs": [],
   "source": []
  },
  {
   "cell_type": "code",
   "execution_count": null,
   "id": "867f30db-3325-4b07-a3c4-8192431eec71",
   "metadata": {},
   "outputs": [],
   "source": []
  },
  {
   "cell_type": "code",
   "execution_count": 4,
   "id": "85e44fc0-bca9-413f-b29b-500e85ae4668",
   "metadata": {},
   "outputs": [],
   "source": [
    "const y = 20;"
   ]
  },
  {
   "cell_type": "code",
   "execution_count": 7,
   "id": "bb9afd93-116a-44f6-a751-2878a6c9c49e",
   "metadata": {},
   "outputs": [
    {
     "name": "stdout",
     "output_type": "stream",
     "text": [
      "30\n"
     ]
    }
   ],
   "source": [
    "console.log(y + 10);"
   ]
  },
  {
   "cell_type": "code",
   "execution_count": 8,
   "id": "f3b144a6-f67d-4d54-a701-cdace20d4ced",
   "metadata": {},
   "outputs": [
    {
     "name": "stdout",
     "output_type": "stream",
     "text": [
      "10\n"
     ]
    }
   ],
   "source": [
    "console.log(y - 10);"
   ]
  },
  {
   "cell_type": "code",
   "execution_count": null,
   "id": "5b824873-906c-4289-99d1-843f2274f52c",
   "metadata": {},
   "outputs": [],
   "source": []
  },
  {
   "cell_type": "code",
   "execution_count": null,
   "id": "f1656e0a-7262-48fb-9441-423202bf9d7d",
   "metadata": {},
   "outputs": [],
   "source": []
  },
  {
   "cell_type": "code",
   "execution_count": null,
   "id": "0b8775b8-5dd0-4fff-9317-58a234af5133",
   "metadata": {},
   "outputs": [],
   "source": []
  }
 ],
 "metadata": {
  "kernelspec": {
   "display_name": "JavaScript (Node.js)",
   "language": "javascript",
   "name": "javascript"
  },
  "language_info": {
   "file_extension": ".js",
   "mimetype": "application/javascript",
   "name": "javascript",
   "version": "20.19.0"
  }
 },
 "nbformat": 4,
 "nbformat_minor": 5
}
