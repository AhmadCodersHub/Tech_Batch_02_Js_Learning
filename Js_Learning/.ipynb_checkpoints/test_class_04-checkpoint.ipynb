{
 "cells": [
  {
   "cell_type": "code",
   "execution_count": 8,
   "id": "56d77706-1945-4c26-bfd6-45aaef61a264",
   "metadata": {},
   "outputs": [],
   "source": [
    "let str_num = '100';\n",
    "let num = 10;"
   ]
  },
  {
   "cell_type": "code",
   "execution_count": 9,
   "id": "8af53f91-c021-41e5-ad7d-5bced977782d",
   "metadata": {},
   "outputs": [
    {
     "name": "stdout",
     "output_type": "stream",
     "text": [
      "10010\n"
     ]
    }
   ],
   "source": [
    "console.log(str_num + num);"
   ]
  },
  {
   "cell_type": "code",
   "execution_count": 15,
   "id": "bfa323ec-aa42-4894-9e41-c60c5b831732",
   "metadata": {},
   "outputs": [
    {
     "data": {
      "text/plain": [
       "90"
      ]
     },
     "execution_count": 15,
     "metadata": {},
     "output_type": "execute_result"
    }
   ],
   "source": [
    "str_num - num"
   ]
  },
  {
   "cell_type": "code",
   "execution_count": null,
   "id": "132f7c47-f1f5-47e1-918c-26fd357994f1",
   "metadata": {},
   "outputs": [],
   "source": [
    "// sulman = null\n",
    "\n",
    "// adil = error\n",
    "\n",
    "// moshin = error\n",
    "\n",
    "// rizwan = 110\n",
    "\n",
    "// furqan = 110"
   ]
  },
  {
   "cell_type": "code",
   "execution_count": null,
   "id": "bcdce028-7c8b-4e9b-8d4e-768ddee07818",
   "metadata": {},
   "outputs": [],
   "source": []
  },
  {
   "cell_type": "code",
   "execution_count": 5,
   "id": "6ad35b1b-2756-4393-ad43-d576093be1ff",
   "metadata": {},
   "outputs": [
    {
     "ename": "SyntaxError",
     "evalue": "Unexpected identifier 'str'",
     "execution_count": 5,
     "output_type": "error",
     "traceback": [
      "evalmachine.<anonymous>:1",
      "let give str = 'this is a \"islamic\" book':",
      "         ^^^",
      "",
      "SyntaxError: Unexpected identifier 'str'",
      "    at new Script (node:vm:117:7)",
      "    at createScript (node:vm:269:10)",
      "    at Object.runInThisContext (node:vm:317:10)",
      "    at run ([eval]:1020:15)",
      "    at onRunRequest ([eval]:864:18)",
      "    at onMessage ([eval]:828:13)",
      "    at process.emit (node:events:524:28)",
      "    at emit (node:internal/child_process:950:14)",
      "    at process.processTicksAndRejections (node:internal/process/task_queues:83:21)"
     ]
    }
   ],
   "source": [
    "let give str = 'this is a \"islamic\" book':\n",
    "console.log(give str);\n"
   ]
  },
  {
   "cell_type": "code",
   "execution_count": null,
   "id": "e00caa38-9050-49b3-bfba-abe4cf344817",
   "metadata": {},
   "outputs": [],
   "source": [
    "// sulman :- error due to space in varibale and colon error\n",
    "\n",
    "//adil:-  = error due to space in variable and str syntax error\n",
    "\n",
    "//mohsin:-  this is a \"islamic\" book\n",
    "\n",
    "// rizwan:- error due to space\n",
    "\n",
    "//furqan:- error due to space in variable"
   ]
  },
  {
   "cell_type": "code",
   "execution_count": null,
   "id": "529a3fdf-3b10-40b8-9788-907f26403d50",
   "metadata": {},
   "outputs": [],
   "source": []
  },
  {
   "cell_type": "code",
   "execution_count": null,
   "id": "6df866f4-14d3-41e1-9071-3631aca14fae",
   "metadata": {},
   "outputs": [],
   "source": []
  },
  {
   "cell_type": "code",
   "execution_count": 3,
   "id": "83c93456-3b0f-433a-af0b-b66734f7aabb",
   "metadata": {},
   "outputs": [
    {
     "name": "stdout",
     "output_type": "stream",
     "text": [
      "final_result\n"
     ]
    }
   ],
   "source": [
    "const num_1 = 10;\n",
    "const num_2 = 20;\n",
    "const num_3 = 70;\n",
    "const num_4 = 5;\n",
    "\n",
    "let c = num_1 - num_4;\n",
    "\n",
    "let d = num_2 + num_3;\n",
    "\n",
    "const final_result = c + d;\n",
    "\n",
    "console.log('final_result');"
   ]
  },
  {
   "cell_type": "code",
   "execution_count": null,
   "id": "0693b31d-5440-41de-b0b3-b29398b3713a",
   "metadata": {},
   "outputs": [],
   "source": [
    "// sulman:- error due varibale print out in string\n",
    "\n",
    "// adil:- 95\n",
    "\n",
    "// mohsin:- error due varibales(c, d) are not const\n",
    "\n",
    "// rizwan:- 95\n",
    "\n",
    "// furqan:- 95"
   ]
  },
  {
   "cell_type": "code",
   "execution_count": null,
   "id": "cd4dccc8-550d-405f-bc00-0e192c1fc8ec",
   "metadata": {},
   "outputs": [],
   "source": []
  },
  {
   "cell_type": "code",
   "execution_count": null,
   "id": "76905892-b69d-4a4a-aa96-83beac53878f",
   "metadata": {},
   "outputs": [],
   "source": []
  },
  {
   "cell_type": "code",
   "execution_count": 5,
   "id": "f66476ac-8878-4356-905b-cf75569be928",
   "metadata": {},
   "outputs": [
    {
     "name": "stdout",
     "output_type": "stream",
     "text": [
      "7 10\n"
     ]
    }
   ],
   "source": [
    "let x = 7; let y = 10;\n",
    "\n",
    "console.log(x,y);"
   ]
  },
  {
   "cell_type": "code",
   "execution_count": null,
   "id": "1c17fc37-cb05-485d-bab8-c9873b4d94f8",
   "metadata": {},
   "outputs": [],
   "source": [
    "// sulman:- 7 10 due just values will be prints\n",
    "\n",
    "// adil:- 7,10 due to print out the varibales with comma\n",
    "\n",
    "// mohsin:- 7 10 due just values will be prints\n",
    "\n",
    "// rizwan:- 7,10 due to print out the varibales with comma\n",
    "\n",
    "// furqan:- 7,10 due to print out the varibales with comma"
   ]
  },
  {
   "cell_type": "code",
   "execution_count": null,
   "id": "ac2fe7d0-4299-480c-9eb1-5ab32114bb96",
   "metadata": {},
   "outputs": [],
   "source": []
  },
  {
   "cell_type": "code",
   "execution_count": 6,
   "id": "a1c2ec7b-de6b-45f1-82c6-be9c51f7ad6d",
   "metadata": {},
   "outputs": [
    {
     "name": "stdout",
     "output_type": "stream",
     "text": [
      "                              this is a book                  !@#$% &%^(*( ^&%^  this is a new book                                                  9678567 786876y  this is old book.............................................. jfskfhiuhe\n"
     ]
    }
   ],
   "source": [
    "let string_text = '                              this is a book                  !@#$% &%^(*( ^&%^  this is a new book                                                  9678567 786876y  this is old book.............................................. jfskfhiuhe';\n",
    "\n",
    "\n",
    "console.log(string_text);"
   ]
  },
  {
   "cell_type": "code",
   "execution_count": null,
   "id": "547f2fc0-9f27-40f0-887d-17fcc1dbe6a6",
   "metadata": {},
   "outputs": [],
   "source": [
    "// sulman:- error due to extra symbols\n",
    "\n",
    "// adil:- same text\n",
    "\n",
    "// mohsin:- same text\n",
    "\n",
    "// rizwan:- same text\n",
    "\n",
    "// furqan:- same text"
   ]
  },
  {
   "cell_type": "code",
   "execution_count": null,
   "id": "8778bda1-16fc-4fef-b114-f61eaf93b6a9",
   "metadata": {},
   "outputs": [],
   "source": []
  },
  {
   "cell_type": "code",
   "execution_count": null,
   "id": "b960bef3-97d0-4973-98ca-55bdf784c285",
   "metadata": {},
   "outputs": [],
   "source": []
  },
  {
   "cell_type": "code",
   "execution_count": null,
   "id": "561da09b-f61d-4ae6-b100-c5c7a54d96b4",
   "metadata": {},
   "outputs": [],
   "source": []
  },
  {
   "cell_type": "code",
   "execution_count": null,
   "id": "7e2d4354-ac71-4dca-80dd-3c0aacc31def",
   "metadata": {},
   "outputs": [],
   "source": []
  }
 ],
 "metadata": {
  "kernelspec": {
   "display_name": "JavaScript (Node.js)",
   "language": "javascript",
   "name": "javascript"
  },
  "language_info": {
   "file_extension": ".js",
   "mimetype": "application/javascript",
   "name": "javascript",
   "version": "20.19.0"
  }
 },
 "nbformat": 4,
 "nbformat_minor": 5
}
