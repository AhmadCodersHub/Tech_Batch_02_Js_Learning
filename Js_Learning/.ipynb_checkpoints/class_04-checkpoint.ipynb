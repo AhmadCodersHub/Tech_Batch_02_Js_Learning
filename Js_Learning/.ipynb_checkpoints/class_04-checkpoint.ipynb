{
 "cells": [
  {
   "cell_type": "code",
   "execution_count": 1,
   "id": "11f30898-7f94-4ff2-8651-109b9e64ba7e",
   "metadata": {},
   "outputs": [],
   "source": [
    "let x = 10;"
   ]
  },
  {
   "cell_type": "code",
   "execution_count": 2,
   "id": "1da93aec-4cdc-4dfe-bd2d-3e9d8efa4da2",
   "metadata": {},
   "outputs": [
    {
     "ename": "SyntaxError",
     "evalue": "Identifier 'x' has already been declared",
     "execution_count": 2,
     "output_type": "error",
     "traceback": [
      "evalmachine.<anonymous>:1",
      "let x = 40;",
      "^",
      "",
      "SyntaxError: Identifier 'x' has already been declared",
      "    at Script.runInThisContext (node:vm:137:12)",
      "    at Object.runInThisContext (node:vm:317:38)",
      "    at run ([eval]:1020:15)",
      "    at onRunRequest ([eval]:864:18)",
      "    at onMessage ([eval]:828:13)",
      "    at process.emit (node:events:524:28)",
      "    at emit (node:internal/child_process:950:14)",
      "    at process.processTicksAndRejections (node:internal/process/task_queues:83:21)"
     ]
    }
   ],
   "source": [
    "let x = 40;"
   ]
  },
  {
   "cell_type": "code",
   "execution_count": 3,
   "id": "65eecaec-ab92-4d52-87b5-63948819977a",
   "metadata": {},
   "outputs": [],
   "source": [
    "let age = 21;"
   ]
  },
  {
   "cell_type": "code",
   "execution_count": 4,
   "id": "15d9c22d-76b8-47b3-834b-acb42c312df2",
   "metadata": {},
   "outputs": [
    {
     "name": "stdout",
     "output_type": "stream",
     "text": [
      "21\n"
     ]
    }
   ],
   "source": [
    "console.log(age);"
   ]
  },
  {
   "cell_type": "code",
   "execution_count": 7,
   "id": "4e48a876-282e-4245-8742-0bc906ccd864",
   "metadata": {},
   "outputs": [],
   "source": [
    "let books4_$ = 500;"
   ]
  },
  {
   "cell_type": "code",
   "execution_count": 8,
   "id": "35ceb4a1-54ad-4ab0-b6a1-ee079904ec2c",
   "metadata": {},
   "outputs": [],
   "source": [
    "let $ = 10;"
   ]
  },
  {
   "cell_type": "code",
   "execution_count": 9,
   "id": "04060cb7-b60e-44d9-b8b4-d9cc759ebbdd",
   "metadata": {},
   "outputs": [],
   "source": [
    "let _ = 60;"
   ]
  },
  {
   "cell_type": "code",
   "execution_count": null,
   "id": "1545daaa-6480-4725-b9b8-56b1de49049f",
   "metadata": {},
   "outputs": [],
   "source": []
  },
  {
   "cell_type": "code",
   "execution_count": 11,
   "id": "3ec641ec-5a51-4a5b-9812-c74b9218c8ed",
   "metadata": {},
   "outputs": [],
   "source": [
    "let a = 10;"
   ]
  },
  {
   "cell_type": "code",
   "execution_count": 12,
   "id": "78d6cd75-2d46-43c4-ae4f-eaffe750cbda",
   "metadata": {},
   "outputs": [],
   "source": [
    "let b = 50;"
   ]
  },
  {
   "cell_type": "code",
   "execution_count": 13,
   "id": "cb52c29f-72ab-498f-bfd0-b60fb4d4c265",
   "metadata": {},
   "outputs": [],
   "source": [
    "let ages = 20;"
   ]
  },
  {
   "cell_type": "code",
   "execution_count": 15,
   "id": "7a27b6b9-4b18-4ad0-b4df-54b144e2c532",
   "metadata": {},
   "outputs": [],
   "source": [
    "let books_prices = 3900;"
   ]
  },
  {
   "cell_type": "code",
   "execution_count": 16,
   "id": "2a04adb9-fef6-442f-b34a-8508c6850b6f",
   "metadata": {},
   "outputs": [],
   "source": [
    "let name = 'Ali';"
   ]
  },
  {
   "cell_type": "code",
   "execution_count": 17,
   "id": "67ecbd5d-2d8c-4eed-986c-39fb0fae0032",
   "metadata": {},
   "outputs": [],
   "source": [
    "let name_1 = 'ali';\n",
    "let name_2 = 'hamza';"
   ]
  },
  {
   "cell_type": "code",
   "execution_count": null,
   "id": "9f0c16d5-3764-4941-9bac-0b408552080f",
   "metadata": {},
   "outputs": [],
   "source": []
  },
  {
   "cell_type": "code",
   "execution_count": null,
   "id": "551153d6-7e3b-4fdc-b152-21abc9e6f3c1",
   "metadata": {},
   "outputs": [],
   "source": []
  },
  {
   "cell_type": "code",
   "execution_count": 20,
   "id": "6827f339-4a65-40c8-908f-1bcb0f8a5f35",
   "metadata": {},
   "outputs": [
    {
     "ename": "SyntaxError",
     "evalue": "Unexpected token 'const'",
     "execution_count": 20,
     "output_type": "error",
     "traceback": [
      "evalmachine.<anonymous>:1",
      "let const = 70;",
      "    ^^^^^",
      "",
      "SyntaxError: Unexpected token 'const'",
      "    at new Script (node:vm:117:7)",
      "    at createScript (node:vm:269:10)",
      "    at Object.runInThisContext (node:vm:317:10)",
      "    at run ([eval]:1020:15)",
      "    at onRunRequest ([eval]:864:18)",
      "    at onMessage ([eval]:828:13)",
      "    at process.emit (node:events:524:28)",
      "    at emit (node:internal/child_process:950:14)",
      "    at process.processTicksAndRejections (node:internal/process/task_queues:83:21)"
     ]
    }
   ],
   "source": [
    "let const = 70;"
   ]
  },
  {
   "cell_type": "code",
   "execution_count": 22,
   "id": "41c99172-b4e1-4ed1-8eac-bd9ad2d32c88",
   "metadata": {},
   "outputs": [],
   "source": [
    "let myAge = 20;"
   ]
  },
  {
   "cell_type": "code",
   "execution_count": null,
   "id": "f88bd793-3c64-49d7-866c-3930c88d752f",
   "metadata": {},
   "outputs": [],
   "source": []
  },
  {
   "cell_type": "code",
   "execution_count": 23,
   "id": "669d2f56-6f36-4763-b241-15a35c43e0fa",
   "metadata": {},
   "outputs": [],
   "source": [
    "let myName = 'Muhammad Ahmad';"
   ]
  },
  {
   "cell_type": "code",
   "execution_count": 26,
   "id": "e2cbdef0-b2c7-4dcb-86ad-46fc8b5d15df",
   "metadata": {},
   "outputs": [],
   "source": [
    "let my_Education = \"Fsc (Pre Medical)\";"
   ]
  },
  {
   "cell_type": "code",
   "execution_count": 27,
   "id": "c8ce4a3e-a3ee-4e11-b3c7-c54cf5ed5151",
   "metadata": {},
   "outputs": [
    {
     "name": "stdout",
     "output_type": "stream",
     "text": [
      "Fsc (Pre Medical)\n"
     ]
    }
   ],
   "source": [
    "console.log(my_Education);"
   ]
  },
  {
   "cell_type": "code",
   "execution_count": 28,
   "id": "b892129e-7376-4c48-bd66-bd26d456b5c2",
   "metadata": {},
   "outputs": [],
   "source": [
    "let info = 'Identifiers can be short names (like x and y) or more descriptive names (age, sum, totalVolume).';"
   ]
  },
  {
   "cell_type": "code",
   "execution_count": 29,
   "id": "65915bd7-0ff5-4c34-9882-3d4eda60e04c",
   "metadata": {},
   "outputs": [
    {
     "name": "stdout",
     "output_type": "stream",
     "text": [
      "Identifiers can be short names (like x and y) or more descriptive names (age, sum, totalVolume).\n"
     ]
    }
   ],
   "source": [
    "console.log(info);"
   ]
  },
  {
   "cell_type": "code",
   "execution_count": 30,
   "id": "69f7bcfd-a7e2-4fc5-8e2e-e832e58f9aef",
   "metadata": {},
   "outputs": [],
   "source": [
    "let str_numbers = '1234';"
   ]
  },
  {
   "cell_type": "code",
   "execution_count": 31,
   "id": "2c08482c-a4aa-4481-8e5f-09181c67cbe7",
   "metadata": {},
   "outputs": [
    {
     "name": "stdout",
     "output_type": "stream",
     "text": [
      "1234\n"
     ]
    }
   ],
   "source": [
    "console.log(str_numbers);"
   ]
  },
  {
   "cell_type": "code",
   "execution_count": 33,
   "id": "df81892d-f891-46e2-a33e-ad8e8123b547",
   "metadata": {},
   "outputs": [],
   "source": [
    "let info_2 = 'In JavaScript, the equal sign (=) is an \"assignment\" operator, not an \"equal to\" operator.';"
   ]
  },
  {
   "cell_type": "code",
   "execution_count": 34,
   "id": "efcd24af-84d2-46d4-9b61-227472045e5c",
   "metadata": {},
   "outputs": [
    {
     "name": "stdout",
     "output_type": "stream",
     "text": [
      "In JavaScript, the equal sign (=) is an \"assignment\" operator, not an \"equal to\" operator.\n"
     ]
    }
   ],
   "source": [
    "console.log(info_2);"
   ]
  }
 ],
 "metadata": {
  "kernelspec": {
   "display_name": "JavaScript (Node.js)",
   "language": "javascript",
   "name": "javascript"
  },
  "language_info": {
   "file_extension": ".js",
   "mimetype": "application/javascript",
   "name": "javascript",
   "version": "20.19.0"
  }
 },
 "nbformat": 4,
 "nbformat_minor": 5
}
