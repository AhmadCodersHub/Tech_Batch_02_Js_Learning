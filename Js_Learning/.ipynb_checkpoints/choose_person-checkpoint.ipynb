{
 "cells": [
  {
   "cell_type": "code",
   "execution_count": 18,
   "id": "5a52dabe-dfff-47e3-b4d9-57a098530c80",
   "metadata": {},
   "outputs": [],
   "source": [
    "import random"
   ]
  },
  {
   "cell_type": "code",
   "execution_count": 29,
   "id": "dd1ffe04-7652-4d2c-baaf-4cd7e27b1904",
   "metadata": {},
   "outputs": [],
   "source": [
    "list_of_numbers = ['furqan','mohsin','rizwan','sulman','adil']\n",
    "# list_of_numbers = ['furqan']"
   ]
  },
  {
   "cell_type": "code",
   "execution_count": 30,
   "id": "64805f70-3b8a-40f7-86a4-0f6e1dfb0449",
   "metadata": {},
   "outputs": [
    {
     "name": "stdout",
     "output_type": "stream",
     "text": [
      "furqan\n"
     ]
    }
   ],
   "source": [
    "print(random.choice(list_of_numbers))"
   ]
  },
  {
   "cell_type": "code",
   "execution_count": null,
   "id": "d7367d25-b0d7-43b5-866c-fce699e286b2",
   "metadata": {},
   "outputs": [],
   "source": []
  },
  {
   "cell_type": "code",
   "execution_count": null,
   "id": "fb30a6e8-04f8-42be-9d63-95fd772d0df7",
   "metadata": {},
   "outputs": [],
   "source": []
  }
 ],
 "metadata": {
  "kernelspec": {
   "display_name": "Python 3 (ipykernel)",
   "language": "python",
   "name": "python3"
  },
  "language_info": {
   "codemirror_mode": {
    "name": "ipython",
    "version": 3
   },
   "file_extension": ".py",
   "mimetype": "text/x-python",
   "name": "python",
   "nbconvert_exporter": "python",
   "pygments_lexer": "ipython3",
   "version": "3.13.3"
  }
 },
 "nbformat": 4,
 "nbformat_minor": 5
}
