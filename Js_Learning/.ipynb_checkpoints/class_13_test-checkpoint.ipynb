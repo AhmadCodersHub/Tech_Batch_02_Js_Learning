{
 "cells": [
  {
   "cell_type": "code",
   "execution_count": null,
   "id": "dbfb6362-f8a9-483c-a60f-7574faf20152",
   "metadata": {},
   "outputs": [],
   "source": []
  },
  {
   "cell_type": "code",
   "execution_count": 1,
   "id": "cd8a6537-7850-42ad-865a-f2c4a3fe359d",
   "metadata": {},
   "outputs": [
    {
     "name": "stdout",
     "output_type": "stream",
     "text": [
      "pak\n"
     ]
    }
   ],
   "source": [
    "let text = 'pakistan';\n",
    "\n",
    "console.log(text.slice(0,3));\n"
   ]
  },
  {
   "cell_type": "code",
   "execution_count": 2,
   "id": "8bb069f9-f4c4-4946-a027-d8129fe1fb7f",
   "metadata": {},
   "outputs": [
    {
     "name": "stdout",
     "output_type": "stream",
     "text": [
      "pakstan\n"
     ]
    }
   ],
   "source": [
    "// mohsin: 95 % correct :- wrong answer.\n",
    "let text_5 = text.slice(0,3);\n",
    "let text_6 = text.slice(4,8);\n",
    "console.log(text_5 + text_6)"
   ]
  },
  {
   "cell_type": "code",
   "execution_count": 3,
   "id": "2353c371-120f-47c1-b06d-450c709822af",
   "metadata": {},
   "outputs": [
    {
     "name": "stdout",
     "output_type": "stream",
     "text": [
      "istan\n",
      "pakistan\n"
     ]
    }
   ],
   "source": [
    "// furqan :- wrong answer\n",
    "console.log(text.slice(3));\n",
    "console.log(text.slice(0,8));"
   ]
  },
  {
   "cell_type": "code",
   "execution_count": null,
   "id": "bb171020-fcb6-48d1-91d6-c9b46f8a2b1f",
   "metadata": {},
   "outputs": [],
   "source": []
  },
  {
   "cell_type": "code",
   "execution_count": 4,
   "id": "5b269e29-4fd7-4bee-abda-e1fd4a3e4285",
   "metadata": {},
   "outputs": [
    {
     "ename": "TypeError",
     "evalue": "text is not a function",
     "execution_count": 4,
     "output_type": "error",
     "traceback": [
      "evalmachine.<anonymous>:2",
      "let text_1 = text(text.slice(0,3));",
      "             ^",
      "",
      "TypeError: text is not a function",
      "    at evalmachine.<anonymous>:2:14",
      "    at Script.runInThisContext (node:vm:137:12)",
      "    at Object.runInThisContext (node:vm:317:38)",
      "    at run ([eval]:1020:15)",
      "    at onRunRequest ([eval]:864:18)",
      "    at onMessage ([eval]:828:13)",
      "    at process.emit (node:events:524:28)",
      "    at emit (node:internal/child_process:950:14)",
      "    at process.processTicksAndRejections (node:internal/process/task_queues:83:21)"
     ]
    }
   ],
   "source": [
    "// adil :- wrong answer\n",
    "let text_1 = text(text.slice(0,3));\n",
    "let text_2 = text(text.slice(3));\n",
    "console.log(text_1 + text_2);"
   ]
  },
  {
   "cell_type": "code",
   "execution_count": null,
   "id": "d75eec26-dd98-4c67-b7d2-82b5dbd12af1",
   "metadata": {},
   "outputs": [],
   "source": []
  },
  {
   "cell_type": "code",
   "execution_count": null,
   "id": "6d2785b1-67d4-4710-890e-58e550f76a41",
   "metadata": {},
   "outputs": [],
   "source": []
  },
  {
   "cell_type": "code",
   "execution_count": 5,
   "id": "c38f058e-7968-4d4f-8468-5dcbe4e6deee",
   "metadata": {},
   "outputs": [
    {
     "ename": "TypeError",
     "evalue": "text is not a function",
     "execution_count": 5,
     "output_type": "error",
     "traceback": [
      "evalmachine.<anonymous>:2",
      "let text_3 = text(text.slice(0,3));",
      "             ^",
      "",
      "TypeError: text is not a function",
      "    at evalmachine.<anonymous>:2:14",
      "    at Script.runInThisContext (node:vm:137:12)",
      "    at Object.runInThisContext (node:vm:317:38)",
      "    at run ([eval]:1020:15)",
      "    at onRunRequest ([eval]:864:18)",
      "    at onMessage ([eval]:828:13)",
      "    at process.emit (node:events:524:28)",
      "    at emit (node:internal/child_process:950:14)",
      "    at process.processTicksAndRejections (node:internal/process/task_queues:83:21)"
     ]
    }
   ],
   "source": [
    "// rizwan :- wrong answer\n",
    "let text_3 = text(text.slice(0,3));\n",
    "let text_4 = text(text.slice(3));\n",
    "console.log(text_3);\n",
    "console.log(text_4);\n",
    "console.log(text);"
   ]
  },
  {
   "cell_type": "code",
   "execution_count": null,
   "id": "1164d86f-58d8-45d0-89bb-a64f3e568eab",
   "metadata": {},
   "outputs": [],
   "source": []
  },
  {
   "cell_type": "code",
   "execution_count": null,
   "id": "dffa67fc-6a0d-40d5-b404-06803d0f2c83",
   "metadata": {},
   "outputs": [],
   "source": [
    "let text = 'pakistan';"
   ]
  },
  {
   "cell_type": "code",
   "execution_count": 6,
   "id": "904f3dda-b8c4-49cf-ae32-8612722abb58",
   "metadata": {},
   "outputs": [
    {
     "name": "stdout",
     "output_type": "stream",
     "text": [
      "pak\n",
      "istan\n",
      "pakistan\n"
     ]
    }
   ],
   "source": [
    "// sulman :- wrong answer\n",
    "console.log(text.slice(0,3));\n",
    "console.log(text.slice(3));\n",
    "console.log(text.slice(0));"
   ]
  },
  {
   "cell_type": "code",
   "execution_count": null,
   "id": "7c8ead34-1347-49d4-aef1-ec14b88d3a4f",
   "metadata": {},
   "outputs": [],
   "source": []
  },
  {
   "cell_type": "code",
   "execution_count": null,
   "id": "e79cd567-2efb-413e-8f7a-2d6f15e5372f",
   "metadata": {},
   "outputs": [],
   "source": []
  },
  {
   "cell_type": "code",
   "execution_count": 7,
   "id": "771bde6b-531c-47c8-b071-960fa5e3d1a6",
   "metadata": {},
   "outputs": [
    {
     "name": "stdout",
     "output_type": "stream",
     "text": [
      "15\n"
     ]
    }
   ],
   "source": [
    "let random_text = 'this is a  book';\n",
    "console.log(random_text.length);\n"
   ]
  },
  {
   "cell_type": "code",
   "execution_count": null,
   "id": "7199e211-aeb5-44d9-a5bc-0b7923ff4804",
   "metadata": {},
   "outputs": [],
   "source": [
    "// adil:- 15 :- correct answer\n",
    "// mohsin:- 15 :- correct answer\n",
    "// rizwan:- 13 :- wrong answer\n",
    "// furqan:- 14 :- wrong answer\n",
    "// sulman:- 14 :- wrong answer"
   ]
  },
  {
   "cell_type": "code",
   "execution_count": 8,
   "id": "3ab5c103-e541-42c8-829e-6e19f79a781e",
   "metadata": {},
   "outputs": [
    {
     "name": "stdout",
     "output_type": "stream",
     "text": [
      "r\n"
     ]
    }
   ],
   "source": [
    "let subject = 'Chemistry';\n",
    "console.log(subject.at(-2));"
   ]
  },
  {
   "cell_type": "code",
   "execution_count": null,
   "id": "220dcd92-0abe-497e-b60a-c15263a13b03",
   "metadata": {},
   "outputs": [],
   "source": [
    "// adil:- r:- correct answer\n",
    "// mohsin:-  r:- correct answer\n",
    "// rizwan:-  r:- correct answer\n",
    "// furqan:-  r:- correct answer\n",
    "// sulman:-  r:- correct answer"
   ]
  },
  {
   "cell_type": "code",
   "execution_count": null,
   "id": "c9f05db8-d776-43c9-8a47-6edaa4300c32",
   "metadata": {},
   "outputs": [],
   "source": []
  },
  {
   "cell_type": "code",
   "execution_count": 1,
   "id": "93096bac-f7f1-4db5-b372-6d42462c3faf",
   "metadata": {},
   "outputs": [
    {
     "name": "stdout",
     "output_type": "stream",
     "text": [
      " \n"
     ]
    }
   ],
   "source": [
    "let info = 'my name is rizwan';\n",
    "\n",
    "console.log(info.at(2,6));"
   ]
  },
  {
   "cell_type": "code",
   "execution_count": null,
   "id": "009487c1-5b07-4934-b288-26afac859bea",
   "metadata": {},
   "outputs": [],
   "source": [
    "// adil:- Nan:- used positive values in at function. at are taking the negative values:- wrong answer\n",
    "// mohsin:- error:- syntax error:- wrong answer\n",
    "// rizwan:- name:- solve :- wrong answer\n",
    "// furqan:- Nan:- used positive values in at function. at are taking the negative values:- wrong answer\n",
    "// sulman:- error:- syntax error:- wrong answer"
   ]
  },
  {
   "cell_type": "code",
   "execution_count": null,
   "id": "33b68fa6-814c-414e-bd32-7c7dc3c27a68",
   "metadata": {},
   "outputs": [],
   "source": []
  },
  {
   "cell_type": "code",
   "execution_count": 16,
   "id": "8654805e-4095-4521-aeea-70400275a7af",
   "metadata": {},
   "outputs": [
    {
     "name": "stdout",
     "output_type": "stream",
     "text": [
      "y\n"
     ]
    }
   ],
   "source": [
    "// mohsin\n",
    "let info_2 = 'my name is mohsin';\n",
    "console.log(info_2[1]);"
   ]
  },
  {
   "cell_type": "code",
   "execution_count": 24,
   "id": "0de287d9-f910-4139-a3b3-d2a25ebedbc2",
   "metadata": {},
   "outputs": [
    {
     "name": "stdout",
     "output_type": "stream",
     "text": [
      "n\n"
     ]
    }
   ],
   "source": [
    "console.log(info_2[3]);"
   ]
  },
  {
   "cell_type": "code",
   "execution_count": null,
   "id": "e46477f1-3f86-444d-b3af-41a4c06bb356",
   "metadata": {},
   "outputs": [],
   "source": [
    "// adil:- y\n",
    "// mohsin:- my \n",
    "// rizwan:- y\n",
    "// furqan:- y\n",
    "// sulman:- y"
   ]
  },
  {
   "cell_type": "code",
   "execution_count": null,
   "id": "008b0866-796a-4b12-8538-b45d7745d456",
   "metadata": {},
   "outputs": [],
   "source": []
  },
  {
   "cell_type": "code",
   "execution_count": null,
   "id": "a201de96-001c-4d57-b77a-84341a51029c",
   "metadata": {},
   "outputs": [],
   "source": []
  },
  {
   "cell_type": "code",
   "execution_count": null,
   "id": "5ce31aaa-9b38-472f-a630-12ba0ba2d837",
   "metadata": {},
   "outputs": [],
   "source": []
  },
  {
   "cell_type": "code",
   "execution_count": null,
   "id": "f0fae3d8-96d4-4381-b105-daf55eb80085",
   "metadata": {},
   "outputs": [],
   "source": []
  },
  {
   "cell_type": "code",
   "execution_count": null,
   "id": "40e458e3-255c-4ab6-89ee-b3752a080bc1",
   "metadata": {},
   "outputs": [],
   "source": []
  },
  {
   "cell_type": "code",
   "execution_count": null,
   "id": "73850e40-95d9-4718-bef9-f485e98cc843",
   "metadata": {},
   "outputs": [],
   "source": []
  }
 ],
 "metadata": {
  "kernelspec": {
   "display_name": "JavaScript (Node.js)",
   "language": "javascript",
   "name": "javascript"
  },
  "language_info": {
   "file_extension": ".js",
   "mimetype": "application/javascript",
   "name": "javascript",
   "version": "20.19.0"
  }
 },
 "nbformat": 4,
 "nbformat_minor": 5
}
