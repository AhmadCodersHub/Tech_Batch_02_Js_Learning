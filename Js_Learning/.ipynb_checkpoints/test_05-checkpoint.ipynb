{
 "cells": [
  {
   "cell_type": "code",
   "execution_count": 1,
   "id": "aad9dfe7-a49c-40d6-994a-0864c9aebc5d",
   "metadata": {},
   "outputs": [
    {
     "name": "stdout",
     "output_type": "stream",
     "text": [
      "100000\n"
     ]
    }
   ],
   "source": [
    "let a = 10;\n",
    "\n",
    "let b = 5;\n",
    "\n",
    "console.log(a ** b);"
   ]
  },
  {
   "cell_type": "code",
   "execution_count": null,
   "id": "4c79ac23-59bd-4a69-9091-5c3929a39ef9",
   "metadata": {},
   "outputs": [],
   "source": []
  },
  {
   "cell_type": "code",
   "execution_count": 2,
   "id": "d0db75dc-94c8-4bbe-a42b-508b443c1957",
   "metadata": {
    "scrolled": true
   },
   "outputs": [
    {
     "ename": "SyntaxError",
     "evalue": "Unexpected number",
     "execution_count": 2,
     "output_type": "error",
     "traceback": [
      "evalmachine.<anonymous>:1",
      "let number = 45 34;",
      "                ^^",
      "",
      "SyntaxError: Unexpected number",
      "    at new Script (node:vm:117:7)",
      "    at createScript (node:vm:269:10)",
      "    at Object.runInThisContext (node:vm:317:10)",
      "    at run ([eval]:1020:15)",
      "    at onRunRequest ([eval]:864:18)",
      "    at onMessage ([eval]:828:13)",
      "    at process.emit (node:events:524:28)",
      "    at emit (node:internal/child_process:950:14)",
      "    at process.processTicksAndRejections (node:internal/process/task_queues:83:21)"
     ]
    }
   ],
   "source": [
    "let number = 45 34;\n",
    "\n",
    "console.log(number);\n",
    "\n",
    "// furqan :- 45 34\n",
    "// rizawan:- 45 34\n",
    "// mohsin:- 45 34\n",
    "// adil:- 45 34\n",
    "// sulman:- 45 34"
   ]
  },
  {
   "cell_type": "code",
   "execution_count": null,
   "id": "6e20e522-da4a-4f15-99e8-206fec003ff9",
   "metadata": {},
   "outputs": [],
   "source": []
  },
  {
   "cell_type": "code",
   "execution_count": 3,
   "id": "d6f56fe8-b822-4da3-a45c-dda0e4d373db",
   "metadata": {
    "scrolled": true
   },
   "outputs": [
    {
     "ename": "ReferenceError",
     "evalue": "conosle is not defined",
     "execution_count": 3,
     "output_type": "error",
     "traceback": [
      "evalmachine.<anonymous>:3",
      "conosle.log(str_number);",
      "^",
      "",
      "ReferenceError: conosle is not defined",
      "    at evalmachine.<anonymous>:3:1",
      "    at Script.runInThisContext (node:vm:137:12)",
      "    at Object.runInThisContext (node:vm:317:38)",
      "    at run ([eval]:1020:15)",
      "    at onRunRequest ([eval]:864:18)",
      "    at onMessage ([eval]:828:13)",
      "    at process.emit (node:events:524:28)",
      "    at emit (node:internal/child_process:950:14)",
      "    at process.processTicksAndRejections (node:internal/process/task_queues:83:21)"
     ]
    }
   ],
   "source": [
    "let str_number = '787' + 32 % 2;\n",
    "\n",
    "conosle.log(str_number);"
   ]
  },
  {
   "cell_type": "code",
   "execution_count": null,
   "id": "f57b70d7-2050-426e-b3ee-e2d95f6909fc",
   "metadata": {},
   "outputs": [],
   "source": [
    "// furqan:- 7870\n",
    "// mohsin:- 787+0\n",
    "// adil:- 7870\n",
    "// rizwan:- 7870\n",
    "// sulman:- 7870"
   ]
  },
  {
   "cell_type": "code",
   "execution_count": null,
   "id": "be2f4e51-b013-45bc-bfab-40fb79848b6e",
   "metadata": {},
   "outputs": [],
   "source": []
  },
  {
   "cell_type": "code",
   "execution_count": 5,
   "id": "32e7ae2a-7d96-46ea-b058-640e0013776c",
   "metadata": {},
   "outputs": [
    {
     "name": "stdout",
     "output_type": "stream",
     "text": [
      "0\n",
      "0\n"
     ]
    }
   ],
   "source": [
    "let num_1 = 10;\n",
    "let num_2 = 2;\n",
    "let result_num = num_1 % num_2;\n",
    "let calculate_value = '300' * result_num;\n",
    "\n",
    "console.log(result_num);\n",
    "console.log(calculate_value);"
   ]
  },
  {
   "cell_type": "code",
   "execution_count": 7,
   "id": "f43fe419-3dd6-4828-96fb-bafd76d57663",
   "metadata": {},
   "outputs": [
    {
     "data": {
      "text/plain": [
       "0"
      ]
     },
     "execution_count": 7,
     "metadata": {},
     "output_type": "execute_result"
    }
   ],
   "source": [
    "'300' * 0"
   ]
  },
  {
   "cell_type": "code",
   "execution_count": null,
   "id": "3e3e72ef-317a-425a-a740-d0e028bcebd4",
   "metadata": {},
   "outputs": [],
   "source": [
    "//sulman:- error:- due to same varibales use multiple times\n",
    "//furqan:- 3005\n",
    "//adil:- error:- use multiple times console.log()\n",
    "//rizwan:- 0,0 correct answer\n",
    "//mohsin:- 300 0"
   ]
  },
  {
   "cell_type": "code",
   "execution_count": 8,
   "id": "bee343c6-8a8a-4ff1-80ca-3cab8c317583",
   "metadata": {},
   "outputs": [
    {
     "ename": "SyntaxError",
     "evalue": "Unexpected number",
     "execution_count": 8,
     "output_type": "error",
     "traceback": [
      "evalmachine.<anonymous>:1",
      "let age , price , value = 30 , 90.99 , 100;",
      "                               ^^^^^",
      "",
      "SyntaxError: Unexpected number",
      "    at new Script (node:vm:117:7)",
      "    at createScript (node:vm:269:10)",
      "    at Object.runInThisContext (node:vm:317:10)",
      "    at run ([eval]:1020:15)",
      "    at onRunRequest ([eval]:864:18)",
      "    at onMessage ([eval]:828:13)",
      "    at process.emit (node:events:524:28)",
      "    at emit (node:internal/child_process:950:14)",
      "    at process.processTicksAndRejections (node:internal/process/task_queues:83:21)"
     ]
    }
   ],
   "source": [
    "let age , price , value = 30 , 90.99 , 100;\n",
    "\n",
    "console.log(age, price, value);"
   ]
  },
  {
   "cell_type": "code",
   "execution_count": null,
   "id": "1d82897f-8155-4e7f-90a0-7336e581706e",
   "metadata": {},
   "outputs": [],
   "source": [
    "// furqan:- error:- invalid syntax\n",
    "// rizwan:- error:- invalid syntax\n",
    "// mohsin:- error:- invalid syntax\n",
    "// adil:- error:- invalid syntax\n",
    "// sulman:- error:- invalid syntax"
   ]
  },
  {
   "cell_type": "code",
   "execution_count": null,
   "id": "543790dc-9794-45fa-a8ab-151ed87a3894",
   "metadata": {},
   "outputs": [],
   "source": []
  },
  {
   "cell_type": "code",
   "execution_count": 9,
   "id": "cb358efd-1707-4b71-87b4-cff144796603",
   "metadata": {},
   "outputs": [
    {
     "ename": "SyntaxError",
     "evalue": "Unexpected identifier 'my_Number45'",
     "execution_count": 9,
     "output_type": "error",
     "traceback": [
      "evalmachine.<anonymous>:1",
      "LET my_Number45 = 600;",
      "    ^^^^^^^^^^^",
      "",
      "SyntaxError: Unexpected identifier 'my_Number45'",
      "    at new Script (node:vm:117:7)",
      "    at createScript (node:vm:269:10)",
      "    at Object.runInThisContext (node:vm:317:10)",
      "    at run ([eval]:1020:15)",
      "    at onRunRequest ([eval]:864:18)",
      "    at onMessage ([eval]:828:13)",
      "    at process.emit (node:events:524:28)",
      "    at emit (node:internal/child_process:950:14)",
      "    at process.processTicksAndRejections (node:internal/process/task_queues:83:21)"
     ]
    }
   ],
   "source": [
    "LET my_Number45 = 600;\n",
    "\n",
    "console.log(my_Number45);"
   ]
  },
  {
   "cell_type": "code",
   "execution_count": null,
   "id": "ab2d59b7-438c-4dbe-a3a5-7a7c798adc07",
   "metadata": {},
   "outputs": [],
   "source": [
    "// furqan:- error let keywrord error\n",
    "// rizwan:- error let keywrord error\n",
    "// mohsin:- error let keywrord error and use numbers in varibale \n",
    "// adil:- error:- let keywrord error\n",
    "// sulman:- error:- Use captil N after underscore in varibale and let keywrord error"
   ]
  },
  {
   "cell_type": "code",
   "execution_count": 10,
   "id": "70388130-38a4-4e2e-ab91-c6adee44ad06",
   "metadata": {},
   "outputs": [],
   "source": [
    "let my_Number45 = 600;       "
   ]
  },
  {
   "cell_type": "code",
   "execution_count": null,
   "id": "6b4ddec8-e316-46d0-9563-fec9f283104f",
   "metadata": {},
   "outputs": [],
   "source": []
  },
  {
   "cell_type": "code",
   "execution_count": null,
   "id": "0d0532b5-02fd-4827-8e29-a288eb53e929",
   "metadata": {},
   "outputs": [],
   "source": []
  },
  {
   "cell_type": "code",
   "execution_count": null,
   "id": "bb99e1f3-e5ca-46b6-b72c-1376fcd067d2",
   "metadata": {},
   "outputs": [],
   "source": []
  }
 ],
 "metadata": {
  "kernelspec": {
   "display_name": "JavaScript (Node.js)",
   "language": "javascript",
   "name": "javascript"
  },
  "language_info": {
   "file_extension": ".js",
   "mimetype": "application/javascript",
   "name": "javascript",
   "version": "20.19.0"
  }
 },
 "nbformat": 4,
 "nbformat_minor": 5
}
