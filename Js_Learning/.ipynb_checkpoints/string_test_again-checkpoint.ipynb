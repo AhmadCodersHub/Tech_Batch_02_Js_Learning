{
 "cells": [
  {
   "cell_type": "code",
   "execution_count": 1,
   "id": "9db67c89-55ae-49c0-b5c2-919b9a5fd060",
   "metadata": {},
   "outputs": [
    {
     "name": "stdout",
     "output_type": "stream",
     "text": [
      "2525\n"
     ]
    }
   ],
   "source": [
    "let str_1 = '20';\n",
    "let str_2 = str_1 = '25';\n",
    "console.log(str_2 + str_1);"
   ]
  },
  {
   "cell_type": "code",
   "execution_count": 2,
   "id": "dec98247-9b5f-434b-b189-ead436f4445d",
   "metadata": {},
   "outputs": [],
   "source": [
    "// furqan:- 20 = 2520:- wrong answer\n",
    "// rizwan:- 20 = 2520:- wrong answer\n",
    "// adil:- 20 = 2520:- wrong answer\n",
    "// mohsin:- 20 = 2520:- wrong answer\n",
    "// sulman:- Null:- wrong answer"
   ]
  },
  {
   "cell_type": "code",
   "execution_count": null,
   "id": "1955f4d5-ac2d-4de6-8696-f259954560ff",
   "metadata": {},
   "outputs": [],
   "source": []
  },
  {
   "cell_type": "code",
   "execution_count": 1,
   "id": "82e0c00e-0846-42eb-bf20-0214da54b69a",
   "metadata": {},
   "outputs": [],
   "source": [
    "let num_array = [10,20,0,4,5,6];\n",
    "let str_array = ['apple','banana','orange','mango','grapes','pineapple'];\n",
    "// output should be like this\n",
    "// apple\n",
    "// bananabanana\n",
    "// orangeorangeorange\n",
    "// mangomangomangomango\n",
    "// grapesgrapesgrapesgrapesgrapes\n",
    "// pineapplepineapplepineapplepineapplepineapplepineapple"
   ]
  },
  {
   "cell_type": "code",
   "execution_count": 2,
   "id": "6eb3a16f-338e-474d-8e9e-5ec50c910d9b",
   "metadata": {},
   "outputs": [
    {
     "name": "stdout",
     "output_type": "stream",
     "text": [
      "appleappleappleappleappleappleappleappleappleapple\n",
      "bananabananabananabananabananabananabananabananabananabananabananabananabananabananabananabananabananabananabananabanana\n",
      "\n",
      "mangomangomangomango\n",
      "grapesgrapesgrapesgrapesgrapes\n",
      "pineapplepineapplepineapplepineapplepineapplepineapple\n"
     ]
    }
   ],
   "source": [
    "let str_1 = str_array[0];\n",
    "let str_2 = str_array[1];\n",
    "let str_3 = str_array[2];\n",
    "let str_4 = str_array[3];\n",
    "let str_5 = str_array[4];\n",
    "let str_6 = str_array[5];\n",
    "\n",
    "let num_1 = num_array[0];\n",
    "let num_2 = num_array[1];\n",
    "let num_3 = num_array[2];\n",
    "let num_4 = num_array[3];\n",
    "let num_5 = num_array[4];\n",
    "let num_6 = num_array[5];\n",
    "\n",
    "console.log(str_1.repeat(num_1));\n",
    "console.log(str_2.repeat(num_2));\n",
    "console.log(str_3.repeat(num_3));\n",
    "console.log(str_4.repeat(num_4));\n",
    "console.log(str_5.repeat(num_5));\n",
    "console.log(str_6.repeat(num_6));"
   ]
  },
  {
   "cell_type": "code",
   "execution_count": null,
   "id": "c0de230f-4458-4024-833c-393997e0563e",
   "metadata": {},
   "outputs": [],
   "source": []
  },
  {
   "cell_type": "code",
   "execution_count": 2,
   "id": "908eec65-e67e-4333-aa1d-c9ff3d4323e5",
   "metadata": {},
   "outputs": [
    {
     "name": "stdout",
     "output_type": "stream",
     "text": [
      "apple\n",
      "bananabanana\n",
      "orangeorangeorange\n",
      "mangomangomangomango\n",
      "grapesgrapesgrapesgrapesgrapes\n",
      "pineapplepineapplepineapplepineapplepineapplepineapple\n"
     ]
    }
   ],
   "source": [
    "// furqan\n",
    "let furit_1 = str_array[0];\n",
    "let furit_2 = str_array[1].repeat(2);\n",
    "let furit_3 = str_array[2].repeat(3);\n",
    "let furit_4 = str_array[3].repeat(4);\n",
    "let furit_5 = str_array[4].repeat(5);\n",
    "let furit_6 = str_array[5].repeat(6);\n",
    "\n",
    "console.log(furit_1);\n",
    "console.log(furit_2);\n",
    "console.log(furit_3);\n",
    "console.log(furit_4);\n",
    "console.log(furit_5);\n",
    "console.log(furit_6);"
   ]
  },
  {
   "cell_type": "code",
   "execution_count": null,
   "id": "ee455b6a-369c-46b2-8ae1-cf29c46faefc",
   "metadata": {},
   "outputs": [],
   "source": []
  },
  {
   "cell_type": "code",
   "execution_count": 6,
   "id": "a19337d7-b903-4538-a8ac-ea03a1a633ea",
   "metadata": {},
   "outputs": [],
   "source": [
    "// mohsin"
   ]
  },
  {
   "cell_type": "code",
   "execution_count": 2,
   "id": "cc7d56d7-d705-4d1d-b282-51ef62ab3644",
   "metadata": {},
   "outputs": [
    {
     "name": "stdout",
     "output_type": "stream",
     "text": [
      "NaN\n",
      "NaN\n",
      "NaN\n",
      "NaN\n",
      "NaN\n",
      "NaN\n"
     ]
    }
   ],
   "source": [
    "let str_1 = str_array[0];\n",
    "let str_2 = str_array[1];\n",
    "let str_3 = str_array[2];\n",
    "let str_4 = str_array[3];\n",
    "let str_5 = str_array[4];\n",
    "let str_6 = str_array[5];\n",
    "\n",
    "let num_1 = num_array[0];\n",
    "let num_2 = num_array[1];\n",
    "let num_3 = num_array[2];\n",
    "let num_4 = num_array[3];\n",
    "let num_5 = num_array[4];\n",
    "let num_6 = num_array[5];\n",
    "\n",
    "console.log(str_1 * num_1);\n",
    "console.log(str_2 * num_2);\n",
    "console.log(str_3 * num_3);\n",
    "console.log(str_4 * num_4);\n",
    "console.log(str_5 * num_5);\n",
    "console.log(str_6 * num_6);"
   ]
  },
  {
   "cell_type": "code",
   "execution_count": null,
   "id": "372b7cd3-f8a6-4cd1-b2dc-5bd7ccd60b65",
   "metadata": {},
   "outputs": [],
   "source": []
  },
  {
   "cell_type": "code",
   "execution_count": 3,
   "id": "ff7c0bc2-d36b-441a-b6f8-4e4954e1f9c6",
   "metadata": {},
   "outputs": [
    {
     "ename": "SyntaxError",
     "evalue": "Identifier 'num_array' has already been declared",
     "execution_count": 3,
     "output_type": "error",
     "traceback": [
      "evalmachine.<anonymous>:1",
      "// sulman",
      "^",
      "",
      "SyntaxError: Identifier 'num_array' has already been declared",
      "    at Script.runInThisContext (node:vm:137:12)",
      "    at Object.runInThisContext (node:vm:317:38)",
      "    at run ([eval]:1020:15)",
      "    at onRunRequest ([eval]:864:18)",
      "    at onMessage ([eval]:828:13)",
      "    at process.emit (node:events:524:28)",
      "    at emit (node:internal/child_process:950:14)",
      "    at process.processTicksAndRejections (node:internal/process/task_queues:83:21)"
     ]
    }
   ],
   "source": [
    "// sulman\n",
    "let arrays_1 = num_array[0];\n",
    "let arrays_2 = num_array[1];\n",
    "let arrays_3 = num_array[2];\n",
    "let arrays_4 = num_array[3];\n",
    "let arrays_5 = num_array[4];\n",
    "let arrays_6 = num_array[5];\n",
    "\n",
    "let num_array = arrays_1 + str_array;\n",
    "let num_array_2 = arrays_2 + str_array.repeat(2);\n",
    "let num_array_3 = arrays_3 + str_array.repeat(3);\n",
    "let num_array_4 = arrays_4 + str_array.repeat(4);\n",
    "let num_array_5 = arrays_5 + str_array.repeat(5);\n",
    "let num_array_6 = arrays_6 + str_array.repeat(6);\n",
    "\n",
    "console.log(num_array);\n",
    "console.log(num_array_2);\n",
    "console.log(num_array_3);\n",
    "console.log(num_array_4);\n",
    "console.log(num_array_5);\n",
    "console.log(num_array_6);"
   ]
  },
  {
   "cell_type": "code",
   "execution_count": null,
   "id": "4192dec6-2f69-45f0-8ff5-d2d041083bc1",
   "metadata": {},
   "outputs": [],
   "source": []
  },
  {
   "cell_type": "code",
   "execution_count": 4,
   "id": "0e5e9329-edb0-4d0f-94db-38bd7d875956",
   "metadata": {},
   "outputs": [
    {
     "name": "stdout",
     "output_type": "stream",
     "text": [
      "apple\n",
      "bananabanana\n",
      "orangeorangeorange\n",
      "mangomangomangomango\n",
      "grapesgrapesgrapesgrapesgrapes\n",
      "pineapplepineapplepineapplepineapplepineapplepineapple\n"
     ]
    }
   ],
   "source": [
    "// rizwan\n",
    "let array_1 = str_array[0];\n",
    "let array_2 = str_array[1].repeat(2);\n",
    "let array_3 = str_array[2].repeat(3);\n",
    "let array_4 = str_array[3].repeat(4);\n",
    "let array_5 = str_array[4].repeat(5);\n",
    "let array_6 = str_array[5].repeat(6);\n",
    "\n",
    "console.log(array_1);\n",
    "console.log(array_2);\n",
    "console.log(array_3);\n",
    "console.log(array_4);\n",
    "console.log(array_5);\n",
    "console.log(array_6);"
   ]
  },
  {
   "cell_type": "code",
   "execution_count": null,
   "id": "723dc143-be10-47d9-aed6-cb6278f6cd2f",
   "metadata": {},
   "outputs": [],
   "source": []
  },
  {
   "cell_type": "code",
   "execution_count": 5,
   "id": "2194930c-06e0-4506-b5cf-8a02ae81cb4a",
   "metadata": {},
   "outputs": [
    {
     "ename": "TypeError",
     "evalue": "str_array.repeat is not a function",
     "execution_count": 5,
     "output_type": "error",
     "traceback": [
      "evalmachine.<anonymous>:2",
      "let clean_array = num_array[0] + str_array.repeat(1);",
      "                                           ^",
      "",
      "TypeError: str_array.repeat is not a function",
      "    at evalmachine.<anonymous>:2:44",
      "    at Script.runInThisContext (node:vm:137:12)",
      "    at Object.runInThisContext (node:vm:317:38)",
      "    at run ([eval]:1020:15)",
      "    at onRunRequest ([eval]:864:18)",
      "    at onMessage ([eval]:828:13)",
      "    at process.emit (node:events:524:28)",
      "    at emit (node:internal/child_process:950:14)",
      "    at process.processTicksAndRejections (node:internal/process/task_queues:83:21)"
     ]
    }
   ],
   "source": [
    "// adil\n",
    "let clean_array = num_array[0] + str_array.repeat(1);\n",
    "let clean_array_2 = num_array[1] + str_array.repeat(2);\n",
    "let clean_array_3 = num_array[2] + str_array.repeat(3);\n",
    "let clean_array_4 = num_array[3] + str_array.repeat(4);\n",
    "let clean_array_5 = num_array[4] + str_array.repeat(5);\n",
    "let clean_array_6 = num_array[5] + str_array.repeat(6);\n",
    "console.log(clean_array);\n",
    "console.log(clean_array_2);\n",
    "console.log(clean_array_3);\n",
    "console.log(clean_array_4);\n",
    "console.log(clean_array_5);\n",
    "console.log(clean_array_6);"
   ]
  },
  {
   "cell_type": "code",
   "execution_count": null,
   "id": "4b9f5d7e-5f67-4437-b9df-186349bc79e5",
   "metadata": {},
   "outputs": [],
   "source": []
  }
 ],
 "metadata": {
  "kernelspec": {
   "display_name": "JavaScript (Node.js)",
   "language": "javascript",
   "name": "javascript"
  },
  "language_info": {
   "file_extension": ".js",
   "mimetype": "application/javascript",
   "name": "javascript",
   "version": "20.19.0"
  }
 },
 "nbformat": 4,
 "nbformat_minor": 5
}
