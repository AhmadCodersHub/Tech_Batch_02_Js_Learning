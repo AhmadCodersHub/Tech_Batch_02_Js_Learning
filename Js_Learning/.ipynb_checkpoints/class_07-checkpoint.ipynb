{
 "cells": [
  {
   "cell_type": "markdown",
   "id": "c7dec1ef-994f-4ad9-97f6-ffce02226c5e",
   "metadata": {},
   "source": [
    "# JavaScript Comparison Operators"
   ]
  },
  {
   "cell_type": "code",
   "execution_count": null,
   "id": "02e54fa2-f640-4385-bbbd-5a0235c96807",
   "metadata": {},
   "outputs": [],
   "source": [
    "// == \tequal to\n",
    "// === \tequal value and equal type\n",
    "// != \tnot equal\n",
    "// !== \tnot equal value or not equal type\n",
    "// > \tgreater than\n",
    "// < \tless than\n",
    "// >= \tgreater than or equal to\n",
    "// <= \tless than or equal to"
   ]
  },
  {
   "cell_type": "code",
   "execution_count": 1,
   "id": "081d3e63-b3a3-47b6-a057-72385c52e875",
   "metadata": {},
   "outputs": [],
   "source": [
    "// != \tnot equal"
   ]
  },
  {
   "cell_type": "code",
   "execution_count": 15,
   "id": "9531e22e-af04-4482-aac0-bc17891ef42f",
   "metadata": {},
   "outputs": [
    {
     "data": {
      "text/plain": [
       "true"
      ]
     },
     "execution_count": 15,
     "metadata": {},
     "output_type": "execute_result"
    }
   ],
   "source": [
    "20 == 20;"
   ]
  },
  {
   "cell_type": "code",
   "execution_count": 5,
   "id": "2b967b53-ba14-4b98-8992-5fca67a5f60e",
   "metadata": {},
   "outputs": [
    {
     "data": {
      "text/plain": [
       "true"
      ]
     },
     "execution_count": 5,
     "metadata": {},
     "output_type": "execute_result"
    }
   ],
   "source": [
    "19 != 20;"
   ]
  },
  {
   "cell_type": "code",
   "execution_count": 16,
   "id": "d87cd292-c413-45c3-8071-2bbe7dc15777",
   "metadata": {},
   "outputs": [
    {
     "data": {
      "text/plain": [
       "false"
      ]
     },
     "execution_count": 16,
     "metadata": {},
     "output_type": "execute_result"
    }
   ],
   "source": [
    "20 != 20"
   ]
  },
  {
   "cell_type": "code",
   "execution_count": 7,
   "id": "0a510559-1bb4-455a-96d8-5ba532d66812",
   "metadata": {},
   "outputs": [
    {
     "data": {
      "text/plain": [
       "true"
      ]
     },
     "execution_count": 7,
     "metadata": {},
     "output_type": "execute_result"
    }
   ],
   "source": [
    "'19' != 20;"
   ]
  },
  {
   "cell_type": "code",
   "execution_count": null,
   "id": "d5c239ca-c6ad-4b2b-a6c0-324188af8aaa",
   "metadata": {},
   "outputs": [],
   "source": [
    "// !== \tnot equal value or not equal type"
   ]
  },
  {
   "cell_type": "code",
   "execution_count": 6,
   "id": "19f582b1-ac60-4122-8d3f-6bb6bb99d0c4",
   "metadata": {},
   "outputs": [
    {
     "data": {
      "text/plain": [
       "false"
      ]
     },
     "execution_count": 6,
     "metadata": {},
     "output_type": "execute_result"
    }
   ],
   "source": [
    "'20' === 20"
   ]
  },
  {
   "cell_type": "code",
   "execution_count": 21,
   "id": "c4d95e34-b66a-40bf-86c4-2625f71ffdec",
   "metadata": {},
   "outputs": [
    {
     "data": {
      "text/plain": [
       "true"
      ]
     },
     "execution_count": 21,
     "metadata": {},
     "output_type": "execute_result"
    }
   ],
   "source": [
    "'20' !== 20"
   ]
  },
  {
   "cell_type": "code",
   "execution_count": 22,
   "id": "2e0d5afd-5390-4e2b-ac60-d757455cd64b",
   "metadata": {},
   "outputs": [],
   "source": [
    "// > \tgreater than"
   ]
  },
  {
   "cell_type": "code",
   "execution_count": 24,
   "id": "f34afd59-10d7-4613-9cdc-1510a8d276b5",
   "metadata": {},
   "outputs": [
    {
     "data": {
      "text/plain": [
       "true"
      ]
     },
     "execution_count": 24,
     "metadata": {},
     "output_type": "execute_result"
    }
   ],
   "source": [
    "19 > 17;"
   ]
  },
  {
   "cell_type": "code",
   "execution_count": 25,
   "id": "ee8ba0e7-5bc0-492e-b705-0add34563a80",
   "metadata": {},
   "outputs": [],
   "source": [
    "// < \tless than"
   ]
  },
  {
   "cell_type": "code",
   "execution_count": 27,
   "id": "003c486f-7790-4ebe-9e9a-484d861a36fd",
   "metadata": {},
   "outputs": [
    {
     "data": {
      "text/plain": [
       "true"
      ]
     },
     "execution_count": 27,
     "metadata": {},
     "output_type": "execute_result"
    }
   ],
   "source": [
    "19 < 119;"
   ]
  },
  {
   "cell_type": "code",
   "execution_count": 28,
   "id": "3d0c38de-70e8-4343-82f0-781321b342e4",
   "metadata": {},
   "outputs": [],
   "source": [
    "// >= \tgreater than or equal to"
   ]
  },
  {
   "cell_type": "code",
   "execution_count": 29,
   "id": "87b2fc91-a156-4296-8d18-137e32eda177",
   "metadata": {},
   "outputs": [
    {
     "data": {
      "text/plain": [
       "false"
      ]
     },
     "execution_count": 29,
     "metadata": {},
     "output_type": "execute_result"
    }
   ],
   "source": [
    "19 > 19;"
   ]
  },
  {
   "cell_type": "code",
   "execution_count": 30,
   "id": "88a2766b-15f0-4f0e-bed2-0f1b8017e68d",
   "metadata": {},
   "outputs": [
    {
     "data": {
      "text/plain": [
       "true"
      ]
     },
     "execution_count": 30,
     "metadata": {},
     "output_type": "execute_result"
    }
   ],
   "source": [
    "19 >= 19;"
   ]
  },
  {
   "cell_type": "code",
   "execution_count": 32,
   "id": "e0e57770-6ac0-451d-be24-e9c262101781",
   "metadata": {},
   "outputs": [
    {
     "data": {
      "text/plain": [
       "false"
      ]
     },
     "execution_count": 32,
     "metadata": {},
     "output_type": "execute_result"
    }
   ],
   "source": [
    "19 >= 20;"
   ]
  },
  {
   "cell_type": "code",
   "execution_count": 33,
   "id": "538c6a5c-5dca-4d09-9355-a5e017dc6cd5",
   "metadata": {},
   "outputs": [],
   "source": [
    "// <= \tless than or equal to"
   ]
  },
  {
   "cell_type": "code",
   "execution_count": 34,
   "id": "54957ddb-68cd-4c57-9888-3e07bc685be8",
   "metadata": {},
   "outputs": [
    {
     "data": {
      "text/plain": [
       "true"
      ]
     },
     "execution_count": 34,
     "metadata": {},
     "output_type": "execute_result"
    }
   ],
   "source": [
    "19 <= 19;"
   ]
  },
  {
   "cell_type": "code",
   "execution_count": null,
   "id": "f42250da-91a5-46b0-9384-3a4d5276e22c",
   "metadata": {},
   "outputs": [],
   "source": []
  }
 ],
 "metadata": {
  "kernelspec": {
   "display_name": "JavaScript (Node.js)",
   "language": "javascript",
   "name": "javascript"
  },
  "language_info": {
   "file_extension": ".js",
   "mimetype": "application/javascript",
   "name": "javascript",
   "version": "20.19.0"
  }
 },
 "nbformat": 4,
 "nbformat_minor": 5
}
