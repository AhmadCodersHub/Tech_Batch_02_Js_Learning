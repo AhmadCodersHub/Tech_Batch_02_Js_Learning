{
 "cells": [
  {
   "cell_type": "markdown",
   "id": "d4e15550-3772-4f2f-a252-172f579df1df",
   "metadata": {},
   "source": [
    "#### var Variables method"
   ]
  },
  {
   "cell_type": "markdown",
   "id": "9d0eba87-b102-400d-be73-9848be91946a",
   "metadata": {},
   "source": [
    ".declaration\n",
    ".reassignment\n",
    ".modifications"
   ]
  },
  {
   "cell_type": "code",
   "execution_count": 1,
   "id": "232302cb-0278-4fa7-b27e-8c6506750318",
   "metadata": {},
   "outputs": [
    {
     "name": "stdout",
     "output_type": "stream",
     "text": [
      "30\n"
     ]
    }
   ],
   "source": [
    "x = 10;\n",
    "y = 20;\n",
    "\n",
    "console.log(x + y);"
   ]
  },
  {
   "cell_type": "code",
   "execution_count": 2,
   "id": "15847ab2-f1e2-4886-aadc-68e8d8258542",
   "metadata": {},
   "outputs": [],
   "source": [
    "var x = 10;\n",
    "var y = 20;"
   ]
  },
  {
   "cell_type": "code",
   "execution_count": 3,
   "id": "9d2cdbda-8852-4c03-998e-74ad8c549c8e",
   "metadata": {},
   "outputs": [
    {
     "name": "stdout",
     "output_type": "stream",
     "text": [
      "30\n"
     ]
    }
   ],
   "source": [
    "console.log(x + y);"
   ]
  },
  {
   "cell_type": "code",
   "execution_count": 5,
   "id": "46e3acb2-20aa-4a2f-a2ff-5c1ea061dcf0",
   "metadata": {},
   "outputs": [
    {
     "name": "stdout",
     "output_type": "stream",
     "text": [
      "6\n"
     ]
    }
   ],
   "source": [
    "var x = 6;\n",
    "\n",
    "console.log(x);"
   ]
  },
  {
   "cell_type": "markdown",
   "id": "40cffb5a-d93b-4c2b-aa28-b1e1169589d4",
   "metadata": {},
   "source": [
    "#### let"
   ]
  },
  {
   "cell_type": "markdown",
   "id": "5928d352-ee53-4c45-a8d5-b023df35d156",
   "metadata": {},
   "source": [
    ".declaration not possible\n",
    ".reassignment\n",
    ".modifications"
   ]
  },
  {
   "cell_type": "code",
   "execution_count": 6,
   "id": "701a556a-af94-42fe-b98e-d53e6fb4c0ed",
   "metadata": {},
   "outputs": [
    {
     "name": "stdout",
     "output_type": "stream",
     "text": [
      "10\n"
     ]
    }
   ],
   "source": [
    "let x = 10;\n",
    "\n",
    "console.log(x);"
   ]
  },
  {
   "cell_type": "code",
   "execution_count": 7,
   "id": "e00219ad-1a22-4101-b8a9-55ce23390a14",
   "metadata": {},
   "outputs": [
    {
     "ename": "SyntaxError",
     "evalue": "Identifier 'x' has already been declared",
     "execution_count": 7,
     "output_type": "error",
     "traceback": [
      "evalmachine.<anonymous>:1",
      "let x = 12;",
      "^",
      "",
      "SyntaxError: Identifier 'x' has already been declared",
      "    at Script.runInThisContext (node:vm:137:12)",
      "    at Object.runInThisContext (node:vm:317:38)",
      "    at run ([eval]:1020:15)",
      "    at onRunRequest ([eval]:864:18)",
      "    at onMessage ([eval]:828:13)",
      "    at process.emit (node:events:524:28)",
      "    at emit (node:internal/child_process:950:14)",
      "    at process.processTicksAndRejections (node:internal/process/task_queues:83:21)"
     ]
    }
   ],
   "source": [
    "let x = 12;\n",
    "\n",
    "console.log(x);"
   ]
  },
  {
   "cell_type": "markdown",
   "id": "4b95394c-1d1d-4248-a5ef-dd1477bc1eff",
   "metadata": {},
   "source": [
    "#### const"
   ]
  },
  {
   "cell_type": "markdown",
   "id": "51fc122c-4983-42ac-85d6-89855abbbb98",
   "metadata": {},
   "source": [
    ".declaration not possible\n",
    ".reassignment not possible\n",
    ".modifications not possible"
   ]
  },
  {
   "cell_type": "code",
   "execution_count": 8,
   "id": "6c0c7505-8688-4782-8787-98c8139369f0",
   "metadata": {},
   "outputs": [
    {
     "name": "stdout",
     "output_type": "stream",
     "text": [
      "10\n"
     ]
    }
   ],
   "source": [
    "const num = 10;\n",
    "console.log(num);"
   ]
  }
 ],
 "metadata": {
  "kernelspec": {
   "display_name": "JavaScript (Node.js)",
   "language": "javascript",
   "name": "javascript"
  },
  "language_info": {
   "file_extension": ".js",
   "mimetype": "application/javascript",
   "name": "javascript",
   "version": "20.19.0"
  }
 },
 "nbformat": 4,
 "nbformat_minor": 5
}
